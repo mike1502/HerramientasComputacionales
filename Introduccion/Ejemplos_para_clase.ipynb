{
 "cells": [
  {
   "cell_type": "code",
   "execution_count": 22,
   "id": "6e815bb7",
   "metadata": {},
   "outputs": [
    {
     "name": "stdout",
     "output_type": "stream",
     "text": [
      "Ingresa el valor del térmico cuadrático a= 1\n",
      "Ingresa el valor del térmico lineal b = -6\n",
      "Ingrese el valor del término independiente c = 9\n",
      "Las raíces de la ecuación son x1 = (3+0j) x2= (3+0j)\n"
     ]
    }
   ],
   "source": [
    "##Programa para calcular las raíces de una ecuación cuadrática ax^2+bx+c=0\n",
    "# Autor: Miguel Ángel Carrillo Lucía\n",
    "import cmath\n",
    "import math\n",
    "\n",
    "a=float(input(\"Ingresa el valor del térmico cuadrático a= \" ))\n",
    "b=float(input(\"Ingresa el valor del térmico lineal b = \"))\n",
    "c=float(input(\"Ingrese el valor del término independiente c = \" ))\n",
    "\n",
    "disc=cmath.sqrt(b**2-4*a*c)\n",
    "## Puede salir un error llamado ValueError: math domain error. Esto significa\n",
    "#el valor del discriminante es negativo y el valor es número complejo.\n",
    "#¿Solución?\n",
    "\n",
    "x1=(-b+disc)/2*a\n",
    "x2=(-b-disc)/2*a\n",
    "\n",
    "print(\"Las raíces de la ecuación son x1 =\", x1, \"x2=\", x2)"
   ]
  },
  {
   "cell_type": "code",
   "execution_count": 33,
   "id": "3d869bd8",
   "metadata": {},
   "outputs": [
    {
     "name": "stdout",
     "output_type": "stream",
     "text": [
      "12.0 -2.0\n"
     ]
    }
   ],
   "source": [
    "import math\n",
    "a=1\n",
    "b=-10\n",
    "c=-24\n",
    "y1=(-b+math.sqrt(b**2 - 4*a*c))/2*a\n",
    "y2=(-b-math.sqrt(b**2 - 4*a*c))/2*a\n",
    "\n",
    "print(y1,y2)"
   ]
  }
 ],
 "metadata": {
  "kernelspec": {
   "display_name": "Python 3 (ipykernel)",
   "language": "python",
   "name": "python3"
  },
  "language_info": {
   "codemirror_mode": {
    "name": "ipython",
    "version": 3
   },
   "file_extension": ".py",
   "mimetype": "text/x-python",
   "name": "python",
   "nbconvert_exporter": "python",
   "pygments_lexer": "ipython3",
   "version": "3.10.9"
  }
 },
 "nbformat": 4,
 "nbformat_minor": 5
}

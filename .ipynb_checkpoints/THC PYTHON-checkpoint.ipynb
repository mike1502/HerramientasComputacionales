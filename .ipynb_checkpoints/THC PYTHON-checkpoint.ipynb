{
 "cells": [
  {
   "cell_type": "markdown",
   "id": "3e1e234f",
   "metadata": {},
   "source": [
    "# TALLER DE HERRAMIENTAS COMPUTACIONALES\n",
    "## SEMESTRE: \n",
    "## PROFESORES\n",
    "## MIGUEL ÁNGEL CARRILLO LUCÍA\n",
    "## JESÚS IVÁN COSS CALDERÓN\n",
    "\n",
    "**Índice**   \n",
    "1. [Introducción a Python](#id1)\n",
    "2. [Estructura de datos avanzadas y módulos ](#id2)\n",
    "3. [Programación orientada a objetos](#id3)\n",
    "4. [Manipulación de archivos y datos](#id4)\n",
    "5. [Biblioteca para análisis de datos](#id5)\n",
    "6. [Proyecto final](#id6)\n",
    "## Introducción a Python<a name=\"id1\"></a>\n",
    "Texto del primer apartado\n",
    "## Estructura de datos avanzada y módulos<a name=\"id2\"></a>\n",
    "Texto del segundo apartado\n",
    "## Programación orientada a objetos<a name=\"id3\"></a>\n",
    "Texto del tercer apartado\n",
    "## Manipulación de archivos y datos<a name=\"id4\"></a>\n",
    "Texto del primer apartado\n",
    "## Biblioteca para análisis de datos<a name=\"id5\"></a>\n",
    "Texto del segundo apartado\n",
    "## Proyecto final<a name=\"id6\"></a>\n",
    "Texto del tercer apartado"
   ]
  },
  {
   "cell_type": "markdown",
   "id": "eca5e723",
   "metadata": {},
   "source": [
    "## Introducción a Python<a name=\"id1\"></a>\n",
    "Introducción a la programación\n",
    "    ¿Qué es la programación?\n",
    "    Breve historia de Python\n",
    "    Instalación y configuración del entorno de desarrollo (Jupyter notebook, spyder, Google Colaboratory)\n",
    "\n",
    "Conceptos básicos de Python\n",
    "    Sintáxis básica\n",
    "    Tipos de datos (numéros, cadenas, listas, tuplas, diccionarios)\n",
    "    Operadores (aritméticos, de comparación, lógicos)\n",
    "\n",
    "Control de flujo\n",
    "    Sentencias condicionales (if, elif, else)\n",
    "    Bucles (for, while)\n",
    "    Comprensión de listas\n",
    "\n",
    "Funciones\n",
    "    Definición y llamada de funciones\n",
    "    Parámetros y argumentos\n",
    "    Valores de retorno\n",
    "    Funciones lambda"
   ]
  },
  {
   "cell_type": "markdown",
   "id": "d10b535d",
   "metadata": {},
   "source": [
    "## Ejercicios\n",
    "1.- Sumar dos números ingresados por el usuario.\n",
    "2.- Restar dos números ingresados por el usuario y mostrar el resultado.\n",
    "3.- Multiplicar dos números ingresados por el usuario y mostrar el resultado.\n",
    "4.- Dividir dos números ingresados por el usuario y mostrar el resultado, asegurando que no se haga una división por cero.\n",
    "5.- Calcular el módulo (o resto).\n",
    "6.- Elevar un número a la potencia de otro número, ambos ingresados por el usuario.\n",
    "7.- Convertir grados Celsius a Fahrenheit y viceversa. Los grados deben ser ingresados por el usuario. Utilizar las otras escalas de temperatura. Hacerlo en forma de tabla.\n",
    "8.- Calcular el máximo común divisor (MCD) de dos números (o tres) ingresados por el usuario.\n",
    "9.- Calcular el mínimo común múltiplo (MCM) de dos números ingresados por el usuario.\n",
    "10.- Resolver la ecuación cuadrática del tipó (ax^2 + bx + c = 0 ) utilizando la fórmula general. \"a\", \"b\", \"c\" son proporcionados por  el usuario (graficar).\n",
    "11.- Calcular el factorial de un número ingresado por el usuario.\n",
    "12.- Determinar si un número ingresado por el usuario es primo o no.\n",
    "13.- Calcular la suma de los primeros \"n\" números enteros, donde \"n\" es ingresado por el usuario.\n",
    "14.- Encontrar los primeros \"n\" números de Fibonacci, con \"n\" ingresado por el usuario.\n",
    "15.- Calcular la suma de los cuadrados de los primeros \"n\" números naturales, donde \"n\" es ingresado poor el usuario.\n",
    "16.- Diseñe un programa que lea una secuencia de números ingresados por el usuario, calcule su promedio y determine cuál es el mayor y menor de ellos. "
   ]
  }
 ],
 "metadata": {
  "kernelspec": {
   "display_name": "Python 3 (ipykernel)",
   "language": "python",
   "name": "python3"
  },
  "language_info": {
   "codemirror_mode": {
    "name": "ipython",
    "version": 3
   },
   "file_extension": ".py",
   "mimetype": "text/x-python",
   "name": "python",
   "nbconvert_exporter": "python",
   "pygments_lexer": "ipython3",
   "version": "3.10.9"
  }
 },
 "nbformat": 4,
 "nbformat_minor": 5
}

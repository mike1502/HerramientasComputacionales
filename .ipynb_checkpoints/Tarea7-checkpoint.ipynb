{
 "cells": [
  {
   "cell_type": "markdown",
   "metadata": {
    "colab_type": "text",
    "id": "view-in-github"
   },
   "source": [
    "<a href=\"https://colab.research.google.com/github/mike1502/HerramientasComputacionales/blob/main/Tarea7.ipynb\" target=\"_parent\"><img src=\"https://colab.research.google.com/assets/colab-badge.svg\" alt=\"Open In Colab\"/></a>"
   ]
  },
  {
   "cell_type": "markdown",
   "metadata": {
    "id": "_RpanZE4eDZ6"
   },
   "source": [
    "**Tarea 7.**\n",
    "\n",
    "Instrucciones:\n",
    "\n",
    "*Resuelva de forma individual y en su totalidad los ejercicios.\n",
    "Para los ejercicios que incluyen gráficas, añada los elementos necesarios en el plot (título del gráfico, título de los ejes,\n",
    "leyendas, dibuje la grilla y use diferentes colores y símbolos).\n",
    "Documente a detalle cada línea de código.\n",
    "La fecha de entrega es el 17 de noviembre de 2023 a las 23:59.*"
   ]
  },
  {
   "cell_type": "markdown",
   "metadata": {
    "id": "UbLfcS_paiwg"
   },
   "source": [
    "1.- Con base en la definición de número primo, escriba una función que reciba un número entero e imprima 'True' si es primo o de lo contrario imprima 'False'. Tenga en cuenta que si el número es menor o igual a 1, se retorna como resultado \"Error en el Número\" y debe volver a preguntar hasta que la entrada sea valida."
   ]
  },
  {
   "cell_type": "markdown",
   "metadata": {
    "id": "kpvsArhsa-D4"
   },
   "source": [
    "2.- Sin utilizar librerías adicionales cree un arreglo de numéros enteros (entre 0 y 150) y calcule a través de funciones estándar o lambda lo siguiente:\n",
    "\n",
    "*   El promedio\n",
    "*   La varianza\n",
    "*   La desviación estándar\n",
    "*   Visualice los datos en un histograma.\n",
    "*   La suma de los números pares e impares.\n",
    "*   Los múltiplos de 2, 3 y 5."
   ]
  },
  {
   "cell_type": "markdown",
   "metadata": {
    "id": "dsPRj866bNik"
   },
   "source": [
    "3.- En la clase de ecuaciones diferenciales se pide a los estudiantes encontrar la solución del problema de valor inicial:\n",
    "\n",
    "\\begin{equation}\n",
    "y´=-y+x \\hspace{3cm} y(-1)=5.\n",
    "\\end{equation}\n",
    "\n",
    "\n",
    "Los estudiantes llegaron a la solución general cuya ecuación es:\n",
    "\n",
    "\\begin{equation}\n",
    "y=(x-1)+C e^{-x}\n",
    "\\end{equation}\n",
    "\n",
    "Apoye a sus compañeros y grafique en python la familia de curvas para la solución de la ecuación diferencial y en un sólo gráfico muestre de diferente color las curvas para los siguientes tres casos:\n",
    "\n",
    "*   para valores de C > 0\n",
    "*   cuando C = 0\n",
    "*   para valores de C < 0\n",
    "\n",
    "Señale en el gráfico las curvas que corresponden a cada uno de los tres casos."
   ]
  },
  {
   "cell_type": "markdown",
   "metadata": {
    "id": "cIc8M9Q9fODG"
   },
   "source": [
    "4.- Sea la función:\n",
    "\\begin{equation}\n",
    "\\frac{3x + 7}{x^2 - 4}\n",
    "\\end{equation}\n",
    "\n",
    "Utilizando la librería matplotlib:\n",
    "\n",
    "1.- Grafique la función con línea continua para un rango de -10 a 10, con más de 1000 muestras.\n",
    "\n",
    "2.- Investigue en la literatura cómo graficar las asíntotas horizontales y verticales. Muéstrelas en el gráfico con líneas punteadas.\n",
    "\n",
    "3.- Establezca límites en el eje \"y\" para evitar que la gráfica muestre valores muy altos o muy bajos cerca de las asíntotas verticales.\n",
    "\n",
    "4.- Añada una leyenda indicando los elementos presentes en la gráfica general."
   ]
  }
 ],
 "metadata": {
  "colab": {
   "include_colab_link": true,
   "provenance": []
  },
  "kernelspec": {
   "display_name": "Python 3 (ipykernel)",
   "language": "python",
   "name": "python3"
  },
  "language_info": {
   "codemirror_mode": {
    "name": "ipython",
    "version": 3
   },
   "file_extension": ".py",
   "mimetype": "text/x-python",
   "name": "python",
   "nbconvert_exporter": "python",
   "pygments_lexer": "ipython3",
   "version": "3.11.5"
  }
 },
 "nbformat": 4,
 "nbformat_minor": 1
}

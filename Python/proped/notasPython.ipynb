{
 "cells": [
  {
   "cell_type": "markdown",
   "metadata": {},
   "source": [
    "<font color=\"Teal\" face=\"Comic Sans MS,arial\">\n",
    "  <h1 align=\"center\"><i>Notas de python. </i></h1>\n",
    "  </font>\n",
    "  <font color=\"Black\" face=\"Comic Sans MS,arial\">\n",
    "  <h5 align=\"center\"><i>Profesor: M.en.C. Miguel Angel Pérez León.</i></h5>\n",
    "    <h5 align=\"center\"><i>Ayudante: Jesús Iván Coss Calderón.</i></h5>\n",
    "    <h5 align=\"center\"><i>Ayudante: M.en.C.Mario Arturo Nieto Butron.</i></h5>\n",
    "  <h5 align=\"center\"><i>Materia: Análisis Numérico.</i></h5>\n",
    "  </font>"
   ]
  },
  {
   "cell_type": "markdown",
   "metadata": {},
   "source": [
    "## Operadores aritméticos.\n",
    "\n",
    "En python se tienen las operaciones elementales del arimética, la suma, la multiplicación y división, las cuales podemos calcular de la siguiente manera.\n",
    "\n",
    "1. Suma :  $1+2= 3$"
   ]
  },
  {
   "cell_type": "code",
   "execution_count": 152,
   "metadata": {},
   "outputs": [
    {
     "data": {
      "text/plain": [
       "3"
      ]
     },
     "execution_count": 152,
     "metadata": {},
     "output_type": "execute_result"
    }
   ],
   "source": [
    "1+2"
   ]
  },
  {
   "cell_type": "markdown",
   "metadata": {},
   "source": [
    "2. Resta :  $1-2= -1$\n"
   ]
  },
  {
   "cell_type": "code",
   "execution_count": 153,
   "metadata": {},
   "outputs": [
    {
     "data": {
      "text/plain": [
       "-1"
      ]
     },
     "execution_count": 153,
     "metadata": {},
     "output_type": "execute_result"
    }
   ],
   "source": [
    "1-2"
   ]
  },
  {
   "cell_type": "markdown",
   "metadata": {},
   "source": [
    "3. Multiplicación:  $2*3=6$\n"
   ]
  },
  {
   "cell_type": "code",
   "execution_count": 154,
   "metadata": {},
   "outputs": [
    {
     "data": {
      "text/plain": [
       "6"
      ]
     },
     "execution_count": 154,
     "metadata": {},
     "output_type": "execute_result"
    }
   ],
   "source": [
    "2*3"
   ]
  },
  {
   "cell_type": "markdown",
   "metadata": {},
   "source": [
    "4. División: $2/3=0.6666666666666666$\n"
   ]
  },
  {
   "cell_type": "code",
   "execution_count": 155,
   "metadata": {},
   "outputs": [
    {
     "data": {
      "text/plain": [
       "0.6666666666666666"
      ]
     },
     "execution_count": 155,
     "metadata": {},
     "output_type": "execute_result"
    }
   ],
   "source": [
    "2/3"
   ]
  },
  {
   "cell_type": "markdown",
   "metadata": {},
   "source": [
    "5. Potencia: $2**3=8$"
   ]
  },
  {
   "cell_type": "code",
   "execution_count": 156,
   "metadata": {},
   "outputs": [
    {
     "data": {
      "text/plain": [
       "8"
      ]
     },
     "execution_count": 156,
     "metadata": {},
     "output_type": "execute_result"
    }
   ],
   "source": [
    "2**3"
   ]
  },
  {
   "cell_type": "markdown",
   "metadata": {},
   "source": [
    "## Tipos de datos.\n",
    "\n",
    "En los lenguajes de programación, se tiene de manera estándar cuatro tipos de variable: entero, flotante, caracter y boleano"
   ]
  },
  {
   "cell_type": "code",
   "execution_count": 38,
   "metadata": {},
   "outputs": [
    {
     "name": "stdout",
     "output_type": "stream",
     "text": [
      "el tipo de dato de 5 es <class 'int'>\n",
      "el tipo de dato de 5.000000 es  <class 'float'>\n",
      "el tipo de dato de 5 es <class 'str'>\n",
      "el tipo de dato de True es <class 'bool'>\n"
     ]
    }
   ],
   "source": [
    "entero=5\n",
    "print('el tipo de dato de %d es %s'%(entero,type(5)))\n",
    "flotante=5.0\n",
    "print('el tipo de dato de %f es  %s'%(flotante,type(5.0)))\n",
    "cadena=\"5\"\n",
    "print('el tipo de dato de %s es %s'%(cadena,type(\"5\")))\n",
    "boleano=True\n",
    "print(\"el tipo de dato de %r es %s\"%(boleano,type(True)))"
   ]
  },
  {
   "cell_type": "markdown",
   "metadata": {},
   "source": [
    "### Otro tipo "
   ]
  },
  {
   "cell_type": "markdown",
   "metadata": {},
   "source": [
    "Un dato muy usado es aquél que representa al número complejo, el cual se declara de la siguiente manera:"
   ]
  },
  {
   "cell_type": "code",
   "execution_count": 44,
   "metadata": {},
   "outputs": [
    {
     "data": {
      "text/plain": [
       "complex"
      ]
     },
     "execution_count": 44,
     "metadata": {},
     "output_type": "execute_result"
    }
   ],
   "source": [
    "complejo = 1.2 + 5.0j\n",
    "type(complejo)"
   ]
  },
  {
   "cell_type": "markdown",
   "metadata": {},
   "source": [
    "## Casteo de variables.\n",
    "\n",
    "En ocasiones cuando nos encontramos programando necesitamos realizar una pequeña transformación a la variables para poder operarlas con el criterio que necesitemos, el casteo es dicha transformación y para cada variable se hace de manera diferente, a continuación se muestran los comandos en python para castear variables."
   ]
  },
  {
   "cell_type": "code",
   "execution_count": 6,
   "metadata": {},
   "outputs": [
    {
     "name": "stdout",
     "output_type": "stream",
     "text": [
      " de flotante 2.579000 a entero 2 \n",
      "\n",
      " de entero 2 a flotante 2.000000 \n",
      "\n",
      " de flotante 2.500000 a cadena 2.5 \n",
      "\n",
      " de cadena 5 a flotante 5.000000  \n",
      "\n"
     ]
    }
   ],
   "source": [
    "print(\" de flotante %f a entero %d \\n\"%(2.579,int(2.579)))\n",
    "\n",
    "print(\" de entero %d a flotante %f \\n\"%(2,float(2)))\n",
    "\n",
    "print(\" de flotante %f a cadena %s \\n\"%(2.5,str(2.5)))\n",
    "\n",
    "print(\" de cadena %s a flotante %f  \\n\"%(\"5\",float(\"5\")))"
   ]
  },
  {
   "cell_type": "markdown",
   "metadata": {},
   "source": [
    "## Comparaciones.\n",
    "\n",
    "En python, al igual que en otros lenguajes se tiene la manera de comparar dos números, arrays, a continuación se presenta un tabla con los comparativos.\n",
    "\n",
    "| Operación. | Símbolo. |\n",
    "| :-:  | :-: |\n",
    "Igual a (comparación)| == |\n",
    "Distinto de (comparación)| != o <>|\n",
    "Mayor que, Menor que| >, <|\n",
    "Mayor o igual, Menor o igual| >=, =<|\n",
    "y, o |and, or|\n",
    "cierto, falso| True,False|\n",
    "\n",
    "En el siguiente fragmento de código se compara si el número 8 es mayor a 5."
   ]
  },
  {
   "cell_type": "code",
   "execution_count": 45,
   "metadata": {},
   "outputs": [
    {
     "name": "stdout",
     "output_type": "stream",
     "text": [
      "True\n"
     ]
    }
   ],
   "source": [
    "resultado = 8 > 5\n",
    "print(resultado)"
   ]
  },
  {
   "cell_type": "markdown",
   "metadata": {},
   "source": [
    "En el siguiente bloque se añade el operador lógico \" or \"  se cumple cuando alguna de las proposiciones es verdadera, también se hacen comparaciones de mayor que en el siguiente renglón."
   ]
  },
  {
   "cell_type": "code",
   "execution_count": 46,
   "metadata": {},
   "outputs": [
    {
     "name": "stdout",
     "output_type": "stream",
     "text": [
      "True\n"
     ]
    }
   ],
   "source": [
    "resultado = (4 > 8) or (3 > 2)\n",
    "print(resultado)"
   ]
  },
  {
   "cell_type": "markdown",
   "metadata": {},
   "source": [
    "El operador lógico \" and \" se cumple cuando ambas condiciones son verdaderas."
   ]
  },
  {
   "cell_type": "code",
   "execution_count": 47,
   "metadata": {},
   "outputs": [
    {
     "name": "stdout",
     "output_type": "stream",
     "text": [
      "False\n"
     ]
    }
   ],
   "source": [
    "resultado = True and False\n",
    "print(resultado)"
   ]
  },
  {
   "cell_type": "code",
   "execution_count": 48,
   "metadata": {},
   "outputs": [
    {
     "name": "stdout",
     "output_type": "stream",
     "text": [
      "False\n"
     ]
    }
   ],
   "source": [
    "resultado = (4 > 8) and (3 > 2)\n",
    "print(resultado)"
   ]
  },
  {
   "cell_type": "markdown",
   "metadata": {},
   "source": [
    "El comparativo \" != \" denota que dos valores son distintos."
   ]
  },
  {
   "cell_type": "code",
   "execution_count": 49,
   "metadata": {},
   "outputs": [
    {
     "name": "stdout",
     "output_type": "stream",
     "text": [
      "True\n"
     ]
    }
   ],
   "source": [
    "resultado= (5!=1)\n",
    "print(resultado)"
   ]
  },
  {
   "cell_type": "markdown",
   "metadata": {},
   "source": [
    "Por último el comparativo de igualdad de denota \" == \""
   ]
  },
  {
   "cell_type": "code",
   "execution_count": 51,
   "metadata": {},
   "outputs": [
    {
     "name": "stdout",
     "output_type": "stream",
     "text": [
      "True\n"
     ]
    }
   ],
   "source": [
    "resultado= (5==round(5.2))\n",
    "print(resultado)"
   ]
  },
  {
   "cell_type": "markdown",
   "metadata": {},
   "source": [
    "## Cadenas.\n",
    "\n",
    "Las variables de tipo caracter se declaran haciendo uso de las comillas dobles \"  \"  o comillas simples  '  ' , dentro de las comillas iría la palabra.\n",
    "\n",
    "\n",
    "\n",
    "Para obtener la longitud de la cadena , se hace con el comando len(frase), recuerde que los espacios en blanco también cuentan como caracter.\n",
    "\n",
    "Algunos propiedades que tienen las cadenas, es poder convertirlas en mayúsculas o minúsculas , para eso se utiliza la notación el punto de la siguiente manera:\n",
    "\n",
    ".upper() es para convertir a mayúsculas y .lower() es para convertir a minúsculas, también puedes reemplazar una letra o frase de la cadena conel comando .replace()."
   ]
  },
  {
   "cell_type": "code",
   "execution_count": 38,
   "metadata": {},
   "outputs": [
    {
     "name": "stdout",
     "output_type": "stream",
     "text": [
      "longitud de la cadena 75\n",
      "\n",
      "más lejos, \n",
      "\n",
      "Si he logr\n",
      "\n",
      "SI HE LOGRADO VER MÁS LEJOS, HA SIDO PORQUE HE SUBIDO A HOMBROS DE GIGANTES\n",
      "\n",
      "si he logrado ver más lejos, ha sido porque he subido a hombros de gigantes\n",
      "\n"
     ]
    },
    {
     "data": {
      "text/plain": [
       "'Si he logrado ver más lejos, ha sido porque he subido a la chepa de gigantes'"
      ]
     },
     "execution_count": 38,
     "metadata": {},
     "output_type": "execute_result"
    }
   ],
   "source": [
    "frase = \"Si he logrado ver más lejos, ha sido porque he subido a hombros de gigantes\"\n",
    "print('longitud de la cadena %d\\n'%len(frase))\n",
    "\n",
    "print(frase[18:29]+'\\n') # barrido de cadena \n",
    "print(frase[:10]+'\\n') # barrido de cadena \n",
    "\n",
    "print(frase.upper()+'\\n')\n",
    "\n",
    "print(frase.lower()+'\\n')\n",
    "\n",
    "frase.replace(\"hombros\", \"la chepa\")"
   ]
  },
  {
   "cell_type": "markdown",
   "metadata": {},
   "source": [
    "El slicing consiste en recorrer la cadena por secciones, en el ejmplo anterior \"frase[18:29]\" lo estas recorriendo de la posición 18 a la 28, pues python empieza a indexar desde la posición cero."
   ]
  },
  {
   "cell_type": "markdown",
   "metadata": {},
   "source": [
    "## Formato de texto.\n",
    "\n",
    "En ocasiones necesitamos que el resultado de una operación sea visible en pantalla, para esto se tiene tres diferentes formas básicas para imprimir en pantalla.\n",
    "\n",
    "Primero se tiene la concatenación del formato con la cadena, para esto necesitamos poner el tipo de dato que se imprimirá ( recuerde que para flotante es %f, entero %d o %i, cadena %s , bool %b ) seguido de un simbolo de porcentaje (%) y entre paréntesis la variable que se imprimirá, a continuación se visualiza un ejemplo."
   ]
  },
  {
   "cell_type": "code",
   "execution_count": 77,
   "metadata": {},
   "outputs": [
    {
     "name": "stdout",
     "output_type": "stream",
     "text": [
      "1267650600228229401496703205376.0000000000\n"
     ]
    }
   ],
   "source": [
    "print(\"%.10f\" % (2.0**100)) ## cantidad de numeros despues del punto"
   ]
  },
  {
   "cell_type": "code",
   "execution_count": 78,
   "metadata": {},
   "outputs": [
    {
     "name": "stdout",
     "output_type": "stream",
     "text": [
      "3.56700e-04\n"
     ]
    }
   ],
   "source": [
    "print(\"%.5e\" % 0.0003567) ## notacion cientifica "
   ]
  },
  {
   "cell_type": "markdown",
   "metadata": {},
   "source": [
    "Se tiene otra manera de imprimir, que es concatenando la cadena de impresión \" {: signo . decimales tipo de dato} \" con el comando \".format()\"  y dentro del format, se coloca el número a imprimir, a continuación se muestra un ejemplo."
   ]
  },
  {
   "cell_type": "code",
   "execution_count": 6,
   "metadata": {},
   "outputs": [
    {
     "name": "stdout",
     "output_type": "stream",
     "text": [
      "+3.14\n"
     ]
    }
   ],
   "source": [
    "print(\"{:+.2f}\".format(+3.1415926))"
   ]
  },
  {
   "cell_type": "code",
   "execution_count": 12,
   "metadata": {},
   "outputs": [
    {
     "name": "stdout",
     "output_type": "stream",
     "text": [
      "ho\n"
     ]
    }
   ],
   "source": [
    "print(\"{:.2s}\".format(\"hola\"))"
   ]
  },
  {
   "cell_type": "markdown",
   "metadata": {},
   "source": [
    "## Listas. \n",
    "\n",
    "Una lista es una secuencia de valores, que pueden variar por el tipo de dato, es decir, en un lista podemos tener flotantes, enteros, cadenas y booleanos.\n",
    "\n",
    "Para definir una lista, siempre recomendable inicializarla como una lista vacia y posteriormente agregar los datos correspondientes."
   ]
  },
  {
   "cell_type": "code",
   "execution_count": 54,
   "metadata": {},
   "outputs": [
    {
     "name": "stdout",
     "output_type": "stream",
     "text": [
      "[]\n"
     ]
    }
   ],
   "source": [
    "lista=[] # lista vacia \n",
    "print(lista)"
   ]
  },
  {
   "cell_type": "markdown",
   "metadata": {},
   "source": [
    "El método split, separa en palabras una cadena de tipo frase"
   ]
  },
  {
   "cell_type": "code",
   "execution_count": 82,
   "metadata": {},
   "outputs": [
    {
     "name": "stdout",
     "output_type": "stream",
     "text": [
      "['A', 'hombros', 'de', 'gigantes']\n"
     ]
    }
   ],
   "source": [
    "frase=\"A hombros de gigantes\"\n",
    "print(frase.split())  # separa la frase en fragmentos \n",
    "\n",
    "estrellas = [\"Alhena\", \"Mizar\", \"Cor Caroli\", \"Nunki\", \"Sadr\"]\n"
   ]
  },
  {
   "cell_type": "markdown",
   "metadata": {},
   "source": [
    "Nuevamente el slicing puede realizarse, pero ahora en una lista se recorre sobre los elementos , como se visualiza en el siguiente bloque."
   ]
  },
  {
   "cell_type": "code",
   "execution_count": 83,
   "metadata": {},
   "outputs": [
    {
     "name": "stdout",
     "output_type": "stream",
     "text": [
      "['Mizar', 'Cor Caroli']\n"
     ]
    }
   ],
   "source": [
    "print(estrellas[1:3]) ## barrido "
   ]
  },
  {
   "cell_type": "markdown",
   "metadata": {},
   "source": [
    "Para agregar elementos nuevos a la lista, de manera usual se utiliza el método \".append(x)\" , este agrega el elemento x al final de la lista, por otro lado si se desea eliminar algún elemento de la lista, se utiliza el método \".remove()\" y dentro de los paréntesis el elemento que quiere quitar."
   ]
  },
  {
   "cell_type": "code",
   "execution_count": 101,
   "metadata": {},
   "outputs": [
    {
     "name": "stdout",
     "output_type": "stream",
     "text": [
      "['Alhena', 'Mizar', 'Cor Caroli', 'Nunki', 'Sadr', 'Ras Algethi']\n",
      "['Alhena', 'Mizar', 'Cor Caroli', 'Nunki', 'Sadr']\n"
     ]
    }
   ],
   "source": [
    "estrellas.append(\"Ras Algethi\")\n",
    "print(estrellas)\n",
    "estrellas.remove(\"Ras Algethi\")\n",
    "print(estrellas)"
   ]
  },
  {
   "cell_type": "code",
   "execution_count": 103,
   "metadata": {},
   "outputs": [
    {
     "name": "stdout",
     "output_type": "stream",
     "text": [
      "['Alhena', 'Cor Caroli', 'Mizar', 'Nunki', 'Sadr']\n"
     ]
    }
   ],
   "source": [
    "estrellas.sort()  ## ordena la lista\n",
    "print(estrellas)"
   ]
  },
  {
   "cell_type": "markdown",
   "metadata": {},
   "source": [
    "El método \".index(x)\" lo que hace es buscar el índice del elemento x, en la lista."
   ]
  },
  {
   "cell_type": "code",
   "execution_count": 106,
   "metadata": {},
   "outputs": [
    {
     "data": {
      "text/plain": [
       "1"
      ]
     },
     "execution_count": 106,
     "metadata": {},
     "output_type": "execute_result"
    }
   ],
   "source": [
    "estrellas.index('Cor Caroli') ## encuentra el indice de Cor Caroli"
   ]
  },
  {
   "cell_type": "markdown",
   "metadata": {},
   "source": [
    "El comando \"range\" crea uan lista de elemento en el rango que se le pida, si pones \"range(5)\" te genera una lista del 0 al 4, como puede apreciarse en el siguiente bloque, por otro lado, si pones \"range(10,21,2)\" te genera una lista del 10 al 21 con un salto de dos a dos entre elementos."
   ]
  },
  {
   "cell_type": "code",
   "execution_count": 98,
   "metadata": {},
   "outputs": [
    {
     "data": {
      "text/plain": [
       "[0, 1, 2, 3, 4]"
      ]
     },
     "execution_count": 98,
     "metadata": {},
     "output_type": "execute_result"
    }
   ],
   "source": [
    "list(range(5)) # crea una lista de iteradores"
   ]
  },
  {
   "cell_type": "code",
   "execution_count": 86,
   "metadata": {},
   "outputs": [
    {
     "data": {
      "text/plain": [
       "[10, 12, 14, 16, 18, 20]"
      ]
     },
     "execution_count": 86,
     "metadata": {},
     "output_type": "execute_result"
    }
   ],
   "source": [
    "list(range(10, 21, 2))"
   ]
  },
  {
   "cell_type": "markdown",
   "metadata": {},
   "source": [
    "Si quieres comprobar que un elemento está en tu lista, solo debes poner x in lista, esto devuelve un valor booleano."
   ]
  },
  {
   "cell_type": "code",
   "execution_count": 109,
   "metadata": {},
   "outputs": [
    {
     "name": "stdout",
     "output_type": "stream",
     "text": [
      "True\n"
     ]
    }
   ],
   "source": [
    "a=range(10, 21, 2)\n",
    "print(10 in a) "
   ]
  },
  {
   "cell_type": "markdown",
   "metadata": {},
   "source": [
    "## Diccionarios.\n",
    "\n",
    "Los diccionarios, son otra estructura de dato que se tiene en python, la manera de declarar un diccionario se observa en el siguiente bloque, note que con comillas simples se introducen los nombres de la variable seguido de dos puntos se introduce el valor que toma dicha variable, el cual no se acota a valores numéricos."
   ]
  },
  {
   "cell_type": "code",
   "execution_count": 113,
   "metadata": {},
   "outputs": [
    {
     "name": "stdout",
     "output_type": "stream",
     "text": [
      "<class 'dict'>\n"
     ]
    }
   ],
   "source": [
    "star = {'name': 'Hamal', 'mag': 2.00, 'SpT': 'K2III', 'dist': 66}\n",
    "print(type(star))"
   ]
  },
  {
   "cell_type": "markdown",
   "metadata": {},
   "source": [
    "Cabe mencionar que la clase de dicha estructura es \"dict\", si desea conocer los nombres de todas las variables en el diccionario se hace de la siguiente manera nombre_diccionario.keys() y los valores los obtienes con nombre_diccionario.values(), para agregar una nueva variable se realiza de la siguiente manera ,nombre_diccionario['nueva_variable']=valor_nuevo"
   ]
  },
  {
   "cell_type": "code",
   "execution_count": 114,
   "metadata": {},
   "outputs": [
    {
     "data": {
      "text/plain": [
       "dict_keys(['name', 'mag', 'SpT', 'dist'])"
      ]
     },
     "execution_count": 114,
     "metadata": {},
     "output_type": "execute_result"
    }
   ],
   "source": [
    "star.keys()"
   ]
  },
  {
   "cell_type": "code",
   "execution_count": 115,
   "metadata": {},
   "outputs": [
    {
     "data": {
      "text/plain": [
       "dict_values(['Hamal', 2.0, 'K2III', 66])"
      ]
     },
     "execution_count": 115,
     "metadata": {},
     "output_type": "execute_result"
    }
   ],
   "source": [
    "star.values()"
   ]
  },
  {
   "cell_type": "code",
   "execution_count": 116,
   "metadata": {},
   "outputs": [
    {
     "name": "stdout",
     "output_type": "stream",
     "text": [
      "Hamal\n"
     ]
    }
   ],
   "source": [
    "print( star['name'] )"
   ]
  },
  {
   "cell_type": "code",
   "execution_count": 117,
   "metadata": {},
   "outputs": [
    {
     "data": {
      "text/plain": [
       "dict_keys(['name', 'mag', 'SpT', 'dist', 'paralax'])"
      ]
     },
     "execution_count": 117,
     "metadata": {},
     "output_type": "execute_result"
    }
   ],
   "source": [
    "star['paralax'] = 49.56\n",
    "star.keys()"
   ]
  },
  {
   "cell_type": "markdown",
   "metadata": {},
   "source": [
    "La siguiente función es un ejemplo, en el cual se usa lo visto anteriormente de un lista y un diccionario, simplemente se extraen los valores del diccionario."
   ]
  },
  {
   "cell_type": "code",
   "execution_count": 55,
   "metadata": {},
   "outputs": [
    {
     "name": "stdout",
     "output_type": "stream",
     "text": [
      "[2.7, 2.13, 5.7]\n"
     ]
    }
   ],
   "source": [
    "diccionario = {'python': 2.7, 'zope': 2.13, 'plone': 5.7}\n",
    "\n",
    "l=[]\n",
    "for i in diccionario.keys():\n",
    "    l.append(diccionario[i])\n",
    "    \n",
    "print(l)"
   ]
  },
  {
   "cell_type": "markdown",
   "metadata": {},
   "source": [
    "## Asignación múltiple."
   ]
  },
  {
   "cell_type": "code",
   "execution_count": 17,
   "metadata": {},
   "outputs": [
    {
     "name": "stdout",
     "output_type": "stream",
     "text": [
      "string, 15, True\n"
     ]
    }
   ],
   "source": [
    "a, b, c = 'string', 15, True # declaracion de tres variables, de manera simultánea.\n",
    "print(\"{}, {}, {}\".format(a,b,c))"
   ]
  },
  {
   "cell_type": "markdown",
   "metadata": {},
   "source": [
    "## Funciones predefinidas. "
   ]
  },
  {
   "cell_type": "code",
   "execution_count": 8,
   "metadata": {},
   "outputs": [
    {
     "data": {
      "text/plain": [
       "3"
      ]
     },
     "execution_count": 8,
     "metadata": {},
     "output_type": "execute_result"
    }
   ],
   "source": [
    "abs(-3) # saca el valor absoluto"
   ]
  },
  {
   "cell_type": "code",
   "execution_count": 9,
   "metadata": {},
   "outputs": [
    {
     "data": {
      "text/plain": [
       "2.15"
      ]
     },
     "execution_count": 9,
     "metadata": {},
     "output_type": "execute_result"
    }
   ],
   "source": [
    "round(2.1451, 2) # redondea a dos decimales"
   ]
  },
  {
   "cell_type": "code",
   "execution_count": 10,
   "metadata": {},
   "outputs": [
    {
     "data": {
      "text/plain": [
       "0"
      ]
     },
     "execution_count": 10,
     "metadata": {},
     "output_type": "execute_result"
    }
   ],
   "source": [
    "4%2 # obtiene el residuo 4 divido entre 2 "
   ]
  },
  {
   "cell_type": "code",
   "execution_count": 15,
   "metadata": {},
   "outputs": [
    {
     "data": {
      "text/plain": [
       "3"
      ]
     },
     "execution_count": 15,
     "metadata": {},
     "output_type": "execute_result"
    }
   ],
   "source": [
    "1+2 # suma arimética"
   ]
  },
  {
   "cell_type": "code",
   "execution_count": 13,
   "metadata": {},
   "outputs": [
    {
     "data": {
      "text/plain": [
       "'Hola clase'"
      ]
     },
     "execution_count": 13,
     "metadata": {},
     "output_type": "execute_result"
    }
   ],
   "source": [
    "\"Hola\" + \" \" + \"clase\" # sumar cadenas es concatenarlas."
   ]
  },
  {
   "cell_type": "code",
   "execution_count": 16,
   "metadata": {},
   "outputs": [
    {
     "name": "stdout",
     "output_type": "stream",
     "text": [
      "Hola clase\n"
     ]
    }
   ],
   "source": [
    "print(\"Hola clase\") # aqui se muestra la concatenación"
   ]
  },
  {
   "cell_type": "markdown",
   "metadata": {},
   "source": [
    "## Funciones.\n",
    "\n",
    "Para elaborar una función en python , se comienza con la palabra reservada Def posterior al nombre de la funcion y entre paréntesis las variables que puedan ser utilizadas en el código.\n",
    "\n",
    "Un ejemplo de la declaración de una función sería el siguiente.\n",
    "\n",
    "def nombre():\n",
    "\n",
    "    return"
   ]
  },
  {
   "cell_type": "code",
   "execution_count": 20,
   "metadata": {},
   "outputs": [],
   "source": [
    "def nombre():\n",
    "    print(\"Hola clase\")\n",
    "    return"
   ]
  },
  {
   "cell_type": "code",
   "execution_count": 21,
   "metadata": {},
   "outputs": [
    {
     "name": "stdout",
     "output_type": "stream",
     "text": [
      "Hola clase\n"
     ]
    }
   ],
   "source": [
    "nombre() # ejecución de la función."
   ]
  },
  {
   "cell_type": "code",
   "execution_count": 18,
   "metadata": {},
   "outputs": [
    {
     "name": "stdout",
     "output_type": "stream",
     "text": [
      "Hola clase\n",
      "variable tiene contenido: None\n"
     ]
    }
   ],
   "source": [
    "variable=nombre() # se ejecuta la función\n",
    "print(\"variable tiene contenido: {}\".format(variable))"
   ]
  },
  {
   "cell_type": "markdown",
   "metadata": {},
   "source": [
    "## Funciones con paso de parámetros. \n",
    "\n",
    "También se tienen las funciones que reciben parámetros, se declaran de la misma manera que las anteriores, exceptuando que dentro de los paréntesis que le siguen al nombre, se colocan las variables a recibir que se ocuparán en el programa.\n",
    "\n",
    "def nombre (Variable1, Variable2):\n",
    "    \n",
    "    acción con las variables\n",
    "    \n",
    "    return"
   ]
  },
  {
   "cell_type": "code",
   "execution_count": 23,
   "metadata": {},
   "outputs": [],
   "source": [
    "def suma(a,b): # esta función recibe a y b como parámetros.\n",
    "    sumar=a+b # efectua la suma \n",
    "    print(\"La suma de %f + %f es : %f\"%(a,b,sumar))\n",
    "    return "
   ]
  },
  {
   "cell_type": "code",
   "execution_count": 24,
   "metadata": {},
   "outputs": [
    {
     "name": "stdout",
     "output_type": "stream",
     "text": [
      "La suma de 1.000000 + 2.000000 es : 3.000000\n"
     ]
    }
   ],
   "source": [
    "suma(1,2) # se ejecuta la función suma "
   ]
  },
  {
   "cell_type": "markdown",
   "metadata": {},
   "source": [
    "## Funciones con paso de parámetros y devolución de valores.\n",
    "\n",
    "La mayoría de las veces necesitamos que una función devuelva valores, por lo tanto, seguido del return se coloca el nobmre de las variables que devuelve el programa, la forma de declarar la función es la misma que en los casos anteriores. \n",
    "\n",
    "def nombre (Variable1, Variable2):\n",
    "    \n",
    "    acción con las variables\n",
    "    \n",
    "    return devolver valor"
   ]
  },
  {
   "cell_type": "code",
   "execution_count": 21,
   "metadata": {},
   "outputs": [],
   "source": [
    "def suma(a,b):# esta función recibe a y b como parámetros.\n",
    "    sumar=a+b # efectua la suma \n",
    "    return sumar # devuelve el valor sumar "
   ]
  },
  {
   "cell_type": "code",
   "execution_count": 22,
   "metadata": {},
   "outputs": [
    {
     "name": "stdout",
     "output_type": "stream",
     "text": [
      "La suma de 1 + 2 es : 3.000000\n"
     ]
    }
   ],
   "source": [
    "sumados=suma(1,2) # se ejecuta la función suma \n",
    "print(\"La suma de 1 + 2 es : %f\"%(sumados))"
   ]
  },
  {
   "cell_type": "markdown",
   "metadata": {},
   "source": [
    "## Funciones Lambda \n",
    "\n",
    "En Python, una función Lambda se refiere a una pequeña función anónima. Las llamamos “funciones anónimas” porque técnicamente carecen de nombre, en contraste con las funciones normales pues se definen con la palabra clave estándar **def** que utilizamos en Python.\n",
    "\n",
    "En su lugar, las funciones Lambda se definen como una línea que ejecuta una sola expresión. Este tipo de funciones pueden tomar cualquier número de argumentos, pero solo pueden tener una expresión la forma de declararse es la siguiente.\n",
    "\n",
    "nombre= lambda parametro_a_recibir : parametro_de_salida "
   ]
  },
  {
   "cell_type": "code",
   "execution_count": 23,
   "metadata": {},
   "outputs": [
    {
     "data": {
      "text/plain": [
       "27"
      ]
     },
     "execution_count": 23,
     "metadata": {},
     "output_type": "execute_result"
    }
   ],
   "source": [
    "cubo = lambda x: x**3\n",
    "\n",
    "cubo(3)"
   ]
  },
  {
   "cell_type": "code",
   "execution_count": 24,
   "metadata": {},
   "outputs": [
    {
     "name": "stdout",
     "output_type": "stream",
     "text": [
      "hola\n"
     ]
    }
   ],
   "source": [
    "imprimir= lambda cadena:print(cadena)\n",
    "\n",
    "imprimir(\"hola\")"
   ]
  },
  {
   "cell_type": "markdown",
   "metadata": {},
   "source": [
    "## Funciones args. \n",
    "\n",
    "En Python, el parámetro especial **args** en una función se usa para pasar, de forma opcional, un número variable de argumentos posicionales. El programa recibe los parámetros como una tupla."
   ]
  },
  {
   "cell_type": "code",
   "execution_count": 29,
   "metadata": {},
   "outputs": [],
   "source": [
    "def sus(*args): # args es lo que denota a todos los argumentos\n",
    "    value = 0\n",
    "    for n in args:\n",
    "        value += n\n",
    "    return value"
   ]
  },
  {
   "cell_type": "code",
   "execution_count": 56,
   "metadata": {},
   "outputs": [
    {
     "data": {
      "text/plain": [
       "45"
      ]
     },
     "execution_count": 56,
     "metadata": {},
     "output_type": "execute_result"
    }
   ],
   "source": [
    "sus(2, 3, 4, 6, 9, 21) # ejecución de la función."
   ]
  },
  {
   "cell_type": "code",
   "execution_count": 57,
   "metadata": {},
   "outputs": [],
   "source": [
    "def argu(*args):\n",
    "    return args"
   ]
  },
  {
   "cell_type": "code",
   "execution_count": 58,
   "metadata": {},
   "outputs": [
    {
     "data": {
      "text/plain": [
       "(2, 3, 4, 6, 9, 21)"
      ]
     },
     "execution_count": 58,
     "metadata": {},
     "output_type": "execute_result"
    }
   ],
   "source": [
    "argu(2, 3, 4, 6, 9, 21)\n",
    "print(type(argu(2, 3, 4, 6, 9, 21)))"
   ]
  },
  {
   "cell_type": "markdown",
   "metadata": {},
   "source": [
    "## Funciones  kwargs \n",
    "\n",
    "En Python, el parámetro especial **kwargs** en una función se usa para pasar, de forma opcional, un número variable de argumentos con nombre. El parámetro recibe los argumentos como un diccionario."
   ]
  },
  {
   "cell_type": "code",
   "execution_count": 31,
   "metadata": {},
   "outputs": [],
   "source": [
    "def f(**kwargs): # kwargs denota a los argumentos que se reciben con nombre\n",
    "    return kwargs"
   ]
  },
  {
   "cell_type": "code",
   "execution_count": 32,
   "metadata": {},
   "outputs": [
    {
     "data": {
      "text/plain": [
       "{'a': 1, 'b': True, 'h': 50, 'z': 'Hello, world!'}"
      ]
     },
     "execution_count": 32,
     "metadata": {},
     "output_type": "execute_result"
    }
   ],
   "source": [
    "f(a=1, b=True, h=50, z=\"Hello, world!\") # se ejecuta "
   ]
  },
  {
   "cell_type": "markdown",
   "metadata": {},
   "source": [
    "## entrada de datos.\n",
    "\n",
    "Para ingresar datos desde el teclado, se utiliza la función \" input \" seguido de paréntesis y dentro la cadena que se imprime en pantalla-"
   ]
  },
  {
   "cell_type": "code",
   "execution_count": 1,
   "metadata": {},
   "outputs": [
    {
     "name": "stdout",
     "output_type": "stream",
     "text": [
      "Dame un numero: 5\n",
      "<class 'str'>\n"
     ]
    }
   ],
   "source": [
    "x = input('Dame un numero: ')\n",
    "print(type(x))"
   ]
  },
  {
   "cell_type": "markdown",
   "metadata": {},
   "source": [
    "Se convierte a valor numérico la variable \" x \", si se desea ocupar para hacer cálculo numérico. "
   ]
  },
  {
   "cell_type": "code",
   "execution_count": 2,
   "metadata": {},
   "outputs": [
    {
     "name": "stdout",
     "output_type": "stream",
     "text": [
      "<class 'float'>\n"
     ]
    }
   ],
   "source": [
    "x=float(x) # casteo de la variable\n",
    "print(type(x))"
   ]
  },
  {
   "cell_type": "code",
   "execution_count": 3,
   "metadata": {},
   "outputs": [
    {
     "name": "stdout",
     "output_type": "stream",
     "text": [
      "Dame un numero: 5\n",
      "<class 'float'>\n"
     ]
    }
   ],
   "source": [
    "y = float(input('Dame un numero: '))\n",
    "print(type(y))"
   ]
  },
  {
   "cell_type": "code",
   "execution_count": 4,
   "metadata": {},
   "outputs": [
    {
     "name": "stdout",
     "output_type": "stream",
     "text": [
      "dame tu nombre:Ivan\n",
      "Hola  Ivan\n"
     ]
    }
   ],
   "source": [
    "cadena=input('dame tu nombre:')\n",
    "print(\"Hola \",cadena)"
   ]
  },
  {
   "cell_type": "markdown",
   "metadata": {},
   "source": [
    "## Estructuras de control. \n",
    "\n",
    "Las setencias de control son utilizadas cuando se desea hacer alguna comparación. en general los  lenguajes de programación convencionales presentan una sentencia especial cuyo significado es:\n",
    "\n",
    "\" Cuando llegues a este punto, ejecuta esta(s) acción(es) sólo si esta condición es cierta \".\n",
    "\n",
    "### Sentencia if.\n",
    "\n",
    "if condicion :\n",
    "    \n",
    "    accion\n",
    "    \n",
    "\n",
    "Suponga que quiere saber si el número que introduce es par, para esto utilizaremos dos funciones vistas previamente."
   ]
  },
  {
   "cell_type": "code",
   "execution_count": 9,
   "metadata": {},
   "outputs": [
    {
     "name": "stdout",
     "output_type": "stream",
     "text": [
      "Dame un numero: 4\n",
      "es par\n"
     ]
    }
   ],
   "source": [
    "y = int(input('Dame un numero: ')) # se lee un número desde el teclado.\n",
    "if (y%2) == 0: # si el módulo es cero entonces.\n",
    "    print(\"es par\")"
   ]
  },
  {
   "cell_type": "markdown",
   "metadata": {},
   "source": [
    "### Setencia if,elif, else.\n",
    "\n",
    "La sentencia elif es equivalente a elseif de muchos lenguajes, la estructura if -elif-else, que se puede leer \n",
    "\n",
    "\" Cuando llegues a este punto, ejecuta esta(s) acción(es) sólo si esta condición es cierta \".\n",
    "\n",
    "\" Si la condición anterior no se cumplió, ejecuta esta(s) acción(es) sólo si esta condición es cierta \".\n",
    "\n",
    "\" Si lo anterior no se cumplió,  ejecuta esta(s) acción(es\".\n",
    "\n",
    "A continuación digamos que hora quieres determinar el signo de un número que introduces mediante el teclado."
   ]
  },
  {
   "cell_type": "code",
   "execution_count": 13,
   "metadata": {},
   "outputs": [
    {
     "name": "stdout",
     "output_type": "stream",
     "text": [
      "ingrese un numero:0\n",
      "el numero 0 es cero\n"
     ]
    }
   ],
   "source": [
    "y=int(input('ingrese un numero:'))\n",
    "\n",
    "if y>0:\n",
    "    print(\"el numero %d es positivo\"%(y))\n",
    "    \n",
    "elif y<0:\n",
    "    print(\"el numero %d es negativo\"%(y))\n",
    "\n",
    "else:\n",
    "    print(\"el numero %d es cero\"%(y))"
   ]
  },
  {
   "cell_type": "markdown",
   "metadata": {},
   "source": [
    "### sentencia if anidada.\n",
    "\n",
    "En ocasiones se necesitan setencias if anidadas, y se declaran como se ve en el siguiente bloque.\n",
    "\n",
    "Ahora suponga que quiere determinar el signo de un número y determinar si es par."
   ]
  },
  {
   "cell_type": "code",
   "execution_count": 14,
   "metadata": {},
   "outputs": [
    {
     "name": "stdout",
     "output_type": "stream",
     "text": [
      "ingrese un numero:5\n",
      "el numero 5 es positivo e impar\n"
     ]
    }
   ],
   "source": [
    "y=int(input('ingrese un numero:'))\n",
    "\n",
    "if y>0:\n",
    "    if((y%2)==0):\n",
    "        print(\"el numero %d es positivo y par\"%(y))\n",
    "    else:\n",
    "        print(\"el numero %d es positivo e impar\"%(y))\n",
    "elif y<0:\n",
    "    if((y%2)==0):\n",
    "        print(\"el numero %d es negativo y par\"%(y))\n",
    "    else:\n",
    "        print(\"el numero %d es negativo e impar\"%(y))\n",
    "\n",
    "else:\n",
    "    print(\"el numero %d es cero\"%(y))"
   ]
  },
  {
   "cell_type": "markdown",
   "metadata": {},
   "source": [
    "## Setencias de repetición.\n",
    "\n",
    "Estas sentencias son para iterar en varias ocasiones una misma operación, como lo podría ser la suma de dos arrays, un factorial, etc."
   ]
  },
  {
   "cell_type": "markdown",
   "metadata": {},
   "source": [
    "### Ciclo While\n",
    "\n",
    "En inglés, << while >> significa << mientras >>. La sentencia while permite expresar en Python acciones cuyo significado es:\n",
    "<< Mientras se cumpla esta condición, repite estas acciones.>>\n",
    "\n",
    "Las sentencias que denotan repetición se denominan bucles.\n"
   ]
  },
  {
   "cell_type": "code",
   "execution_count": 18,
   "metadata": {},
   "outputs": [
    {
     "name": "stdout",
     "output_type": "stream",
     "text": [
      "0\n",
      "1\n",
      "2\n",
      "3\n",
      "4\n",
      "5\n"
     ]
    }
   ],
   "source": [
    "cuentas = 0\n",
    "while cuentas < 6:\n",
    "    print(cuentas)\n",
    "    cuentas = cuentas + 1"
   ]
  },
  {
   "cell_type": "code",
   "execution_count": 17,
   "metadata": {},
   "outputs": [
    {
     "name": "stdout",
     "output_type": "stream",
     "text": [
      "x = 1\n",
      "x = 2\n",
      "x = 3\n",
      "x = 4\n",
      "x = 5\n"
     ]
    }
   ],
   "source": [
    "x = 0\n",
    "while not x == 5:\n",
    "    x = x + 1\n",
    "    print(\"x = %d\" % x)"
   ]
  },
  {
   "cell_type": "markdown",
   "metadata": {},
   "source": [
    "### Ciclo for \n",
    "\n",
    "Hay otro tipo de bucle en Python: el bucle for-in, que se puede leer como << para todo elemento de\n",
    "una serie, hacer. . . >>. Un bucle for-in presenta el siguiente aspecto:"
   ]
  },
  {
   "cell_type": "code",
   "execution_count": 20,
   "metadata": {},
   "outputs": [
    {
     "name": "stdout",
     "output_type": "stream",
     "text": [
      "0 es menor o igual que 4.\n",
      "1 es menor o igual que 4.\n",
      "2 es menor o igual que 4.\n",
      "3 es menor o igual que 4.\n",
      "4 es menor o igual que 4.\n",
      "5 es mayor que 4.\n",
      "5 es menor o igual que 4.\n",
      "6 es mayor que 4.\n",
      "6 es menor o igual que 4.\n",
      "7 es mayor que 4.\n",
      "7 es menor o igual que 4.\n"
     ]
    }
   ],
   "source": [
    "for k in range(8):\n",
    "    if k> 4:\n",
    "        print(\"%d es mayor que 4.\" % k)\n",
    "    print(\"%d es menor o igual que 4.\" % k)"
   ]
  },
  {
   "cell_type": "code",
   "execution_count": 21,
   "metadata": {},
   "outputs": [
    {
     "name": "stdout",
     "output_type": "stream",
     "text": [
      "0 es menor o igual que 4.\n",
      "1 es menor o igual que 4.\n",
      "2 es menor o igual que 4.\n",
      "3 es menor o igual que 4.\n",
      "4 es menor o igual que 4.\n",
      "5 es mayor que 4.\n",
      "6 es mayor que 4.\n",
      "7 es mayor que 4.\n"
     ]
    }
   ],
   "source": [
    "for k in range(8):\n",
    "    if k> 4:\n",
    "        print(\"%d es mayor que 4.\" % k)\n",
    "        continue\n",
    "    print(\"%d es menor o igual que 4.\" % k)"
   ]
  },
  {
   "cell_type": "code",
   "execution_count": 22,
   "metadata": {},
   "outputs": [
    {
     "name": "stdout",
     "output_type": "stream",
     "text": [
      "0 es menor o igual que 4.\n",
      "1 es menor o igual que 4.\n",
      "2 es menor o igual que 4.\n",
      "3 es menor o igual que 4.\n",
      "4 es menor o igual que 4.\n",
      "5 es mayor que 4.\n"
     ]
    }
   ],
   "source": [
    "for k in range(8):\n",
    "    if k> 4:\n",
    "        print(\"%d es mayor que 4.\" % k)\n",
    "        break\n",
    "    print(\"%d es menor o igual que 4.\" % k)"
   ]
  },
  {
   "cell_type": "markdown",
   "metadata": {},
   "source": [
    "## Recursividad. \n",
    "\n",
    "Se denomina llamada recursiva (o recursividad), a aquellas funciones que en su algoritmo, hacen referencia hacia si misma.\n",
    "\n",
    "Las llamadas recursivas suelen ser muy útiles en casos muy puntuales, pero debido a su gran factibilidad de caer en iteraciones infinitas, deben extremarse las medidas preventivas adecuadas y, solo utilizarse cuando sea estrictamente necesario y no exista una forma alternativa viable, que resuelva el problema evitando la recursividad.\n",
    "\n",
    "Python admite las llamadas recursivas, permitiendo a una función, llamarse a sí misma, de igual forma que lo hace cuando llama a otra función."
   ]
  },
  {
   "cell_type": "code",
   "execution_count": 25,
   "metadata": {},
   "outputs": [
    {
     "name": "stdout",
     "output_type": "stream",
     "text": [
      "¿De qué color es una naranja? azul\n",
      "\n",
      "Fallaste! Inténtalo de nuevo\n",
      "¿De qué color es una naranja? verde\n",
      "\n",
      "Fallaste! Inténtalo de nuevo\n",
      "¿De qué color es una naranja? aa\n",
      "\n",
      "Perdiste!\n"
     ]
    }
   ],
   "source": [
    "def jugar(intento=1):\n",
    "    respuesta = input(\"¿De qué color es una naranja? \")\n",
    "    if respuesta != \"naranja\":\n",
    "        if intento < 3:\n",
    "            print (\"\\nFallaste! Inténtalo de nuevo\")\n",
    "            intento += 1\n",
    "            jugar(intento) # Llamada recursiva\n",
    "        else:\n",
    "            print (\"\\nPerdiste!\")\n",
    "    else:\n",
    "        print (\"\\nGanaste!\")\n",
    "jugar()"
   ]
  },
  {
   "cell_type": "markdown",
   "metadata": {},
   "source": [
    "## Vectores y matrices."
   ]
  },
  {
   "cell_type": "markdown",
   "metadata": {},
   "source": [
    "Hay dos formas usuales de declarar vectores, mediante una lista o un array.\n",
    "\n",
    "$$\\begin{equation}\n",
    "\\left[\n",
    "\\begin{array}{cccc}\n",
    "1 & 2 & \\cdots & 6\n",
    "\\end{array}\n",
    "\\right]\n",
    "\\end{equation}$$\n",
    "\n",
    "Un vector creado por lista se ve de la siguiente manera:"
   ]
  },
  {
   "cell_type": "code",
   "execution_count": 1,
   "metadata": {},
   "outputs": [
    {
     "name": "stdout",
     "output_type": "stream",
     "text": [
      "[1, 2, 3, 4, 5, 6]\n"
     ]
    }
   ],
   "source": [
    "Vector=[1,2,3,4,5,6]\n",
    "print(Vector)"
   ]
  },
  {
   "cell_type": "code",
   "execution_count": 3,
   "metadata": {},
   "outputs": [
    {
     "name": "stdout",
     "output_type": "stream",
     "text": [
      "El primer elemento del vector es 1\n"
     ]
    }
   ],
   "source": [
    "print(\"El primer elemento del vector es {}\".format(Vector[0])) # se imprime el primer elemento de la lista."
   ]
  },
  {
   "cell_type": "code",
   "execution_count": 7,
   "metadata": {},
   "outputs": [
    {
     "name": "stdout",
     "output_type": "stream",
     "text": [
      "Barrido de elementos [1, 2, 3, 4, 5]\n"
     ]
    }
   ],
   "source": [
    "print(\"Barrido de elementos {}\".format(Vector[:5]))# se hace un slicing de 0 a 4"
   ]
  },
  {
   "cell_type": "markdown",
   "metadata": {},
   "source": [
    "Para una matriz como la que se observa en la siguiente ecuación, se crea una lista de listas, donde la lista en el primer elemento equivale al renglón cero de la matriz, y la columna cero serían los primeros elementos de cada lista.\n",
    "\n",
    "$$\\begin{equation}\n",
    "\\begin{pmatrix}\n",
    "1 & 2 & 3\\\\\n",
    "2 & 12 & 6\\\\\n",
    "1 & 0 & -3\\\\\n",
    "0 & -1 & 0\n",
    "\\end{pmatrix}\n",
    "\\end{equation} $$"
   ]
  },
  {
   "cell_type": "code",
   "execution_count": 9,
   "metadata": {},
   "outputs": [
    {
     "name": "stdout",
     "output_type": "stream",
     "text": [
      "[[1, 2, 3], [2, 12, 6], [1, 0, -3], [0, -1, 0]]\n"
     ]
    }
   ],
   "source": [
    "Matriz = [ [1, 2, 3], [2, 12, 6], [1, 0, -3], [0, -1, 0] ]\n",
    "print(Matriz)"
   ]
  },
  {
   "cell_type": "code",
   "execution_count": 10,
   "metadata": {},
   "outputs": [
    {
     "name": "stdout",
     "output_type": "stream",
     "text": [
      "El primer elemento de la matriz es 1\n"
     ]
    }
   ],
   "source": [
    "print(\"El primer elemento de la matriz es {}\".format(Matriz[0][0])) # se imprime el primer elemento de la matriz"
   ]
  },
  {
   "cell_type": "code",
   "execution_count": 11,
   "metadata": {},
   "outputs": [
    {
     "name": "stdout",
     "output_type": "stream",
     "text": [
      "Primer renglon [1, 2, 3]\n"
     ]
    }
   ],
   "source": [
    "print(\"Primer renglon {}\".format(Matriz[0])) # se imprime el primer renglon "
   ]
  },
  {
   "cell_type": "code",
   "execution_count": 14,
   "metadata": {},
   "outputs": [
    {
     "name": "stdout",
     "output_type": "stream",
     "text": [
      "Barrido de elementos [[1, 0, -3], [0, -1, 0]]\n"
     ]
    }
   ],
   "source": [
    "print(\"Barrido de elementos {}\".format(Matriz[2:])) # se imprimen el slicing del renglón 3 y 4 "
   ]
  },
  {
   "cell_type": "code",
   "execution_count": 15,
   "metadata": {},
   "outputs": [
    {
     "name": "stdout",
     "output_type": "stream",
     "text": [
      "Barrido de elementos [[1, 2, 3], [2, 12, 6]]\n"
     ]
    }
   ],
   "source": [
    "print(\"Barrido de elementos {}\".format(Matriz[:2])) # se imprime el slicing de lo primeros dos renglones."
   ]
  },
  {
   "cell_type": "markdown",
   "metadata": {},
   "source": [
    "Una manera de crear una lista de tamaño n que tenga el mismo elemento, es la siguiente :  [elemento ] * longitud_de_lista, como puede apreciarse en el siguiente renglón."
   ]
  },
  {
   "cell_type": "code",
   "execution_count": 16,
   "metadata": {},
   "outputs": [
    {
     "name": "stdout",
     "output_type": "stream",
     "text": [
      "[0, 0, 0, 0, 0, 0]\n"
     ]
    }
   ],
   "source": [
    "a = [0] * 6\n",
    "print(a)"
   ]
  },
  {
   "cell_type": "code",
   "execution_count": 17,
   "metadata": {},
   "outputs": [
    {
     "name": "stdout",
     "output_type": "stream",
     "text": [
      "[[0, 0, 0, 0, 0, 0], [0, 0, 0, 0, 0, 0], [0, 0, 0, 0, 0, 0]]\n"
     ]
    }
   ],
   "source": [
    "M = [a] * 3 # se crea una lista de listas de tamaño 3\n",
    "print(M)"
   ]
  },
  {
   "cell_type": "code",
   "execution_count": 18,
   "metadata": {},
   "outputs": [
    {
     "data": {
      "text/plain": [
       "3"
      ]
     },
     "execution_count": 18,
     "metadata": {},
     "output_type": "execute_result"
    }
   ],
   "source": [
    "len(M) # con el comando len(lista) se obtiene la longitud de la lista"
   ]
  },
  {
   "cell_type": "code",
   "execution_count": 20,
   "metadata": {},
   "outputs": [
    {
     "data": {
      "text/plain": [
       "6"
      ]
     },
     "execution_count": 20,
     "metadata": {},
     "output_type": "execute_result"
    }
   ],
   "source": [
    "len(M[0]) # se obtiene la longitud de la primer lista en M."
   ]
  },
  {
   "cell_type": "markdown",
   "metadata": {},
   "source": [
    "## Paqueterías.\n",
    "\n",
    "Si se desea saber que contiene una paquetería en especifico, se necesita importar bajo un alias y posteriormente usar el comando dir(alias_de_la_paqueteria) "
   ]
  },
  {
   "cell_type": "code",
   "execution_count": 23,
   "metadata": {},
   "outputs": [
    {
     "data": {
      "text/plain": [
       "['ALLOW_THREADS',\n",
       " 'AxisError',\n",
       " 'BUFSIZE',\n",
       " 'CLIP',\n",
       " 'ComplexWarning',\n",
       " 'DataSource',\n",
       " 'ERR_CALL',\n",
       " 'ERR_DEFAULT',\n",
       " 'ERR_IGNORE',\n",
       " 'ERR_LOG',\n",
       " 'ERR_PRINT',\n",
       " 'ERR_RAISE',\n",
       " 'ERR_WARN',\n",
       " 'FLOATING_POINT_SUPPORT',\n",
       " 'FPE_DIVIDEBYZERO',\n",
       " 'FPE_INVALID',\n",
       " 'FPE_OVERFLOW',\n",
       " 'FPE_UNDERFLOW',\n",
       " 'False_',\n",
       " 'Inf',\n",
       " 'Infinity',\n",
       " 'MAXDIMS',\n",
       " 'MAY_SHARE_BOUNDS',\n",
       " 'MAY_SHARE_EXACT',\n",
       " 'MachAr',\n",
       " 'ModuleDeprecationWarning',\n",
       " 'NAN',\n",
       " 'NINF',\n",
       " 'NZERO',\n",
       " 'NaN',\n",
       " 'PINF',\n",
       " 'PZERO',\n",
       " 'RAISE',\n",
       " 'RankWarning',\n",
       " 'SHIFT_DIVIDEBYZERO',\n",
       " 'SHIFT_INVALID',\n",
       " 'SHIFT_OVERFLOW',\n",
       " 'SHIFT_UNDERFLOW',\n",
       " 'ScalarType',\n",
       " 'Tester',\n",
       " 'TooHardError',\n",
       " 'True_',\n",
       " 'UFUNC_BUFSIZE_DEFAULT',\n",
       " 'UFUNC_PYVALS_NAME',\n",
       " 'VisibleDeprecationWarning',\n",
       " 'WRAP',\n",
       " '_NoValue',\n",
       " '_UFUNC_API',\n",
       " '__NUMPY_SETUP__',\n",
       " '__all__',\n",
       " '__builtins__',\n",
       " '__cached__',\n",
       " '__config__',\n",
       " '__dir__',\n",
       " '__doc__',\n",
       " '__file__',\n",
       " '__getattr__',\n",
       " '__git_revision__',\n",
       " '__loader__',\n",
       " '__mkl_version__',\n",
       " '__name__',\n",
       " '__package__',\n",
       " '__path__',\n",
       " '__spec__',\n",
       " '__version__',\n",
       " '_add_newdoc_ufunc',\n",
       " '_distributor_init',\n",
       " '_globals',\n",
       " '_mat',\n",
       " '_pytesttester',\n",
       " 'abs',\n",
       " 'absolute',\n",
       " 'absolute_import',\n",
       " 'add',\n",
       " 'add_docstring',\n",
       " 'add_newdoc',\n",
       " 'add_newdoc_ufunc',\n",
       " 'alen',\n",
       " 'all',\n",
       " 'allclose',\n",
       " 'alltrue',\n",
       " 'amax',\n",
       " 'amin',\n",
       " 'angle',\n",
       " 'any',\n",
       " 'append',\n",
       " 'apply_along_axis',\n",
       " 'apply_over_axes',\n",
       " 'arange',\n",
       " 'arccos',\n",
       " 'arccosh',\n",
       " 'arcsin',\n",
       " 'arcsinh',\n",
       " 'arctan',\n",
       " 'arctan2',\n",
       " 'arctanh',\n",
       " 'argmax',\n",
       " 'argmin',\n",
       " 'argpartition',\n",
       " 'argsort',\n",
       " 'argwhere',\n",
       " 'around',\n",
       " 'array',\n",
       " 'array2string',\n",
       " 'array_equal',\n",
       " 'array_equiv',\n",
       " 'array_repr',\n",
       " 'array_split',\n",
       " 'array_str',\n",
       " 'asanyarray',\n",
       " 'asarray',\n",
       " 'asarray_chkfinite',\n",
       " 'ascontiguousarray',\n",
       " 'asfarray',\n",
       " 'asfortranarray',\n",
       " 'asmatrix',\n",
       " 'asscalar',\n",
       " 'atleast_1d',\n",
       " 'atleast_2d',\n",
       " 'atleast_3d',\n",
       " 'average',\n",
       " 'bartlett',\n",
       " 'base_repr',\n",
       " 'binary_repr',\n",
       " 'bincount',\n",
       " 'bitwise_and',\n",
       " 'bitwise_not',\n",
       " 'bitwise_or',\n",
       " 'bitwise_xor',\n",
       " 'blackman',\n",
       " 'block',\n",
       " 'bmat',\n",
       " 'bool',\n",
       " 'bool8',\n",
       " 'bool_',\n",
       " 'broadcast',\n",
       " 'broadcast_arrays',\n",
       " 'broadcast_to',\n",
       " 'busday_count',\n",
       " 'busday_offset',\n",
       " 'busdaycalendar',\n",
       " 'byte',\n",
       " 'byte_bounds',\n",
       " 'bytes0',\n",
       " 'bytes_',\n",
       " 'c_',\n",
       " 'can_cast',\n",
       " 'cast',\n",
       " 'cbrt',\n",
       " 'cdouble',\n",
       " 'ceil',\n",
       " 'cfloat',\n",
       " 'char',\n",
       " 'character',\n",
       " 'chararray',\n",
       " 'choose',\n",
       " 'clip',\n",
       " 'clongdouble',\n",
       " 'clongfloat',\n",
       " 'column_stack',\n",
       " 'common_type',\n",
       " 'compare_chararrays',\n",
       " 'compat',\n",
       " 'complex',\n",
       " 'complex128',\n",
       " 'complex64',\n",
       " 'complex_',\n",
       " 'complexfloating',\n",
       " 'compress',\n",
       " 'concatenate',\n",
       " 'conj',\n",
       " 'conjugate',\n",
       " 'convolve',\n",
       " 'copy',\n",
       " 'copysign',\n",
       " 'copyto',\n",
       " 'core',\n",
       " 'corrcoef',\n",
       " 'correlate',\n",
       " 'cos',\n",
       " 'cosh',\n",
       " 'count_nonzero',\n",
       " 'cov',\n",
       " 'cross',\n",
       " 'csingle',\n",
       " 'ctypeslib',\n",
       " 'cumprod',\n",
       " 'cumproduct',\n",
       " 'cumsum',\n",
       " 'datetime64',\n",
       " 'datetime_as_string',\n",
       " 'datetime_data',\n",
       " 'deg2rad',\n",
       " 'degrees',\n",
       " 'delete',\n",
       " 'deprecate',\n",
       " 'deprecate_with_doc',\n",
       " 'diag',\n",
       " 'diag_indices',\n",
       " 'diag_indices_from',\n",
       " 'diagflat',\n",
       " 'diagonal',\n",
       " 'diff',\n",
       " 'digitize',\n",
       " 'disp',\n",
       " 'divide',\n",
       " 'division',\n",
       " 'divmod',\n",
       " 'dot',\n",
       " 'double',\n",
       " 'dsplit',\n",
       " 'dstack',\n",
       " 'dtype',\n",
       " 'e',\n",
       " 'ediff1d',\n",
       " 'einsum',\n",
       " 'einsum_path',\n",
       " 'emath',\n",
       " 'empty',\n",
       " 'empty_like',\n",
       " 'equal',\n",
       " 'errstate',\n",
       " 'euler_gamma',\n",
       " 'exp',\n",
       " 'exp2',\n",
       " 'expand_dims',\n",
       " 'expm1',\n",
       " 'extract',\n",
       " 'eye',\n",
       " 'fabs',\n",
       " 'fastCopyAndTranspose',\n",
       " 'fft',\n",
       " 'fill_diagonal',\n",
       " 'find_common_type',\n",
       " 'finfo',\n",
       " 'fix',\n",
       " 'flatiter',\n",
       " 'flatnonzero',\n",
       " 'flexible',\n",
       " 'flip',\n",
       " 'fliplr',\n",
       " 'flipud',\n",
       " 'float',\n",
       " 'float16',\n",
       " 'float32',\n",
       " 'float64',\n",
       " 'float_',\n",
       " 'float_power',\n",
       " 'floating',\n",
       " 'floor',\n",
       " 'floor_divide',\n",
       " 'fmax',\n",
       " 'fmin',\n",
       " 'fmod',\n",
       " 'format_float_positional',\n",
       " 'format_float_scientific',\n",
       " 'format_parser',\n",
       " 'frexp',\n",
       " 'frombuffer',\n",
       " 'fromfile',\n",
       " 'fromfunction',\n",
       " 'fromiter',\n",
       " 'frompyfunc',\n",
       " 'fromregex',\n",
       " 'fromstring',\n",
       " 'full',\n",
       " 'full_like',\n",
       " 'fv',\n",
       " 'gcd',\n",
       " 'generic',\n",
       " 'genfromtxt',\n",
       " 'geomspace',\n",
       " 'get_array_wrap',\n",
       " 'get_include',\n",
       " 'get_printoptions',\n",
       " 'getbufsize',\n",
       " 'geterr',\n",
       " 'geterrcall',\n",
       " 'geterrobj',\n",
       " 'gradient',\n",
       " 'greater',\n",
       " 'greater_equal',\n",
       " 'half',\n",
       " 'hamming',\n",
       " 'hanning',\n",
       " 'heaviside',\n",
       " 'histogram',\n",
       " 'histogram2d',\n",
       " 'histogram_bin_edges',\n",
       " 'histogramdd',\n",
       " 'hsplit',\n",
       " 'hstack',\n",
       " 'hypot',\n",
       " 'i0',\n",
       " 'identity',\n",
       " 'iinfo',\n",
       " 'imag',\n",
       " 'in1d',\n",
       " 'index_exp',\n",
       " 'indices',\n",
       " 'inexact',\n",
       " 'inf',\n",
       " 'info',\n",
       " 'infty',\n",
       " 'inner',\n",
       " 'insert',\n",
       " 'int',\n",
       " 'int0',\n",
       " 'int16',\n",
       " 'int32',\n",
       " 'int64',\n",
       " 'int8',\n",
       " 'int_',\n",
       " 'int_asbuffer',\n",
       " 'intc',\n",
       " 'integer',\n",
       " 'interp',\n",
       " 'intersect1d',\n",
       " 'intp',\n",
       " 'invert',\n",
       " 'ipmt',\n",
       " 'irr',\n",
       " 'is_busday',\n",
       " 'isclose',\n",
       " 'iscomplex',\n",
       " 'iscomplexobj',\n",
       " 'isfinite',\n",
       " 'isfortran',\n",
       " 'isin',\n",
       " 'isinf',\n",
       " 'isnan',\n",
       " 'isnat',\n",
       " 'isneginf',\n",
       " 'isposinf',\n",
       " 'isreal',\n",
       " 'isrealobj',\n",
       " 'isscalar',\n",
       " 'issctype',\n",
       " 'issubclass_',\n",
       " 'issubdtype',\n",
       " 'issubsctype',\n",
       " 'iterable',\n",
       " 'ix_',\n",
       " 'kaiser',\n",
       " 'kron',\n",
       " 'lcm',\n",
       " 'ldexp',\n",
       " 'left_shift',\n",
       " 'less',\n",
       " 'less_equal',\n",
       " 'lexsort',\n",
       " 'lib',\n",
       " 'linalg',\n",
       " 'linspace',\n",
       " 'little_endian',\n",
       " 'load',\n",
       " 'loads',\n",
       " 'loadtxt',\n",
       " 'log',\n",
       " 'log10',\n",
       " 'log1p',\n",
       " 'log2',\n",
       " 'logaddexp',\n",
       " 'logaddexp2',\n",
       " 'logical_and',\n",
       " 'logical_not',\n",
       " 'logical_or',\n",
       " 'logical_xor',\n",
       " 'logspace',\n",
       " 'long',\n",
       " 'longcomplex',\n",
       " 'longdouble',\n",
       " 'longfloat',\n",
       " 'longlong',\n",
       " 'lookfor',\n",
       " 'ma',\n",
       " 'mafromtxt',\n",
       " 'mask_indices',\n",
       " 'mat',\n",
       " 'math',\n",
       " 'matmul',\n",
       " 'matrix',\n",
       " 'matrixlib',\n",
       " 'max',\n",
       " 'maximum',\n",
       " 'maximum_sctype',\n",
       " 'may_share_memory',\n",
       " 'mean',\n",
       " 'median',\n",
       " 'memmap',\n",
       " 'meshgrid',\n",
       " 'mgrid',\n",
       " 'min',\n",
       " 'min_scalar_type',\n",
       " 'minimum',\n",
       " 'mintypecode',\n",
       " 'mirr',\n",
       " 'mkl',\n",
       " 'mod',\n",
       " 'modf',\n",
       " 'moveaxis',\n",
       " 'msort',\n",
       " 'multiply',\n",
       " 'nan',\n",
       " 'nan_to_num',\n",
       " 'nanargmax',\n",
       " 'nanargmin',\n",
       " 'nancumprod',\n",
       " 'nancumsum',\n",
       " 'nanmax',\n",
       " 'nanmean',\n",
       " 'nanmedian',\n",
       " 'nanmin',\n",
       " 'nanpercentile',\n",
       " 'nanprod',\n",
       " 'nanquantile',\n",
       " 'nanstd',\n",
       " 'nansum',\n",
       " 'nanvar',\n",
       " 'nbytes',\n",
       " 'ndarray',\n",
       " 'ndenumerate',\n",
       " 'ndfromtxt',\n",
       " 'ndim',\n",
       " 'ndindex',\n",
       " 'nditer',\n",
       " 'negative',\n",
       " 'nested_iters',\n",
       " 'newaxis',\n",
       " 'nextafter',\n",
       " 'nonzero',\n",
       " 'not_equal',\n",
       " 'nper',\n",
       " 'npv',\n",
       " 'numarray',\n",
       " 'number',\n",
       " 'obj2sctype',\n",
       " 'object',\n",
       " 'object0',\n",
       " 'object_',\n",
       " 'ogrid',\n",
       " 'oldnumeric',\n",
       " 'ones',\n",
       " 'ones_like',\n",
       " 'outer',\n",
       " 'packbits',\n",
       " 'pad',\n",
       " 'partition',\n",
       " 'percentile',\n",
       " 'pi',\n",
       " 'piecewise',\n",
       " 'place',\n",
       " 'pmt',\n",
       " 'poly',\n",
       " 'poly1d',\n",
       " 'polyadd',\n",
       " 'polyder',\n",
       " 'polydiv',\n",
       " 'polyfit',\n",
       " 'polyint',\n",
       " 'polymul',\n",
       " 'polynomial',\n",
       " 'polysub',\n",
       " 'polyval',\n",
       " 'positive',\n",
       " 'power',\n",
       " 'ppmt',\n",
       " 'print_function',\n",
       " 'printoptions',\n",
       " 'prod',\n",
       " 'product',\n",
       " 'promote_types',\n",
       " 'ptp',\n",
       " 'put',\n",
       " 'put_along_axis',\n",
       " 'putmask',\n",
       " 'pv',\n",
       " 'quantile',\n",
       " 'r_',\n",
       " 'rad2deg',\n",
       " 'radians',\n",
       " 'random',\n",
       " 'rate',\n",
       " 'ravel',\n",
       " 'ravel_multi_index',\n",
       " 'real',\n",
       " 'real_if_close',\n",
       " 'rec',\n",
       " 'recarray',\n",
       " 'recfromcsv',\n",
       " 'recfromtxt',\n",
       " 'reciprocal',\n",
       " 'record',\n",
       " 'remainder',\n",
       " 'repeat',\n",
       " 'require',\n",
       " 'reshape',\n",
       " 'resize',\n",
       " 'result_type',\n",
       " 'right_shift',\n",
       " 'rint',\n",
       " 'roll',\n",
       " 'rollaxis',\n",
       " 'roots',\n",
       " 'rot90',\n",
       " 'round',\n",
       " 'round_',\n",
       " 'row_stack',\n",
       " 's_',\n",
       " 'safe_eval',\n",
       " 'save',\n",
       " 'savetxt',\n",
       " 'savez',\n",
       " 'savez_compressed',\n",
       " 'sctype2char',\n",
       " 'sctypeDict',\n",
       " 'sctypeNA',\n",
       " 'sctypes',\n",
       " 'searchsorted',\n",
       " 'select',\n",
       " 'set_numeric_ops',\n",
       " 'set_printoptions',\n",
       " 'set_string_function',\n",
       " 'setbufsize',\n",
       " 'setdiff1d',\n",
       " 'seterr',\n",
       " 'seterrcall',\n",
       " 'seterrobj',\n",
       " 'setxor1d',\n",
       " 'shape',\n",
       " 'shares_memory',\n",
       " 'short',\n",
       " 'show_config',\n",
       " 'sign',\n",
       " 'signbit',\n",
       " 'signedinteger',\n",
       " 'sin',\n",
       " 'sinc',\n",
       " 'single',\n",
       " 'singlecomplex',\n",
       " 'sinh',\n",
       " 'size',\n",
       " 'sometrue',\n",
       " 'sort',\n",
       " 'sort_complex',\n",
       " 'source',\n",
       " 'spacing',\n",
       " 'split',\n",
       " 'sqrt',\n",
       " 'square',\n",
       " 'squeeze',\n",
       " 'stack',\n",
       " 'std',\n",
       " 'str',\n",
       " 'str0',\n",
       " 'str_',\n",
       " 'string_',\n",
       " 'subtract',\n",
       " 'sum',\n",
       " 'swapaxes',\n",
       " 'sys',\n",
       " 'take',\n",
       " 'take_along_axis',\n",
       " 'tan',\n",
       " 'tanh',\n",
       " 'tensordot',\n",
       " 'test',\n",
       " 'testing',\n",
       " 'tile',\n",
       " 'timedelta64',\n",
       " 'trace',\n",
       " 'tracemalloc_domain',\n",
       " 'transpose',\n",
       " 'trapz',\n",
       " 'tri',\n",
       " 'tril',\n",
       " 'tril_indices',\n",
       " 'tril_indices_from',\n",
       " 'trim_zeros',\n",
       " 'triu',\n",
       " 'triu_indices',\n",
       " 'triu_indices_from',\n",
       " 'true_divide',\n",
       " 'trunc',\n",
       " 'typeDict',\n",
       " 'typeNA',\n",
       " 'typecodes',\n",
       " 'typename',\n",
       " 'ubyte',\n",
       " 'ufunc',\n",
       " 'uint',\n",
       " 'uint0',\n",
       " 'uint16',\n",
       " 'uint32',\n",
       " 'uint64',\n",
       " 'uint8',\n",
       " 'uintc',\n",
       " 'uintp',\n",
       " 'ulonglong',\n",
       " 'unicode',\n",
       " 'unicode_',\n",
       " 'union1d',\n",
       " 'unique',\n",
       " 'unpackbits',\n",
       " 'unravel_index',\n",
       " 'unsignedinteger',\n",
       " 'unwrap',\n",
       " 'ushort',\n",
       " 'vander',\n",
       " 'var',\n",
       " 'vdot',\n",
       " 'vectorize',\n",
       " 'version',\n",
       " 'void',\n",
       " 'void0',\n",
       " 'vsplit',\n",
       " 'vstack',\n",
       " 'warnings',\n",
       " 'where',\n",
       " 'who',\n",
       " 'zeros',\n",
       " 'zeros_like']"
      ]
     },
     "execution_count": 23,
     "metadata": {},
     "output_type": "execute_result"
    }
   ],
   "source": [
    "import numpy as np\n",
    "dir(np)"
   ]
  },
  {
   "cell_type": "markdown",
   "metadata": {},
   "source": [
    "Existen distintos métodos en la paquetería numpy como puede observarse en el bloque anterior, para utilizarlos se importan bajo la notación del punto, por ejemplo si se desea trabajar con el número pi se importa \" np.pi \", si quieres calcular la función exponencial se importa \" np.exp(x) \" donde x puede ser un valor cualquiera.\n",
    "\n",
    "Cabe mencionar que si se desea convertir una lista a un arreglo, se utiliza \" np.array(lista)\" y se obtiene un numpy array con el cual se puede trabajar operaciones vectoriales."
   ]
  },
  {
   "cell_type": "code",
   "execution_count": 27,
   "metadata": {},
   "outputs": [
    {
     "name": "stdout",
     "output_type": "stream",
     "text": [
      "numero pi 3.141592653589793\n",
      " exp( pi)= 23.140692632779267\n",
      "raiz de dos : 1.4142135623730951\n"
     ]
    }
   ],
   "source": [
    "print(\"numero pi {}\".format(np.pi))\n",
    "print(\" exp( pi)= {}\".format(np.exp(np.pi)))\n",
    "print(\"raiz de dos : {}\".format(np.sqrt(2)))"
   ]
  },
  {
   "cell_type": "code",
   "execution_count": 31,
   "metadata": {},
   "outputs": [
    {
     "name": "stdout",
     "output_type": "stream",
     "text": [
      " log10(pi)= 0.49714987269413385\n"
     ]
    }
   ],
   "source": [
    "print(\" log10(pi)= {}\".format(np.log10(np.pi))) # se importa la función logaritmo base 10 "
   ]
  },
  {
   "cell_type": "code",
   "execution_count": 43,
   "metadata": {},
   "outputs": [
    {
     "name": "stdout",
     "output_type": "stream",
     "text": [
      "[1 2 3 4 5]\n"
     ]
    }
   ],
   "source": [
    "x=np.array([1,2,3,4,5]) # se crea un array unidimensional\n",
    "y=np.array([1,2,3,4,5]) # se crea un array unidimensional\n",
    "print(x)"
   ]
  },
  {
   "cell_type": "code",
   "execution_count": 44,
   "metadata": {},
   "outputs": [
    {
     "name": "stdout",
     "output_type": "stream",
     "text": [
      "longitud 5 \n",
      "tamanio de x (5,)\n"
     ]
    }
   ],
   "source": [
    "print(\"longitud %d \"%(len(x))) # se imprime la dimensión del arreglo x.\n",
    "print(\"tamanio de x {}\".format(x.shape)) # se imprime el shape del arreglo x"
   ]
  },
  {
   "cell_type": "markdown",
   "metadata": {},
   "source": [
    "Como habiamos visto, si sumas dos listas es equivalente a concatenarlas, sin embargo en la paquetería numpy si sumas dos arreglos el resultado es una arreglo del mismo tamaño que los sumandos y la operación se realiza entrada a entrada."
   ]
  },
  {
   "cell_type": "code",
   "execution_count": 45,
   "metadata": {},
   "outputs": [
    {
     "name": "stdout",
     "output_type": "stream",
     "text": [
      "suma [ 2  4  6  8 10]\n"
     ]
    }
   ],
   "source": [
    "print(\"suma {}\".format(x+y)) # se imprime la suma "
   ]
  },
  {
   "cell_type": "code",
   "execution_count": 48,
   "metadata": {},
   "outputs": [
    {
     "name": "stdout",
     "output_type": "stream",
     "text": [
      "[1 2 3 4 5 1 2 3 4 5]\n"
     ]
    }
   ],
   "source": [
    "print(np.concatenate((x,y))) # se concatenan los arrays con np.concatenate(arreglo1,arreglo2)"
   ]
  },
  {
   "cell_type": "code",
   "execution_count": 49,
   "metadata": {},
   "outputs": [
    {
     "name": "stdout",
     "output_type": "stream",
     "text": [
      "[  1   2   3   4   5 100]\n"
     ]
    }
   ],
   "source": [
    "print(np.append(x,100)) # se le agrega un elemento al array con el instrucion np.append(arreglo,elemento)"
   ]
  },
  {
   "cell_type": "markdown",
   "metadata": {},
   "source": [
    "En la paquetería numpy también se tienen operaciones estadísticas, como al de la mediana,media y desviación estándar."
   ]
  },
  {
   "cell_type": "code",
   "execution_count": 51,
   "metadata": {},
   "outputs": [
    {
     "name": "stdout",
     "output_type": "stream",
     "text": [
      "media 3.000000 , std 1.414214, mediana 3.000000\n"
     ]
    }
   ],
   "source": [
    "print(\"media %f , std %f, mediana %f\"%(np.mean(x),np.std(x),np.median(x)))"
   ]
  },
  {
   "cell_type": "markdown",
   "metadata": {},
   "source": [
    "En la paquetería numpy se pueden crear arreglos estándar, como el de ceros \"np.zeros((renglones,columnas))\", el de unos \"np.ones((renglones,columnas))\""
   ]
  },
  {
   "cell_type": "code",
   "execution_count": 52,
   "metadata": {},
   "outputs": [
    {
     "name": "stdout",
     "output_type": "stream",
     "text": [
      "[[0. 0. 0.]\n",
      " [0. 0. 0.]]\n"
     ]
    }
   ],
   "source": [
    "# Array de ceros con 2 filas y 3 columnas\n",
    "arr1 = np.zeros((2,3))\n",
    "print(arr1)"
   ]
  },
  {
   "cell_type": "code",
   "execution_count": 54,
   "metadata": {},
   "outputs": [
    {
     "name": "stdout",
     "output_type": "stream",
     "text": [
      "[[1. 1.]\n",
      " [1. 1.]\n",
      " [1. 1.]\n",
      " [1. 1.]]\n"
     ]
    }
   ],
   "source": [
    "# Array de unos con 4 filas y una columna\n",
    "arr2 = np.ones((4,2))\n",
    "print(arr2)"
   ]
  },
  {
   "cell_type": "markdown",
   "metadata": {},
   "source": [
    "Hay ocasiones  dónde queremos redimensionar arreglos y la paquetería numpy tiene una forma muy fácil de hacer esto, suponga que declara un arreglo con 9 elementos como el que se observa en el siguiente bloque y también suponga que necesita que se convierta en matriz, para esto ocupamos el método \" nombre_array.reshape((nuevo_numero_renglones,nuevo_numero_columnas))\" como se observa a continuación."
   ]
  },
  {
   "cell_type": "code",
   "execution_count": 56,
   "metadata": {},
   "outputs": [
    {
     "name": "stdout",
     "output_type": "stream",
     "text": [
      "[0 1 2 3 4 5 6 7 8]\n",
      "[[0 1 2]\n",
      " [3 4 5]\n",
      " [6 7 8]]\n"
     ]
    }
   ],
   "source": [
    "# Array unidimensional de 9 elementos y cambio su forma a 3x3\n",
    "arr3 = np.arange(9)\n",
    "print(arr3)\n",
    "arr4=arr3.reshape((3,3))\n",
    "print(arr4)"
   ]
  },
  {
   "cell_type": "markdown",
   "metadata": {},
   "source": [
    "Cabe recalcar que cuando se crea un array que emule una matriz, la operaciones matriciales no se efectúan como uno espera, debido a eso hay que declarar de manera diferente una matriz, para esto se crea un arreglo de tipo numpy y posteriormente usar el método \" np.mat(arreglo_numpy)\", para comprender esto se ejemplifica el proceso en el siguiente bloque."
   ]
  },
  {
   "cell_type": "code",
   "execution_count": 61,
   "metadata": {},
   "outputs": [
    {
     "name": "stdout",
     "output_type": "stream",
     "text": [
      "<class 'numpy.ndarray'>\n"
     ]
    },
    {
     "data": {
      "text/plain": [
       "numpy.matrix"
      ]
     },
     "execution_count": 61,
     "metadata": {},
     "output_type": "execute_result"
    }
   ],
   "source": [
    "A = np.array([[1,2,3], [4,5,6], [7,8,9]]) # arreglo numpy\n",
    "print(type(A))\n",
    "Am = np.mat(A)# se crea el objeto matriz\n",
    "type(Am)"
   ]
  },
  {
   "cell_type": "code",
   "execution_count": 62,
   "metadata": {},
   "outputs": [
    {
     "name": "stdout",
     "output_type": "stream",
     "text": [
      "A*A\n",
      "\n",
      "[[ 1  4  9]\n",
      " [16 25 36]\n",
      " [49 64 81]]\n",
      "Am*Am\n",
      "\n",
      "[[ 30  36  42]\n",
      " [ 66  81  96]\n",
      " [102 126 150]]\n"
     ]
    }
   ],
   "source": [
    "print(\"A*A\\n\") # se hace la multiplicación del numpy array\n",
    "print(A*A)\n",
    "print(\"Am*Am\\n\") # se hace la multiplicación del objeto matriz\n",
    "print(Am*Am)"
   ]
  },
  {
   "cell_type": "markdown",
   "metadata": {},
   "source": [
    "Como se observa en el bloque anterior, si se multiplica el objeto matriz las operaciones matriciales se realizan de manera correcta."
   ]
  },
  {
   "cell_type": "code",
   "execution_count": 63,
   "metadata": {},
   "outputs": [
    {
     "data": {
      "text/plain": [
       "matrix([[1, 4, 7],\n",
       "        [2, 5, 8],\n",
       "        [3, 6, 9]])"
      ]
     },
     "execution_count": 63,
     "metadata": {},
     "output_type": "execute_result"
    }
   ],
   "source": [
    "Am.T # la transpuesta de la matriz Am"
   ]
  },
  {
   "cell_type": "code",
   "execution_count": 64,
   "metadata": {},
   "outputs": [
    {
     "data": {
      "text/plain": [
       "matrix([[1, 5, 9]])"
      ]
     },
     "execution_count": 64,
     "metadata": {},
     "output_type": "execute_result"
    }
   ],
   "source": [
    "Am.diagonal() # se obtiene la diagonal de la matriz Am"
   ]
  },
  {
   "cell_type": "code",
   "execution_count": 65,
   "metadata": {},
   "outputs": [
    {
     "data": {
      "text/plain": [
       "-9.51619735392994e-16"
      ]
     },
     "execution_count": 65,
     "metadata": {},
     "output_type": "execute_result"
    }
   ],
   "source": [
    "np.linalg.det(Am) # Determinante de la matriz Am con el método np.linalg.det"
   ]
  },
  {
   "cell_type": "code",
   "execution_count": 66,
   "metadata": {},
   "outputs": [
    {
     "data": {
      "text/plain": [
       "array([ 1.61168440e+01, -1.11684397e+00, -9.75918483e-16])"
      ]
     },
     "execution_count": 66,
     "metadata": {},
     "output_type": "execute_result"
    }
   ],
   "source": [
    "np.linalg.eigvals(Am) # eigenvalores de la matriz Am con el método np.linalg.eigvals"
   ]
  },
  {
   "cell_type": "markdown",
   "metadata": {},
   "source": [
    "## Calculo simbolico.\n",
    "\n",
    "En python también se puede realizar cálculo simbólico, para esta actividad se tiene la paquetería sympy y usualmente se importa con el alias sp. "
   ]
  },
  {
   "cell_type": "code",
   "execution_count": 29,
   "metadata": {},
   "outputs": [],
   "source": [
    "import sympy as sp"
   ]
  },
  {
   "cell_type": "code",
   "execution_count": 73,
   "metadata": {},
   "outputs": [
    {
     "name": "stdout",
     "output_type": "stream",
     "text": [
      "1/2\n"
     ]
    }
   ],
   "source": [
    "a = sp.Rational(1,2) # se utiliza para crear un número racional  sp.Rational(numerador,denominador)\n",
    "print(a)"
   ]
  },
  {
   "cell_type": "code",
   "execution_count": 74,
   "metadata": {},
   "outputs": [
    {
     "name": "stdout",
     "output_type": "stream",
     "text": [
      "1\n"
     ]
    }
   ],
   "source": [
    "print(a*2) # se realiza una multiplicación sencilla de la variable simbólica por el valor entero 2."
   ]
  },
  {
   "cell_type": "code",
   "execution_count": 75,
   "metadata": {},
   "outputs": [
    {
     "data": {
      "text/latex": [
       "$\\displaystyle \\frac{1}{88817841970012523233890533447265625}$"
      ],
      "text/plain": [
       "1/88817841970012523233890533447265625"
      ]
     },
     "execution_count": 75,
     "metadata": {},
     "output_type": "execute_result"
    }
   ],
   "source": [
    "sp.Rational(2)**50/sp.Rational(10)**50 # También los números racionales simbólicos se pueden dividir  \n",
    "# sp.Rational(numerador,denominador)/ sp.Rational(numerador,denominador)"
   ]
  },
  {
   "cell_type": "code",
   "execution_count": 76,
   "metadata": {},
   "outputs": [
    {
     "data": {
      "text/latex": [
       "$\\displaystyle \\pi^{2}$"
      ],
      "text/plain": [
       "pi**2"
      ]
     },
     "execution_count": 76,
     "metadata": {},
     "output_type": "execute_result"
    }
   ],
   "source": [
    "sp.pi**2 # Se calcula el valor simbólico de pi al cuadrado."
   ]
  },
  {
   "cell_type": "code",
   "execution_count": 78,
   "metadata": {},
   "outputs": [
    {
     "data": {
      "text/latex": [
       "$\\displaystyle 3.14159265358979$"
      ],
      "text/plain": [
       "3.14159265358979"
      ]
     },
     "execution_count": 78,
     "metadata": {},
     "output_type": "execute_result"
    }
   ],
   "source": [
    "sp.pi.evalf() ##se puede usar el método evalf() para evaluar una expresión para tener un\n",
    "              ##valor en punto flotante (float)."
   ]
  },
  {
   "cell_type": "markdown",
   "metadata": {},
   "source": [
    "Comúnmente se desea realizar cálculo simbólico pero con variables arbitrarias, para eso se utiliza el método \" sp.Symbol('variable') \""
   ]
  },
  {
   "cell_type": "code",
   "execution_count": 79,
   "metadata": {},
   "outputs": [],
   "source": [
    "x = sp.Symbol('x') # se crea la variable simbólica x\n",
    "y = sp.Symbol('y') # se crea la variable simbólica y"
   ]
  },
  {
   "cell_type": "code",
   "execution_count": 80,
   "metadata": {},
   "outputs": [
    {
     "data": {
      "text/latex": [
       "$\\displaystyle 2 x$"
      ],
      "text/plain": [
       "2*x"
      ]
     },
     "execution_count": 80,
     "metadata": {},
     "output_type": "execute_result"
    }
   ],
   "source": [
    "x+y+x-y # Se pueden sumar como un número tradicional. "
   ]
  },
  {
   "cell_type": "code",
   "execution_count": 81,
   "metadata": {},
   "outputs": [
    {
     "data": {
      "text/latex": [
       "$\\displaystyle \\left(x + y\\right)^{2}$"
      ],
      "text/plain": [
       "(x + y)**2"
      ]
     },
     "execution_count": 81,
     "metadata": {},
     "output_type": "execute_result"
    }
   ],
   "source": [
    "(x+y)**2  # Se pueden sumar y sacar potencia, como a un número tradicional. "
   ]
  },
  {
   "cell_type": "markdown",
   "metadata": {},
   "source": [
    "Si se hace una operación que pueda tener desarrollo matemático, como un binomio al cuadrado,trinomio perfecto se ocupa el método \" .expand() \" para que el desarollo se imprima en pantalla."
   ]
  },
  {
   "cell_type": "code",
   "execution_count": 83,
   "metadata": {},
   "outputs": [
    {
     "data": {
      "text/latex": [
       "$\\displaystyle x^{2} + 2 x y + y^{2}$"
      ],
      "text/plain": [
       "x**2 + 2*x*y + y**2"
      ]
     },
     "execution_count": 83,
     "metadata": {},
     "output_type": "execute_result"
    }
   ],
   "source": [
    "((x+y)**2).expand() # se desarrolla (x+y)**2  con el método expand "
   ]
  },
  {
   "cell_type": "markdown",
   "metadata": {},
   "source": [
    "En ocasiones necesitamos que una variable simbólica tome cierto valor, para esto se utiliza el método \" .subs( variable,valor)\""
   ]
  },
  {
   "cell_type": "code",
   "execution_count": 84,
   "metadata": {},
   "outputs": [
    {
     "data": {
      "text/latex": [
       "$\\displaystyle \\left(y + 1\\right)^{2}$"
      ],
      "text/plain": [
       "(y + 1)**2"
      ]
     },
     "execution_count": 84,
     "metadata": {},
     "output_type": "execute_result"
    }
   ],
   "source": [
    "((x+y)**2).subs(x, 1)"
   ]
  },
  {
   "cell_type": "markdown",
   "metadata": {},
   "source": [
    "##  Operaciones algebraicas.\n",
    "\n",
    "Con el cálculo simbólico también se puede realizar fracciones parciales , con el método \" sp.apart(fracción, variable) \""
   ]
  },
  {
   "cell_type": "code",
   "execution_count": 85,
   "metadata": {},
   "outputs": [
    {
     "data": {
      "text/latex": [
       "$\\displaystyle \\frac{1}{\\left(x + 1\\right) \\left(x + 2\\right)}$"
      ],
      "text/plain": [
       "1/((x + 1)*(x + 2))"
      ]
     },
     "execution_count": 85,
     "metadata": {},
     "output_type": "execute_result"
    }
   ],
   "source": [
    "1/( (x+2)*(x+1) )"
   ]
  },
  {
   "cell_type": "code",
   "execution_count": 86,
   "metadata": {},
   "outputs": [
    {
     "data": {
      "text/latex": [
       "$\\displaystyle - \\frac{1}{x + 2} + \\frac{1}{x + 1}$"
      ],
      "text/plain": [
       "-1/(x + 2) + 1/(x + 1)"
      ]
     },
     "execution_count": 86,
     "metadata": {},
     "output_type": "execute_result"
    }
   ],
   "source": [
    "sp.apart(1/( (x+2)*(x+1) ), x) # se hace la fraccion parcial de la variable x "
   ]
  },
  {
   "cell_type": "code",
   "execution_count": 87,
   "metadata": {},
   "outputs": [
    {
     "data": {
      "text/latex": [
       "$\\displaystyle \\frac{x + 1}{x - 1}$"
      ],
      "text/plain": [
       "(x + 1)/(x - 1)"
      ]
     },
     "execution_count": 87,
     "metadata": {},
     "output_type": "execute_result"
    }
   ],
   "source": [
    "(x+1)/(x-1)"
   ]
  },
  {
   "cell_type": "markdown",
   "metadata": {},
   "source": [
    "## Limites\n",
    "\n",
    "Para calcular un límite primero se declara una variable simbólica, la cual se operara para sacar el limite , el valor numérico se obtiene de la siguiente manera \n",
    "\n",
    "variable= sp.Symbol('x')\n",
    "sp.limit( funcion, variable , valor ) "
   ]
  },
  {
   "cell_type": "code",
   "execution_count": 90,
   "metadata": {},
   "outputs": [
    {
     "data": {
      "text/latex": [
       "$\\displaystyle 1$"
      ],
      "text/plain": [
       "1"
      ]
     },
     "execution_count": 90,
     "metadata": {},
     "output_type": "execute_result"
    }
   ],
   "source": [
    "x = sp.Symbol(\"x\") # se declara la variable simbolica x \n",
    "sp.limit(sp.sin(x)/x, x, 0) # se obtiene el limite de la funcion sen x/x cuando x tiende a cero "
   ]
  },
  {
   "cell_type": "code",
   "execution_count": 93,
   "metadata": {},
   "outputs": [
    {
     "data": {
      "text/latex": [
       "$\\displaystyle \\infty$"
      ],
      "text/plain": [
       "oo"
      ]
     },
     "execution_count": 93,
     "metadata": {},
     "output_type": "execute_result"
    }
   ],
   "source": [
    "sp.limit(x, x, sp.oo) #se obtiene el limite de la funcion sen x/x cuando x tiende a infinito (sp.oo)"
   ]
  },
  {
   "cell_type": "code",
   "execution_count": 94,
   "metadata": {},
   "outputs": [
    {
     "data": {
      "text/latex": [
       "$\\displaystyle 0$"
      ],
      "text/plain": [
       "0"
      ]
     },
     "execution_count": 94,
     "metadata": {},
     "output_type": "execute_result"
    }
   ],
   "source": [
    "sp.limit(1/x, x, sp.oo) #se obtiene el limite de la funcion 1/x cuando x tiende a infinito (sp.oo)"
   ]
  },
  {
   "cell_type": "code",
   "execution_count": 95,
   "metadata": {},
   "outputs": [
    {
     "data": {
      "text/latex": [
       "$\\displaystyle 1$"
      ],
      "text/plain": [
       "1"
      ]
     },
     "execution_count": 95,
     "metadata": {},
     "output_type": "execute_result"
    }
   ],
   "source": [
    "sp.limit(x**x, x, 0) #se obtiene el limite de la funcion x**x cuando x tiende a cero"
   ]
  },
  {
   "cell_type": "markdown",
   "metadata": {},
   "source": [
    "## Derivadas.\n",
    "\n",
    "Para calcular una derivada primero se declara una variable simbólica, la cual se operara para sacar la derivada y se obtiene de la siguiente manera \n",
    "\n",
    "variable= sp.Symbol('x')\n",
    "sp.diff( funcion, variable,orden de la derivada ) "
   ]
  },
  {
   "cell_type": "code",
   "execution_count": 97,
   "metadata": {},
   "outputs": [
    {
     "data": {
      "text/latex": [
       "$\\displaystyle \\cos{\\left(x \\right)}$"
      ],
      "text/plain": [
       "cos(x)"
      ]
     },
     "execution_count": 97,
     "metadata": {},
     "output_type": "execute_result"
    }
   ],
   "source": [
    "x = sp.Symbol('x') # se declara la varible x \n",
    "sp.diff(sp.sin(x), x) # se deriva la funcion sen x respecto x"
   ]
  },
  {
   "cell_type": "code",
   "execution_count": 103,
   "metadata": {},
   "outputs": [
    {
     "data": {
      "text/latex": [
       "$\\displaystyle 2 \\cos{\\left(2 x \\right)}$"
      ],
      "text/plain": [
       "2*cos(2*x)"
      ]
     },
     "execution_count": 103,
     "metadata": {},
     "output_type": "execute_result"
    }
   ],
   "source": [
    "sp.diff(sp.sin(2*x), x) # se deriva la funcion sen 2x respecto x\n"
   ]
  },
  {
   "cell_type": "code",
   "execution_count": 104,
   "metadata": {},
   "outputs": [
    {
     "data": {
      "text/latex": [
       "$\\displaystyle \\tan^{2}{\\left(x \\right)} + 1$"
      ],
      "text/plain": [
       "tan(x)**2 + 1"
      ]
     },
     "execution_count": 104,
     "metadata": {},
     "output_type": "execute_result"
    }
   ],
   "source": [
    "sp.diff(sp.tan(x), x) # se deriva la funcion tan x respecto x"
   ]
  },
  {
   "cell_type": "code",
   "execution_count": 106,
   "metadata": {},
   "outputs": [
    {
     "data": {
      "text/latex": [
       "$\\displaystyle 2 \\cos{\\left(2 x \\right)}$"
      ],
      "text/plain": [
       "2*cos(2*x)"
      ]
     },
     "execution_count": 106,
     "metadata": {},
     "output_type": "execute_result"
    }
   ],
   "source": [
    "sp.diff(sp.sin(2*x), x, 1) # Derivada de orden 1 respecto de x "
   ]
  },
  {
   "cell_type": "code",
   "execution_count": 108,
   "metadata": {},
   "outputs": [
    {
     "data": {
      "text/latex": [
       "$\\displaystyle - 4 \\sin{\\left(2 x \\right)}$"
      ],
      "text/plain": [
       "-4*sin(2*x)"
      ]
     },
     "execution_count": 108,
     "metadata": {},
     "output_type": "execute_result"
    }
   ],
   "source": [
    "sp.diff(sp.sin(2*x), x, 2) # Derivada de orden 2 respecto de x "
   ]
  },
  {
   "cell_type": "code",
   "execution_count": 109,
   "metadata": {},
   "outputs": [
    {
     "data": {
      "text/latex": [
       "$\\displaystyle - 8 \\cos{\\left(2 x \\right)}$"
      ],
      "text/plain": [
       "-8*cos(2*x)"
      ]
     },
     "execution_count": 109,
     "metadata": {},
     "output_type": "execute_result"
    }
   ],
   "source": [
    "sp.diff(sp.sin(2*x), x, 3) # Derivada de orden 3 respecto de x "
   ]
  },
  {
   "cell_type": "markdown",
   "metadata": {},
   "source": [
    "## Expansion de series.\n",
    "\n",
    "En el caso de python, se puede calcular la serie de Taylor de una función de la siguiente manera\n",
    "\n",
    "funcion.series(variable, punto a evaluar la serie de Taylor , termino final ) "
   ]
  },
  {
   "cell_type": "code",
   "execution_count": 110,
   "metadata": {},
   "outputs": [
    {
     "data": {
      "text/latex": [
       "$\\displaystyle 1 - \\frac{x^{2}}{2} + \\frac{x^{4}}{24} - \\frac{x^{6}}{720} + \\frac{x^{8}}{40320} + O\\left(x^{10}\\right)$"
      ],
      "text/plain": [
       "1 - x**2/2 + x**4/24 - x**6/720 + x**8/40320 + O(x**10)"
      ]
     },
     "execution_count": 110,
     "metadata": {},
     "output_type": "execute_result"
    }
   ],
   "source": [
    "sp.cos(x).series(x, 0, 10) # serie de taylor de cos (x)  respecto de x evaluada en cero hasta el término 10"
   ]
  },
  {
   "cell_type": "code",
   "execution_count": 112,
   "metadata": {},
   "outputs": [
    {
     "data": {
      "text/latex": [
       "$\\displaystyle 1 + \\frac{x^{2}}{2} + \\frac{5 x^{4}}{24} + \\frac{61 x^{6}}{720} + \\frac{277 x^{8}}{8064} + O\\left(x^{10}\\right)$"
      ],
      "text/plain": [
       "1 + x**2/2 + 5*x**4/24 + 61*x**6/720 + 277*x**8/8064 + O(x**10)"
      ]
     },
     "execution_count": 112,
     "metadata": {},
     "output_type": "execute_result"
    }
   ],
   "source": [
    "(1/sp.cos(x)).series(x, 0, 10) # serie de taylor de cos (x)  respecto de x evaluada en cero hasta el término 10"
   ]
  },
  {
   "cell_type": "code",
   "execution_count": 114,
   "metadata": {},
   "outputs": [
    {
     "name": "stdout",
     "output_type": "stream",
     "text": [
      "          2    3    4        \n",
      "1   x    x    x    x     ⎛ 5⎞\n",
      "─ - ── + ── - ── + ── + O⎝x ⎠\n",
      "y    2    3    4    5        \n",
      "    y    y    y    y         \n"
     ]
    }
   ],
   "source": [
    "e = 1/(x + y) # se crea la funcion \n",
    "s = e.series(x, 0, 5) # serie de taylor de 1/(x+y)  respecto de x evaluada en cero hasta el término 5\n",
    "sp.pprint(s) # se imprime la serie en formato de maquina "
   ]
  },
  {
   "cell_type": "markdown",
   "metadata": {},
   "source": [
    "## Integracion. \n",
    "\n",
    "Para integrar de forma indefinida, se utiliza el método \n",
    "\n",
    "sp.integrate( funcion , variable ) "
   ]
  },
  {
   "cell_type": "code",
   "execution_count": 115,
   "metadata": {},
   "outputs": [
    {
     "data": {
      "text/latex": [
       "$\\displaystyle x^{6}$"
      ],
      "text/plain": [
       "x**6"
      ]
     },
     "execution_count": 115,
     "metadata": {},
     "output_type": "execute_result"
    }
   ],
   "source": [
    "sp.integrate(6*x**5, x) # integral de 6*x^5  respecto de x"
   ]
  },
  {
   "cell_type": "code",
   "execution_count": 116,
   "metadata": {},
   "outputs": [
    {
     "data": {
      "text/latex": [
       "$\\displaystyle - \\cos{\\left(x \\right)}$"
      ],
      "text/plain": [
       "-cos(x)"
      ]
     },
     "execution_count": 116,
     "metadata": {},
     "output_type": "execute_result"
    }
   ],
   "source": [
    "sp.integrate(sp.sin(x), x) # integral de sin(x)  respecto de x"
   ]
  },
  {
   "cell_type": "code",
   "execution_count": 117,
   "metadata": {},
   "outputs": [
    {
     "data": {
      "text/latex": [
       "$\\displaystyle x \\log{\\left(x \\right)} - x$"
      ],
      "text/plain": [
       "x*log(x) - x"
      ]
     },
     "execution_count": 117,
     "metadata": {},
     "output_type": "execute_result"
    }
   ],
   "source": [
    "sp.integrate(sp.log(x), x)  # integral de log(x)  respecto de x"
   ]
  },
  {
   "cell_type": "code",
   "execution_count": 118,
   "metadata": {},
   "outputs": [
    {
     "data": {
      "text/latex": [
       "$\\displaystyle x^{2} + \\cosh{\\left(x \\right)}$"
      ],
      "text/plain": [
       "x**2 + cosh(x)"
      ]
     },
     "execution_count": 118,
     "metadata": {},
     "output_type": "execute_result"
    }
   ],
   "source": [
    "sp.integrate(2*x + sp.sinh(x), x)  # integral de 2x +sinh(x) respecto de x"
   ]
  },
  {
   "cell_type": "markdown",
   "metadata": {},
   "source": [
    "### Integrales definidas.\n",
    "\n",
    "sp.integrate( funcion , (variable, a, b) ) "
   ]
  },
  {
   "cell_type": "code",
   "execution_count": 122,
   "metadata": {},
   "outputs": [
    {
     "data": {
      "text/latex": [
       "$\\displaystyle 0$"
      ],
      "text/plain": [
       "0"
      ]
     },
     "execution_count": 122,
     "metadata": {},
     "output_type": "execute_result"
    }
   ],
   "source": [
    "sp.integrate(x**3, (x, -1, 1)) # integral de x ^ 3 respecto de x de -1 a 1 "
   ]
  },
  {
   "cell_type": "code",
   "execution_count": 125,
   "metadata": {},
   "outputs": [
    {
     "data": {
      "text/latex": [
       "$\\displaystyle 1$"
      ],
      "text/plain": [
       "1"
      ]
     },
     "execution_count": 125,
     "metadata": {},
     "output_type": "execute_result"
    }
   ],
   "source": [
    "sp.integrate(sp.sin(x), (x, 0, sp.pi/2)) # integral de sin(x) respecto de x de 0 a pi/2"
   ]
  },
  {
   "cell_type": "code",
   "execution_count": 126,
   "metadata": {},
   "outputs": [
    {
     "data": {
      "text/latex": [
       "$\\displaystyle 2$"
      ],
      "text/plain": [
       "2"
      ]
     },
     "execution_count": 126,
     "metadata": {},
     "output_type": "execute_result"
    }
   ],
   "source": [
    "sp.integrate(sp.cos(x), (x, -sp.pi/2, sp.pi/2)) # integral de cos(x) respecto de x de -pi/2 a pi/2"
   ]
  },
  {
   "cell_type": "markdown",
   "metadata": {},
   "source": [
    "### Integrales impropias."
   ]
  },
  {
   "cell_type": "code",
   "execution_count": 129,
   "metadata": {},
   "outputs": [
    {
     "data": {
      "text/latex": [
       "$\\displaystyle 1$"
      ],
      "text/plain": [
       "1"
      ]
     },
     "execution_count": 129,
     "metadata": {},
     "output_type": "execute_result"
    }
   ],
   "source": [
    "sp.integrate(sp.exp(-x), (x, 0, sp.oo))# integral de exp(-x) respecto de x de 0 a infinito "
   ]
  },
  {
   "cell_type": "code",
   "execution_count": 130,
   "metadata": {},
   "outputs": [
    {
     "data": {
      "text/latex": [
       "$\\displaystyle -1$"
      ],
      "text/plain": [
       "-1"
      ]
     },
     "execution_count": 130,
     "metadata": {},
     "output_type": "execute_result"
    }
   ],
   "source": [
    "sp.integrate(sp.log(x), (x, 0, 1)) # integral de log(x) respecto de x de 0 a 1"
   ]
  },
  {
   "cell_type": "markdown",
   "metadata": {},
   "source": [
    "## Objeto de integracion"
   ]
  },
  {
   "cell_type": "code",
   "execution_count": 132,
   "metadata": {},
   "outputs": [
    {
     "data": {
      "text/latex": [
       "$\\displaystyle 1.6$"
      ],
      "text/plain": [
       "1.6"
      ]
     },
     "execution_count": 132,
     "metadata": {},
     "output_type": "execute_result"
    }
   ],
   "source": [
    "integ = sp.Integral(sp.sin(x)**2/x**2, (x, 0, sp.oo))# integral de sin(x)^2 /x^2  respecto de x de 0 a infinito \n",
    "integ.evalf() # se obtiene el valor numérico guardado en integ"
   ]
  },
  {
   "cell_type": "markdown",
   "metadata": {},
   "source": [
    "## Ecuaciones algebraicas y algebra lineal.\n",
    "\n",
    "Para obtener las raíces de un polinomio, se usa el método \" sp.solve(polinomio , variable )\""
   ]
  },
  {
   "cell_type": "code",
   "execution_count": 134,
   "metadata": {},
   "outputs": [
    {
     "data": {
      "text/plain": [
       "[-1, 1, -I, I]"
      ]
     },
     "execution_count": 134,
     "metadata": {},
     "output_type": "execute_result"
    }
   ],
   "source": [
    "sp.solve(x**4 - 1, x) # se sacan las raices del polinomio x^4 -1 respecto de x \n"
   ]
  },
  {
   "cell_type": "markdown",
   "metadata": {},
   "source": [
    "Para un sistema de ecuaciones lineales la instrucción es\n",
    "\n",
    "sp.solve( ecuacion1, ecuacion2, [variable1, variable2] )\n",
    "\n",
    "suponiendo que cada ecuación depende de las variables 1 y 2, esto se puede hacer para varias ecuaciones lineales."
   ]
  },
  {
   "cell_type": "code",
   "execution_count": 135,
   "metadata": {},
   "outputs": [
    {
     "data": {
      "text/plain": [
       "{x: -3, y: 1}"
      ]
     },
     "execution_count": 135,
     "metadata": {},
     "output_type": "execute_result"
    }
   ],
   "source": [
    "# Sistema de dos ecuaciones. Resuelve x e y\n",
    "sp.solve([x + 5*y - 2, -3*x + 6*y - 15], [x, y]) "
   ]
  },
  {
   "cell_type": "code",
   "execution_count": 136,
   "metadata": {},
   "outputs": [
    {
     "data": {
      "text/latex": [
       "$\\displaystyle \\left[\\begin{matrix}1 & 0\\\\0 & 1\\end{matrix}\\right]$"
      ],
      "text/plain": [
       "Matrix([\n",
       "[1, 0],\n",
       "[0, 1]])"
      ]
     },
     "execution_count": 136,
     "metadata": {},
     "output_type": "execute_result"
    }
   ],
   "source": [
    "# Matriz identidad 2x2\n",
    "sp.Matrix([[1,0], [0,1]])"
   ]
  },
  {
   "cell_type": "code",
   "execution_count": 137,
   "metadata": {},
   "outputs": [
    {
     "data": {
      "text/latex": [
       "$\\displaystyle \\left[\\begin{matrix}1 & x\\\\y & 1\\end{matrix}\\right]$"
      ],
      "text/plain": [
       "Matrix([\n",
       "[1, x],\n",
       "[y, 1]])"
      ]
     },
     "execution_count": 137,
     "metadata": {},
     "output_type": "execute_result"
    }
   ],
   "source": [
    "x = sp.Symbol('x') # se declara la variable simbólica x\n",
    "y = sp.Symbol('y') # se declara la variable simbólica y\n",
    "A = sp.Matrix([[1,x], [y,1]]) # se declara la matriz simbólica que tiene variables x e y.\n",
    "A"
   ]
  },
  {
   "cell_type": "code",
   "execution_count": 138,
   "metadata": {},
   "outputs": [
    {
     "data": {
      "text/latex": [
       "$\\displaystyle \\left[\\begin{matrix}x y + 1 & 2 x\\\\2 y & x y + 1\\end{matrix}\\right]$"
      ],
      "text/plain": [
       "Matrix([\n",
       "[x*y + 1,     2*x],\n",
       "[    2*y, x*y + 1]])"
      ]
     },
     "execution_count": 138,
     "metadata": {},
     "output_type": "execute_result"
    }
   ],
   "source": [
    "A**2 # multiplicación matricial "
   ]
  },
  {
   "cell_type": "code",
   "execution_count": 139,
   "metadata": {},
   "outputs": [
    {
     "data": {
      "text/latex": [
       "$\\displaystyle \\left[\\begin{matrix}1 & 0 & 0\\\\0 & 1 & 0\\\\0 & 0 & 1\\end{matrix}\\right]$"
      ],
      "text/plain": [
       "Matrix([\n",
       "[1, 0, 0],\n",
       "[0, 1, 0],\n",
       "[0, 0, 1]])"
      ]
     },
     "execution_count": 139,
     "metadata": {},
     "output_type": "execute_result"
    }
   ],
   "source": [
    "sp.eye(3)  # matriz identidad de 3x3"
   ]
  },
  {
   "cell_type": "code",
   "execution_count": 141,
   "metadata": {},
   "outputs": [
    {
     "data": {
      "text/latex": [
       "$\\displaystyle \\left[\\begin{matrix}x & 0 & 0\\\\0 & x & 0\\\\0 & 0 & x\\end{matrix}\\right]$"
      ],
      "text/plain": [
       "Matrix([\n",
       "[x, 0, 0],\n",
       "[0, x, 0],\n",
       "[0, 0, x]])"
      ]
     },
     "execution_count": 141,
     "metadata": {},
     "output_type": "execute_result"
    }
   ],
   "source": [
    "# Multiplico la matriz identidad por x\n",
    "x = sp.Symbol('x')\n",
    "M = sp.eye(3) * x\n",
    "M"
   ]
  },
  {
   "cell_type": "code",
   "execution_count": 142,
   "metadata": {},
   "outputs": [
    {
     "data": {
      "text/latex": [
       "$\\displaystyle \\left[\\begin{matrix}4 & 0 & 0\\\\0 & 4 & 0\\\\0 & 0 & 4\\end{matrix}\\right]$"
      ],
      "text/plain": [
       "Matrix([\n",
       "[4, 0, 0],\n",
       "[0, 4, 0],\n",
       "[0, 0, 4]])"
      ]
     },
     "execution_count": 142,
     "metadata": {},
     "output_type": "execute_result"
    }
   ],
   "source": [
    "# Substituyo x por 4 en la matriz\n",
    "M.subs(x, 4)"
   ]
  },
  {
   "cell_type": "code",
   "execution_count": 143,
   "metadata": {},
   "outputs": [
    {
     "data": {
      "text/latex": [
       "$\\displaystyle \\left[\\begin{matrix}y & 0 & 0\\\\0 & y & 0\\\\0 & 0 & y\\end{matrix}\\right]$"
      ],
      "text/plain": [
       "Matrix([\n",
       "[y, 0, 0],\n",
       "[0, y, 0],\n",
       "[0, 0, y]])"
      ]
     },
     "execution_count": 143,
     "metadata": {},
     "output_type": "execute_result"
    }
   ],
   "source": [
    "# Substituyo la variable x por y en la matriz\n",
    "y = sp.Symbol('y')\n",
    "M.subs(x, y)"
   ]
  },
  {
   "cell_type": "code",
   "execution_count": 35,
   "metadata": {},
   "outputs": [
    {
     "data": {
      "text/latex": [
       "$\\displaystyle -28$"
      ],
      "text/plain": [
       "-28"
      ]
     },
     "execution_count": 35,
     "metadata": {},
     "output_type": "execute_result"
    }
   ],
   "source": [
    "# Determinante de la matriz\n",
    "M = sp.Matrix(( [1, 2, 3], [3, 6, 2], [2, 0, 1] ))\n",
    "M.det()"
   ]
  },
  {
   "cell_type": "code",
   "execution_count": 145,
   "metadata": {},
   "outputs": [
    {
     "data": {
      "text/latex": [
       "$\\displaystyle \\left[\\begin{matrix}- \\frac{3}{14} & \\frac{1}{14} & \\frac{1}{2}\\\\- \\frac{1}{28} & \\frac{5}{28} & - \\frac{1}{4}\\\\\\frac{3}{7} & - \\frac{1}{7} & 0\\end{matrix}\\right]$"
      ],
      "text/plain": [
       "Matrix([\n",
       "[-3/14, 1/14,  1/2],\n",
       "[-1/28, 5/28, -1/4],\n",
       "[  3/7, -1/7,    0]])"
      ]
     },
     "execution_count": 145,
     "metadata": {},
     "output_type": "execute_result"
    }
   ],
   "source": [
    "# Matriz inversa\n",
    "M.inv()"
   ]
  },
  {
   "cell_type": "code",
   "execution_count": 147,
   "metadata": {},
   "outputs": [
    {
     "data": {
      "text/latex": [
       "$\\displaystyle \\left[\\begin{matrix}1 & 2 & 3\\\\3 & \\sqrt{x} & x\\\\2 & 2 x & 1\\end{matrix}\\right]$"
      ],
      "text/plain": [
       "Matrix([\n",
       "[1,       2, 3],\n",
       "[3, sqrt(x), x],\n",
       "[2,     2*x, 1]])"
      ]
     },
     "execution_count": 147,
     "metadata": {},
     "output_type": "execute_result"
    }
   ],
   "source": [
    "# Substituyo algunos elementos de la matriz\n",
    "M[1,2] = x\n",
    "M[2,1] = 2*x\n",
    "M[1,1] = sp.sqrt(x)\n",
    "M"
   ]
  },
  {
   "cell_type": "markdown",
   "metadata": {},
   "source": [
    "## Gráficos con Sympy\n",
    "\n",
    "Una manera más de obtener gráficos es con sympy, para esto se utiliza el método \" sp.plot ( funcion )\""
   ]
  },
  {
   "cell_type": "code",
   "execution_count": 33,
   "metadata": {},
   "outputs": [
    {
     "data": {
      "image/png": "[encoded data removed]",
      "text/plain": [
       "<Figure size 432x288 with 1 Axes>"
      ]
     },
     "metadata": {
      "needs_background": "light"
     },
     "output_type": "display_data"
    },
    {
     "data": {
      "text/plain": [
       "<sympy.plotting.plot.Plot at 0x2379df57f08>"
      ]
     },
     "execution_count": 33,
     "metadata": {},
     "output_type": "execute_result"
    }
   ],
   "source": [
    "x = sp.Symbol('x')\n",
    "sp.plot(sp.sin(x)*sp.log(x))"
   ]
  },
  {
   "cell_type": "code",
   "execution_count": 34,
   "metadata": {},
   "outputs": [
    {
     "data": {
      "image/png": "[encoded data removed]",
      "text/plain": [
       "<Figure size 432x288 with 1 Axes>"
      ]
     },
     "metadata": {
      "needs_background": "light"
     },
     "output_type": "display_data"
    },
    {
     "data": {
      "text/plain": [
       "<sympy.plotting.plot.Plot at 0x237a3ae9e48>"
      ]
     },
     "execution_count": 34,
     "metadata": {},
     "output_type": "execute_result"
    }
   ],
   "source": [
    "sp.plot(sp.sin(2*sp.sin(2*sp.sin(x))))"
   ]
  },
  {
   "cell_type": "code",
   "execution_count": null,
   "metadata": {},
   "outputs": [],
   "source": []
  }
 ],
 "metadata": {
  "kernelspec": {
   "display_name": "Python 3 (ipykernel)",
   "language": "python",
   "name": "python3"
  },
  "language_info": {
   "codemirror_mode": {
    "name": "ipython",
    "version": 3
   },
   "file_extension": ".py",
   "mimetype": "text/x-python",
   "name": "python",
   "nbconvert_exporter": "python",
   "pygments_lexer": "ipython3",
   "version": "3.9.12"
  }
 },
 "nbformat": 4,
 "nbformat_minor": 4
}

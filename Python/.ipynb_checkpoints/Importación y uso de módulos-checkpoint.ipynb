{
 "cells": [
  {
   "cell_type": "markdown",
   "id": "0c4018bd",
   "metadata": {},
   "source": [
    "<font color=\"Red\" face=\"Comic Sans MS,arial\">\n",
    "  <h1 align=\"center\"><i>Importación y uso de módulos </i></h1>\n",
    "  </font>\n",
    "  \n",
    "> Elaborado por: Jesús Iván Coss Calderón. mat_ing_coss@ciencias.unam.mx"
   ]
  },
  {
   "cell_type": "markdown",
   "id": "d572795c",
   "metadata": {},
   "source": [
    "**Objetivo general**\n",
    "\n",
    "* Aprender a utilizar y elaborar módulos\n",
    "\n",
    "**Objetivos particulares**\n",
    "\n",
    "* Entender la elaboración de módulos"
   ]
  },
  {
   "cell_type": "markdown",
   "id": "001e54d2",
   "metadata": {},
   "source": [
    "[**Regresa al notebook principal**](https://github.com/seismomat/HerramientasComputacionales/blob/main/TemarioDePython/Temario%20de%20Python.ipynb)"
   ]
  },
  {
   "cell_type": "markdown",
   "id": "b76ffc8a",
   "metadata": {},
   "source": [
    "<a name='c1'></a>\n",
    "\n",
    "## Contenido\n",
    "\n",
    "- [Importando módulos](#1)\n",
    "- [Utilizando los módulos](#2)"
   ]
  },
  {
   "cell_type": "markdown",
   "id": "269975e0",
   "metadata": {},
   "source": [
    "<a name='1'></a>\n",
    "\n",
    "# Importando módulos\n",
    "[regresar al contenido](#c1)\n"
   ]
  },
  {
   "cell_type": "code",
   "execution_count": 8,
   "id": "b3b872a3",
   "metadata": {},
   "outputs": [],
   "source": [
    "import import_ipynb"
   ]
  },
  {
   "cell_type": "code",
   "execution_count": 24,
   "id": "7350f377",
   "metadata": {},
   "outputs": [],
   "source": [
    "import Modulo1 as M\n"
   ]
  },
  {
   "cell_type": "markdown",
   "id": "d003deb7",
   "metadata": {},
   "source": [
    "<a name='2'></a>\n",
    "\n",
    "# Utilizando los módulos\n",
    "[regresar al contenido](#c1)"
   ]
  },
  {
   "cell_type": "code",
   "execution_count": 25,
   "id": "a7c7c289",
   "metadata": {},
   "outputs": [
    {
     "name": "stdout",
     "output_type": "stream",
     "text": [
      "dato1= 2 dato2= 3\n",
      "La suma es:  5\n"
     ]
    }
   ],
   "source": [
    "objeto=M.calculadora()\n",
    "print(\"dato1=\",objeto.dato1,\"dato2=\",objeto.dato2)\n",
    "print(\"La suma es: \",objeto.sumar())"
   ]
  },
  {
   "cell_type": "code",
   "execution_count": null,
   "id": "b8a958a9",
   "metadata": {},
   "outputs": [],
   "source": []
  }
 ],
 "metadata": {
  "kernelspec": {
   "display_name": "Python 3 (ipykernel)",
   "language": "python",
   "name": "python3"
  },
  "language_info": {
   "codemirror_mode": {
    "name": "ipython",
    "version": 3
   },
   "file_extension": ".py",
   "mimetype": "text/x-python",
   "name": "python",
   "nbconvert_exporter": "python",
   "pygments_lexer": "ipython3",
   "version": "3.9.12"
  }
 },
 "nbformat": 4,
 "nbformat_minor": 5
}

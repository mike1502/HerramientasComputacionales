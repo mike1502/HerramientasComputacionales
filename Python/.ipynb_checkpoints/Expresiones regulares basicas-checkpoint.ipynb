{
 "cells": [
  {
   "cell_type": "markdown",
   "id": "0c4018bd",
   "metadata": {},
   "source": [
    "<font color=\"Red\" face=\"Comic Sans MS,arial\">\n",
    "  <h1 align=\"center\"><i>Expresiones regulares básicas </i></h1>\n",
    "  </font>\n",
    "  \n",
    "> Elaborado por: Jesús Iván Coss Calderón. mat_ing_coss@ciencias.unam.mx"
   ]
  },
  {
   "cell_type": "markdown",
   "id": "d572795c",
   "metadata": {},
   "source": [
    "**Objetivo general**\n",
    "\n",
    "* Aprender la declaración de las expresiones regulares\n",
    "\n",
    "**Objetivos particulares**\n",
    "\n",
    "* Entender la elaboración de expresiones regulares"
   ]
  },
  {
   "cell_type": "markdown",
   "id": "001e54d2",
   "metadata": {},
   "source": [
    "[**Regresa al notebook principal**](https://github.com/seismomat/HerramientasComputacionales/blob/main/TemarioDePython/Temario%20de%20Python.ipynb)"
   ]
  },
  {
   "cell_type": "markdown",
   "id": "b76ffc8a",
   "metadata": {},
   "source": [
    "<a name='c1'></a>\n",
    "\n",
    "## Contenido\n",
    "\n",
    "- [Módulo Regex](#1)\n",
    "    - [Funciones de Regex](#1-1)\n",
    "    - [Llamando funciones creadas](#1-2)\n",
    "- [Metacaracteres](#2)\n",
    "- [Secuencias especiales](#3)\n",
    "- [Conjuntos](#4)\n",
    "- [Función findall()](#5)\n",
    "- [Función search()](#6)\n",
    "- [Función split()](#7)\n",
    "- [Función sub()](#8)\n",
    "- [Objeto Match](#9)\n",
    "- [Ejercicios propuestos](#10)"
   ]
  },
  {
   "cell_type": "markdown",
   "id": "269975e0",
   "metadata": {},
   "source": [
    "<a name='1'></a>\n",
    "\n",
    "# Módulo Regex\n",
    "[regresar al contenido](#c1)\n",
    "\n",
    "Python tiene un paquete incorporado llamado \"re\" que se puede utilizar para trabajar con Expresiones Regulares.\n",
    "\n",
    "Importa el módulo \"re\":"
   ]
  },
  {
   "cell_type": "code",
   "execution_count": 1,
   "id": "ba5b82bf",
   "metadata": {},
   "outputs": [],
   "source": [
    "import re"
   ]
  },
  {
   "cell_type": "markdown",
   "id": "cbe0ed82",
   "metadata": {},
   "source": [
    "Cuando hayas importado el módulo \"re\", puedes empezar a usar expresiones regulares."
   ]
  },
  {
   "cell_type": "code",
   "execution_count": 2,
   "id": "29c1e28c",
   "metadata": {},
   "outputs": [],
   "source": [
    "import re\n",
    "\n",
    "txt = \"The rain in Spain\"\n",
    "x = re.search(\"^The.*Spain$\", txt)"
   ]
  },
  {
   "cell_type": "markdown",
   "id": "fb9dfa06",
   "metadata": {},
   "source": [
    "<a name='1-1'></a>\n",
    "\n",
    "## Funciones de Regex\n",
    "[regresar al contenido](#c1)\n",
    "\n",
    "El módulo re ofrece un conjunto de funciones que nos permite buscar una cadena en busca de una coincidencia:"
   ]
  },
  {
   "cell_type": "markdown",
   "id": "028a7929",
   "metadata": {},
   "source": [
    "1. `findall`: Devuelve una lista que contiene todas las coincidencias\n",
    "2. `search`: Devuelve un objeto Match si hay una coincidencia en cualquier parte de la cadena\n",
    "3. `split`: Devuelve una lista en la que la cadena ha sido dividida en cada coincidencia\n",
    "4. `sub`: Reemplaza una o muchas coincidencias con una cadena"
   ]
  },
  {
   "cell_type": "markdown",
   "id": "d003deb7",
   "metadata": {},
   "source": [
    "<a name='2'></a>\n",
    "\n",
    "# Metacaracteres\n",
    "[regresar al contenido](#c1)"
   ]
  },
  {
   "cell_type": "markdown",
   "id": "9fe4a11d",
   "metadata": {},
   "source": [
    "| Character | Descripción                                        | Ejemplo           |\n",
    "|-----------|---------------------------------------------------|-------------------|\n",
    "| []        | Un conjunto de caracteres                         | \"[a-m]\"           |\n",
    "| \\         | Indica una secuencia especial (también se puede usar para escapar caracteres especiales) | \"\\d\" |\n",
    "| .         | Cualquier carácter (excepto el carácter de nueva línea) | \"he..o\" |\n",
    "| ^         | Comienza con                                       | \"^hello\" |\n",
    "| $         | Termina con                                        | \"planet\\$\" |\n",
    "| *         | Cero o más ocurrencias                            | \"he.*o\" |\n",
    "| +         | Una o más ocurrencias                             | \"he.+o\" |\n",
    "| ?         | Cero o una ocurrencia                             | \"he.?o\" |\n",
    "| {}        | Exactamente el número especificado de ocurrencias  | \"he.{2}o\" |\n",
    "| \\|        | O                                                 | \"falls|stays\" |\n",
    "| ()        | Capturar y agrupar                                | \"(ab)+\" |\n"
   ]
  },
  {
   "cell_type": "markdown",
   "id": "334a05cf",
   "metadata": {},
   "source": [
    "<a name='3'></a>\n",
    "\n",
    "# Secuencias especiales\n",
    "[regresar al contenido](#c1)"
   ]
  },
  {
   "cell_type": "markdown",
   "id": "6b8eb44f",
   "metadata": {},
   "source": [
    "Una secuencia especial es un `\\` seguido de uno de los caracteres de la lista a continuación y tiene un significado especial"
   ]
  },
  {
   "cell_type": "markdown",
   "id": "be161290",
   "metadata": {},
   "source": [
    "| Character | Descripción                                              | Ejemplo  |\n",
    "|-----------|---------------------------------------------------------|---------|\n",
    "| \\A        | Devuelve una coincidencia si los caracteres especificados están al principio de la cadena | \"\\AThe\" |\n",
    "| \\b        | Devuelve una coincidencia donde los caracteres especificados están al principio o al final de una palabra (la \"r\" al principio asegura que la cadena se trate como una \"cadena en crudo\") | r\"\\bain\" <br> r\"ain\\b\" |\n",
    "| \\B        | Devuelve una coincidencia donde los caracteres especificados están presentes, pero NO al principio (o al final) de una palabra (la \"r\" al principio asegura que la cadena se trate como una \"cadena en crudo\") | r\"\\Bain\" <br> r\"ain\\B\" |\n",
    "| \\d        | Devuelve una coincidencia donde la cadena contiene dígitos (números del 0 al 9) | \"\\d\" |\n",
    "| \\D        | Devuelve una coincidencia donde la cadena NO CONTIENE dígitos | \"\\D\" |\n",
    "| \\s        | Devuelve una coincidencia donde la cadena contiene un carácter de espacio en blanco | \"\\s\" |\n",
    "| \\S        | Devuelve una coincidencia donde la cadena NO CONTIENE un carácter de espacio en blanco | \"\\S\" |\n",
    "| \\w        | Devuelve una coincidencia donde la cadena contiene cualquier carácter de palabra (caracteres de a a Z, dígitos del 0 al 9 y el carácter de subrayado _ ) | \"\\w\" |\n",
    "| \\W        | Devuelve una coincidencia donde la cadena NO CONTIENE ningún carácter de palabra | \"\\W\" |\n",
    "| \\Z        | Devuelve una coincidencia si los caracteres especificados están al final de la cadena | \"Spain\\Z\" |\n"
   ]
  },
  {
   "cell_type": "markdown",
   "id": "20082363",
   "metadata": {},
   "source": [
    "<a name='4'></a>\n",
    "\n",
    "# Conjuntos\n",
    "[regresar al contenido](#c1)"
   ]
  },
  {
   "cell_type": "markdown",
   "id": "40b8f370",
   "metadata": {},
   "source": [
    "Un conjunto es un conjunto de caracteres dentro de un par de corchetes [] con un significado especial:"
   ]
  },
  {
   "cell_type": "markdown",
   "id": "51c57d99",
   "metadata": {},
   "source": [
    "| Set       | Descripción                                                                                         | \n",
    "|-----------|-----------------------------------------------------------------------------------------------------|\n",
    "| [arn]     | Devuelve una coincidencia donde uno de los caracteres especificados (a, r o n) está presente.       |        \n",
    "| [a-n]     | Devuelve una coincidencia para cualquier carácter en minúsculas, alfabéticamente entre a y n.      |        \n",
    "| [^arn]    | Devuelve una coincidencia para cualquier carácter EXCEPTO a, r y n.                                   |        \n",
    "| [0123]    | Devuelve una coincidencia donde está presente cualquiera de los dígitos especificados (0, 1, 2 o 3). |        \n",
    "| [0-9]     | Devuelve una coincidencia para cualquier dígito entre 0 y 9.                                         |        \n",
    "| [0-5][0-9]| Devuelve una coincidencia para cualquier número de dos dígitos de 00 a 59.                            |        \n",
    "| [a-zA-Z]  | Devuelve una coincidencia para cualquier carácter alfabéticamente entre a y z, en minúsculas O mayúsculas. |        \n",
    "| [+]       | En conjuntos, +, *, ., |, (), $,{} no tiene un significado especial, por lo que [+] significa: devolver una coincidencia para cualquier carácter + en la cadena. | \n"
   ]
  },
  {
   "cell_type": "markdown",
   "id": "7871ea6d",
   "metadata": {},
   "source": [
    "<a name='5'></a>\n",
    "\n",
    "# Función findall()\n",
    "[regresar al contenido](#c1)\n",
    "\n",
    "La función findall() devuelve una lista que contiene todas las coincidencias."
   ]
  },
  {
   "cell_type": "code",
   "execution_count": 2,
   "id": "55057e3d",
   "metadata": {},
   "outputs": [
    {
     "name": "stdout",
     "output_type": "stream",
     "text": [
      "['ai', 'ai']\n"
     ]
    }
   ],
   "source": [
    "import re\n",
    "\n",
    "txt = \"The rain in Spain\"\n",
    "x = re.findall(\"ai\", txt)\n",
    "print(x)"
   ]
  },
  {
   "cell_type": "markdown",
   "id": "7cf34930",
   "metadata": {},
   "source": [
    "La lista contiene las coincidencias en el orden en que se encuentran. Si no se encuentran coincidencias, se devuelve una lista vacía."
   ]
  },
  {
   "cell_type": "code",
   "execution_count": 3,
   "id": "944d6f33",
   "metadata": {},
   "outputs": [
    {
     "name": "stdout",
     "output_type": "stream",
     "text": [
      "[]\n"
     ]
    }
   ],
   "source": [
    "import re\n",
    "\n",
    "txt = \"The rain in Spain\"\n",
    "x = re.findall(\"Portugal\", txt)\n",
    "print(x)"
   ]
  },
  {
   "cell_type": "markdown",
   "id": "579d5f44",
   "metadata": {},
   "source": [
    "<a name='6'></a>\n",
    "\n",
    "# Función search()\n",
    "[regresar al contenido](#c1)\n",
    "\n",
    "La función `search()` busca en la cadena una coincidencia y devuelve un objeto Match si hay una coincidencia. Si hay más de una coincidencia, solo se devolverá la primera aparición de la coincidencia."
   ]
  },
  {
   "cell_type": "markdown",
   "id": "3003b2bc",
   "metadata": {},
   "source": [
    "Busca el primer carácter de espacio en blanco en la cadena."
   ]
  },
  {
   "cell_type": "code",
   "execution_count": 5,
   "id": "d171fed6",
   "metadata": {},
   "outputs": [
    {
     "name": "stdout",
     "output_type": "stream",
     "text": [
      "El primer carácter de espacio en blanco se encuentra en la posición: 3\n"
     ]
    }
   ],
   "source": [
    "import re\n",
    "\n",
    "txt = \"The rain in Spain\"\n",
    "x = re.search(\"\\s\", txt)\n",
    "\n",
    "print(\"El primer carácter de espacio en blanco se encuentra en la posición:\", x.start())"
   ]
  },
  {
   "cell_type": "markdown",
   "id": "c395ec2a",
   "metadata": {},
   "source": [
    "Si no se encuentran coincidencias, se devuelve el valor None."
   ]
  },
  {
   "cell_type": "code",
   "execution_count": 6,
   "id": "ee65f9b6",
   "metadata": {},
   "outputs": [
    {
     "name": "stdout",
     "output_type": "stream",
     "text": [
      "None\n"
     ]
    }
   ],
   "source": [
    "import re\n",
    "\n",
    "txt = \"The rain in Spain\"\n",
    "x = re.search(\"Portugal\", txt)\n",
    "print(x)"
   ]
  },
  {
   "cell_type": "markdown",
   "id": "707bdf61",
   "metadata": {},
   "source": [
    "<a name='7'></a>\n",
    "\n",
    "# Función split()\n",
    "[regresar al contenido](#c1)\n",
    "\n",
    "La función split() devuelve una lista donde la cadena ha sido dividida en cada coincidencia."
   ]
  },
  {
   "cell_type": "markdown",
   "id": "1b958ad3",
   "metadata": {},
   "source": [
    "Dividir en cada carácter de espacio en blanco."
   ]
  },
  {
   "cell_type": "code",
   "execution_count": 7,
   "id": "bf5d3797",
   "metadata": {},
   "outputs": [
    {
     "name": "stdout",
     "output_type": "stream",
     "text": [
      "['The', 'rain', 'in', 'Spain']\n"
     ]
    }
   ],
   "source": [
    "import re\n",
    "\n",
    "txt = \"The rain in Spain\"\n",
    "x = re.split(\"\\s\", txt)\n",
    "print(x)"
   ]
  },
  {
   "cell_type": "markdown",
   "id": "1a81b16c",
   "metadata": {},
   "source": [
    "Puedes controlar el número de ocurrencias especificando el parámetro maxsplit:\n",
    "\n",
    "Ejemplo:\n",
    "\n",
    "Dividir la cadena solo en la primera ocurrencia:"
   ]
  },
  {
   "cell_type": "code",
   "execution_count": 8,
   "id": "851a8ec9",
   "metadata": {},
   "outputs": [
    {
     "name": "stdout",
     "output_type": "stream",
     "text": [
      "['The', 'rain in Spain']\n"
     ]
    }
   ],
   "source": [
    "import re\n",
    "\n",
    "txt = \"The rain in Spain\"\n",
    "x = re.split(\"\\s\", txt, 1)\n",
    "print(x)"
   ]
  },
  {
   "cell_type": "markdown",
   "id": "ea298f4d",
   "metadata": {},
   "source": [
    "<a name='8'></a>\n",
    "\n",
    "# Función sub()\n",
    "[regresar al contenido](#c1)"
   ]
  },
  {
   "cell_type": "markdown",
   "id": "15bd009e",
   "metadata": {},
   "source": [
    "La función sub() reemplaza las coincidencias con el texto que elijas:\n",
    "\n",
    "Ejemplo:\n",
    "\n",
    "Reemplaza cada carácter de espacio en blanco con el número 9:"
   ]
  },
  {
   "cell_type": "code",
   "execution_count": 9,
   "id": "f181ba73",
   "metadata": {},
   "outputs": [
    {
     "name": "stdout",
     "output_type": "stream",
     "text": [
      "The9rain9in9Spain\n"
     ]
    }
   ],
   "source": [
    "import re\n",
    "\n",
    "txt = \"The rain in Spain\"\n",
    "x = re.sub(\"\\s\", \"9\", txt)\n",
    "print(x)"
   ]
  },
  {
   "cell_type": "markdown",
   "id": "87c6daef",
   "metadata": {},
   "source": [
    "Puedes controlar el número de reemplazos especificando el parámetro \"count\":\n",
    "\n",
    "Ejemplo:\n",
    "\n",
    "Reemplaza las primeras 2 ocurrencias:"
   ]
  },
  {
   "cell_type": "code",
   "execution_count": 10,
   "id": "0ee6d709",
   "metadata": {},
   "outputs": [
    {
     "name": "stdout",
     "output_type": "stream",
     "text": [
      "The9rain9in Spain\n"
     ]
    }
   ],
   "source": [
    "import re\n",
    "\n",
    "txt = \"The rain in Spain\"\n",
    "x = re.sub(\"\\s\", \"9\", txt, 2)\n",
    "print(x)"
   ]
  },
  {
   "cell_type": "markdown",
   "id": "202b7434",
   "metadata": {},
   "source": [
    "<a name='9'></a>\n",
    "\n",
    "# Objeto Match\n",
    "[regresar al contenido](#c1)"
   ]
  },
  {
   "cell_type": "markdown",
   "id": "90a9c0e9",
   "metadata": {},
   "source": [
    "Un objeto Match es un objeto que contiene información sobre la búsqueda y el resultado.\n",
    "\n",
    "`Nota`: Si no se encuentra ninguna coincidencia, en lugar del objeto Match se devolverá el valor None.\n",
    "\n",
    "Ejemplo:\n",
    "\n",
    "Realiza una búsqueda que devolverá un objeto Match:"
   ]
  },
  {
   "cell_type": "code",
   "execution_count": 11,
   "id": "6752d808",
   "metadata": {},
   "outputs": [
    {
     "name": "stdout",
     "output_type": "stream",
     "text": [
      "<re.Match object; span=(5, 7), match='ai'>\n"
     ]
    }
   ],
   "source": [
    "import re\n",
    "\n",
    "txt = \"The rain in Spain\"\n",
    "x = re.search(\"ai\", txt)\n",
    "print(x) #this will print an object"
   ]
  },
  {
   "cell_type": "markdown",
   "id": "45d9f9ed",
   "metadata": {},
   "source": [
    "El objeto Match tiene propiedades y métodos que se utilizan para obtener información sobre la búsqueda y el resultado:"
   ]
  },
  {
   "cell_type": "markdown",
   "id": "e594c966",
   "metadata": {},
   "source": [
    "| Método | Descripción |\n",
    "|--------|-------------|\n",
    "| .span() | Devuelve una tupla que contiene las posiciones de inicio y final de la coincidencia. |\n",
    "| .string | Devuelve la cadena pasada a la función. |\n",
    "| .group() | Devuelve la parte de la cadena donde hubo una coincidencia. |"
   ]
  },
  {
   "cell_type": "markdown",
   "id": "83dc9f0a",
   "metadata": {},
   "source": [
    "Ejemplo:\n",
    "\n",
    "Imprimir la posición (posición de inicio y fin) de la primera coincidencia.\n",
    "\n",
    "La expresión regular busca palabras que comienzan con la letra \"S\" mayúscula."
   ]
  },
  {
   "cell_type": "code",
   "execution_count": 15,
   "id": "ea31b7f5",
   "metadata": {},
   "outputs": [
    {
     "name": "stdout",
     "output_type": "stream",
     "text": [
      "(12, 17)\n"
     ]
    }
   ],
   "source": [
    "import re\n",
    "\n",
    "txt = \"The rain in Spain\"\n",
    "x = re.search(r\"\\bS\\w+\", txt)\n",
    "print(x.span())"
   ]
  },
  {
   "cell_type": "markdown",
   "id": "96627021",
   "metadata": {},
   "source": [
    "Ejemplo:\n",
    "\n",
    "Imprime la cadena pasada a la función."
   ]
  },
  {
   "cell_type": "code",
   "execution_count": 13,
   "id": "3c6f505b",
   "metadata": {},
   "outputs": [
    {
     "name": "stdout",
     "output_type": "stream",
     "text": [
      "The rain in Spain\n"
     ]
    }
   ],
   "source": [
    "import re\n",
    "\n",
    "txt = \"The rain in Spain\"\n",
    "x = re.search(r\"\\bS\\w+\", txt)\n",
    "print(x.string)"
   ]
  },
  {
   "cell_type": "markdown",
   "id": "577f341a",
   "metadata": {},
   "source": [
    "Ejemplo:\n",
    "\n",
    "Imprime la parte de la cadena donde hubo una coincidencia.\n",
    "\n",
    "La expresión regular busca palabras que comienzan con una letra \"S\" mayúscula."
   ]
  },
  {
   "cell_type": "code",
   "execution_count": 14,
   "id": "83be9370",
   "metadata": {},
   "outputs": [
    {
     "name": "stdout",
     "output_type": "stream",
     "text": [
      "Spain\n"
     ]
    }
   ],
   "source": [
    "import re\n",
    "\n",
    "txt = \"The rain in Spain\"\n",
    "x = re.search(r\"\\bS\\w+\", txt)\n",
    "print(x.group())"
   ]
  },
  {
   "cell_type": "markdown",
   "id": "03bc0cb7",
   "metadata": {},
   "source": [
    "<a name='10'></a>\n",
    "\n",
    "# Ejercicios propuestos\n",
    "[regresar al contenido](#c1)"
   ]
  },
  {
   "cell_type": "markdown",
   "id": "7739c210",
   "metadata": {},
   "source": [
    "Ejercicios propuestos de expresiones regulares:\n",
    "\n",
    "1. Encuentra todas las direcciones de correo electrónico en un texto utilizando `findall()` y una expresión regular que coincida con patrones de correo electrónico.\n",
    "\n",
    "2. Busca todas las palabras en un texto que tengan al menos 5 letras utilizando `findall()` y una expresión regular que coincida con palabras de 5 letras o más.\n",
    "\n",
    "3. Encuentra todas las fechas en un texto utilizando `findall()` y una expresión regular que coincida con patrones de fecha en formato DD/MM/AAAA.\n",
    "\n",
    "4. Extrae todas las etiquetas HTML de un documento web utilizando `findall()` y una expresión regular que coincida con etiquetas HTML, como `<div>`, `<p>`, o `<a>`.\n",
    "\n",
    "5. Divide un texto en oraciones utilizando `split()` y una expresión regular que coincida con puntos, signos de exclamación o interrogación como delimitadores.\n",
    "\n",
    "6. Reemplaza todas las menciones de números de teléfono en un texto con la palabra \"TELÉFONO\" utilizando `sub()` y una expresión regular que coincida con patrones de números de teléfono.\n",
    "\n",
    "7. Busca todas las URL en un texto utilizando `findall()` y una expresión regular que coincida con patrones de URL válidas, como \"http://example.com\" o \"https://www.example.org\".\n",
    "\n",
    "8. Encuentra todas las palabras que comienzan con una vocal en un texto utilizando `findall()` y una expresión regular que coincida con palabras que comiencen con una vocal.\n",
    "\n",
    "9. Extrae todas las etiquetas XML de un documento utilizando `findall()` y una expresión regular que coincida con etiquetas XML, como `<elemento>` o `<atributo=\"valor\">`.\n",
    "\n",
    "10. Busca todas las direcciones IP en un texto utilizando `findall()` y una expresión regular que coincida con patrones de direcciones IP válidas, como \"192.168.1.1\" o \"10.0.0.1\".\n",
    "\n",
    "Recuerda que las expresiones regulares pueden variar según el contexto y los patrones específicos que estés buscando en tus datos. Estos ejercicios te ayudarán a practicar la creación y uso de expresiones regulares en situaciones del mundo real."
   ]
  }
 ],
 "metadata": {
  "kernelspec": {
   "display_name": "Python 3 (ipykernel)",
   "language": "python",
   "name": "python3"
  },
  "language_info": {
   "codemirror_mode": {
    "name": "ipython",
    "version": 3
   },
   "file_extension": ".py",
   "mimetype": "text/x-python",
   "name": "python",
   "nbconvert_exporter": "python",
   "pygments_lexer": "ipython3",
   "version": "3.9.12"
  }
 },
 "nbformat": 4,
 "nbformat_minor": 5
}

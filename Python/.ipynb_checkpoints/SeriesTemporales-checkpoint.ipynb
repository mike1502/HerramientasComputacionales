{
 "cells": [
  {
   "cell_type": "code",
   "execution_count": null,
   "id": "b5373049",
   "metadata": {},
   "outputs": [],
   "source": [
    "# de aqui lo saque\n",
    "# https://www.aprendemachinelearning.com/pronostico-de-series-temporales-con-redes-neuronales-en-python/"
   ]
  }
 ],
 "metadata": {
  "kernelspec": {
   "display_name": "Python 3 (ipykernel)",
   "language": "python",
   "name": "python3"
  },
  "language_info": {
   "codemirror_mode": {
    "name": "ipython",
    "version": 3
   },
   "file_extension": ".py",
   "mimetype": "text/x-python",
   "name": "python",
   "nbconvert_exporter": "python",
   "pygments_lexer": "ipython3",
   "version": "3.9.12"
  }
 },
 "nbformat": 4,
 "nbformat_minor": 5
}

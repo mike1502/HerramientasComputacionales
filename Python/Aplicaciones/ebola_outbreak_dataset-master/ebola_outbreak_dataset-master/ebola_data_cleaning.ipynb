{
 "cells": [
  {
   "cell_type": "markdown",
   "metadata": {},
   "source": [
    "# Source"
   ]
  },
  {
   "cell_type": "markdown",
   "metadata": {},
   "source": [
    "https://data.humdata.org/dataset/ebola-cases-2014"
   ]
  },
  {
   "cell_type": "markdown",
   "metadata": {},
   "source": [
    "# Libraries"
   ]
  },
  {
   "cell_type": "code",
   "execution_count": 1,
   "metadata": {},
   "outputs": [],
   "source": [
    "# to get web contents\n",
    "import requests \n",
    "# scrap and clean web contents\n",
    "from bs4 import BeautifulSoup\n",
    "\n",
    "# numerical opeations\n",
    "import numpy as np\n",
    "# storing and processing in a dataframe\n",
    "import pandas as pd"
   ]
  },
  {
   "cell_type": "markdown",
   "metadata": {},
   "source": [
    "# Data"
   ]
  },
  {
   "cell_type": "code",
   "execution_count": 2,
   "metadata": {},
   "outputs": [
    {
     "data": {
      "text/html": [
       "<div>\n",
       "<style scoped>\n",
       "    .dataframe tbody tr th:only-of-type {\n",
       "        vertical-align: middle;\n",
       "    }\n",
       "\n",
       "    .dataframe tbody tr th {\n",
       "        vertical-align: top;\n",
       "    }\n",
       "\n",
       "    .dataframe thead th {\n",
       "        text-align: right;\n",
       "    }\n",
       "</style>\n",
       "<table border=\"1\" class=\"dataframe\">\n",
       "  <thead>\n",
       "    <tr style=\"text-align: right;\">\n",
       "      <th></th>\n",
       "      <th>Indicator</th>\n",
       "      <th>Country</th>\n",
       "      <th>Date</th>\n",
       "      <th>value</th>\n",
       "    </tr>\n",
       "  </thead>\n",
       "  <tbody>\n",
       "    <tr>\n",
       "      <th>0</th>\n",
       "      <td>Cumulative number of confirmed, probable and s...</td>\n",
       "      <td>Guinea</td>\n",
       "      <td>2015-03-10</td>\n",
       "      <td>3285.0</td>\n",
       "    </tr>\n",
       "    <tr>\n",
       "      <th>1</th>\n",
       "      <td>Cumulative number of confirmed Ebola cases</td>\n",
       "      <td>Guinea</td>\n",
       "      <td>2015-03-10</td>\n",
       "      <td>2871.0</td>\n",
       "    </tr>\n",
       "    <tr>\n",
       "      <th>2</th>\n",
       "      <td>Cumulative number of probable Ebola cases</td>\n",
       "      <td>Guinea</td>\n",
       "      <td>2015-03-10</td>\n",
       "      <td>392.0</td>\n",
       "    </tr>\n",
       "    <tr>\n",
       "      <th>3</th>\n",
       "      <td>Cumulative number of suspected Ebola cases</td>\n",
       "      <td>Guinea</td>\n",
       "      <td>2015-03-10</td>\n",
       "      <td>22.0</td>\n",
       "    </tr>\n",
       "    <tr>\n",
       "      <th>4</th>\n",
       "      <td>Cumulative number of confirmed, probable and s...</td>\n",
       "      <td>Guinea</td>\n",
       "      <td>2015-03-10</td>\n",
       "      <td>2170.0</td>\n",
       "    </tr>\n",
       "  </tbody>\n",
       "</table>\n",
       "</div>"
      ],
      "text/plain": [
       "                                           Indicator Country       Date  \\\n",
       "0  Cumulative number of confirmed, probable and s...  Guinea 2015-03-10   \n",
       "1         Cumulative number of confirmed Ebola cases  Guinea 2015-03-10   \n",
       "2          Cumulative number of probable Ebola cases  Guinea 2015-03-10   \n",
       "3         Cumulative number of suspected Ebola cases  Guinea 2015-03-10   \n",
       "4  Cumulative number of confirmed, probable and s...  Guinea 2015-03-10   \n",
       "\n",
       "    value  \n",
       "0  3285.0  \n",
       "1  2871.0  \n",
       "2   392.0  \n",
       "3    22.0  \n",
       "4  2170.0  "
      ]
     },
     "execution_count": 2,
     "metadata": {},
     "output_type": "execute_result"
    }
   ],
   "source": [
    "# Read data \n",
    "df = pd.read_csv('ebola_2014_2016_raw.csv', parse_dates=['Date'])\n",
    "# First few rows\n",
    "df.head()"
   ]
  },
  {
   "cell_type": "code",
   "execution_count": 3,
   "metadata": {},
   "outputs": [],
   "source": [
    "# latest data\n",
    "latest_data = df[df['Date'] == max(df['Date'])]"
   ]
  },
  {
   "cell_type": "code",
   "execution_count": 4,
   "metadata": {},
   "outputs": [
    {
     "data": {
      "text/plain": [
       "(17585, 4)"
      ]
     },
     "execution_count": 4,
     "metadata": {},
     "output_type": "execute_result"
    }
   ],
   "source": [
    "# no. of rows and columns\n",
    "df.shape"
   ]
  },
  {
   "cell_type": "code",
   "execution_count": 5,
   "metadata": {},
   "outputs": [
    {
     "name": "stdout",
     "output_type": "stream",
     "text": [
      "Cumulative number of confirmed, probable and suspected Ebola cases\n",
      "Cumulative number of confirmed Ebola cases\n",
      "Cumulative number of probable Ebola cases\n",
      "Cumulative number of suspected Ebola cases\n",
      "Cumulative number of confirmed, probable and suspected Ebola deaths\n",
      "Cumulative number of confirmed Ebola deaths\n",
      "Cumulative number of probable Ebola deaths\n",
      "Cumulative number of suspected Ebola deaths\n",
      "Number of confirmed Ebola cases in the last 21 days\n",
      "Number of confirmed, probable and suspected Ebola cases in the last 21 days\n",
      "Number of probable Ebola cases in the last 21 days\n",
      "Number of confirmed Ebola cases in the last 7 days\n",
      "Number of probable Ebola cases in the last 7 days\n",
      "Number of suspected Ebola cases in the last 7 days\n",
      "Number of confirmed, probable and suspected Ebola cases in the last 7 days\n",
      "Proportion of confirmed Ebola cases that are from the last 7 days\n",
      "Proportion of probable Ebola cases that are from the last 7 days\n",
      "Proportion of suspected Ebola cases that are from the last 7 days\n",
      "Proportion of confirmed, probable and suspected Ebola cases that are from the last 7 days\n",
      "Number of suspected Ebola cases in the last 21 days\n",
      "Proportion of confirmed Ebola cases that are from the last 21 days\n",
      "Proportion of probable Ebola cases that are from the last 21 days\n",
      "Proportion of suspected Ebola cases that are from the last 21 days\n",
      "Proportion of confirmed, probable and suspected Ebola cases that are from the last 21 days\n",
      "Case fatality rate (CFR) of confirmed Ebola cases\n",
      "Case fatality rate (CFR) of probable Ebola cases\n",
      "Case fatality rate (CFR) of suspected Ebola cases\n",
      "Case fatality rate (CFR) of confirmed, probable and suspected Ebola cases\n",
      "Number of confirmed Ebola deaths in the last 21 days\n",
      "Number of probable Ebola deaths in the last 21 days\n",
      "Number of suspected Ebola deaths in the last 21 days\n",
      "Number of confirmed, probable and suspected Ebola deaths in the last 21 days\n",
      "Proportion of confirmed Ebola deaths that are from the last 21 days\n",
      "Proportion of probable Ebola deaths that are from the last 21 days\n",
      "Proportion of suspected Ebola deaths that are from the last 21 days\n",
      "Proportion of confirmed, probable and suspected Ebola deaths that are from the last 21 days\n"
     ]
    }
   ],
   "source": [
    "# unique values in indicator columns\n",
    "for i in df['Indicator'].unique():\n",
    "    print(i)"
   ]
  },
  {
   "cell_type": "code",
   "execution_count": 6,
   "metadata": {},
   "outputs": [
    {
     "data": {
      "text/plain": [
       "Cumulative number of confirmed, probable and suspected Ebola deaths                            2485\n",
       "Cumulative number of confirmed Ebola cases                                                     2484\n",
       "Cumulative number of confirmed, probable and suspected Ebola cases                             2477\n",
       "Cumulative number of probable Ebola cases                                                      2436\n",
       "Cumulative number of suspected Ebola cases                                                     2366\n",
       "Cumulative number of confirmed Ebola deaths                                                    1648\n",
       "Cumulative number of probable Ebola deaths                                                     1526\n",
       "Cumulative number of suspected Ebola deaths                                                    1308\n",
       "Number of confirmed, probable and suspected Ebola cases in the last 21 days                     190\n",
       "Number of confirmed Ebola cases in the last 21 days                                             190\n",
       "Number of probable Ebola cases in the last 21 days                                               52\n",
       "Proportion of confirmed, probable and suspected Ebola cases that are from the last 21 days       41\n",
       "Proportion of probable Ebola cases that are from the last 21 days                                40\n",
       "Proportion of confirmed Ebola cases that are from the last 21 days                               40\n",
       "Proportion of suspected Ebola cases that are from the last 21 days                               39\n",
       "Number of suspected Ebola cases in the last 21 days                                              39\n",
       "Case fatality rate (CFR) of confirmed, probable and suspected Ebola cases                        19\n",
       "Case fatality rate (CFR) of confirmed Ebola cases                                                19\n",
       "Case fatality rate (CFR) of probable Ebola cases                                                 18\n",
       "Case fatality rate (CFR) of suspected Ebola cases                                                18\n",
       "Number of confirmed Ebola deaths in the last 21 days                                             14\n",
       "Number of confirmed, probable and suspected Ebola deaths in the last 21 days                     14\n",
       "Proportion of confirmed, probable and suspected Ebola deaths that are from the last 21 days      13\n",
       "Number of probable Ebola deaths in the last 21 days                                              13\n",
       "Proportion of confirmed Ebola deaths that are from the last 21 days                              13\n",
       "Number of suspected Ebola deaths in the last 21 days                                             13\n",
       "Proportion of probable Ebola deaths that are from the last 21 days                               12\n",
       "Proportion of suspected Ebola deaths that are from the last 21 days                              10\n",
       "Number of confirmed Ebola cases in the last 7 days                                                6\n",
       "Proportion of confirmed Ebola cases that are from the last 7 days                                 6\n",
       "Number of suspected Ebola cases in the last 7 days                                                6\n",
       "Proportion of probable Ebola cases that are from the last 7 days                                  6\n",
       "Number of probable Ebola cases in the last 7 days                                                 6\n",
       "Number of confirmed, probable and suspected Ebola cases in the last 7 days                        6\n",
       "Proportion of suspected Ebola cases that are from the last 7 days                                 6\n",
       "Proportion of confirmed, probable and suspected Ebola cases that are from the last 7 days         6\n",
       "Name: Indicator, dtype: int64"
      ]
     },
     "execution_count": 6,
     "metadata": {},
     "output_type": "execute_result"
    }
   ],
   "source": [
    "# value count\n",
    "df['Indicator'].value_counts()"
   ]
  },
  {
   "cell_type": "markdown",
   "metadata": {},
   "source": [
    "# Data Cleaning"
   ]
  },
  {
   "cell_type": "code",
   "execution_count": 7,
   "metadata": {},
   "outputs": [
    {
     "data": {
      "text/html": [
       "<div>\n",
       "<style scoped>\n",
       "    .dataframe tbody tr th:only-of-type {\n",
       "        vertical-align: middle;\n",
       "    }\n",
       "\n",
       "    .dataframe tbody tr th {\n",
       "        vertical-align: top;\n",
       "    }\n",
       "\n",
       "    .dataframe thead th {\n",
       "        text-align: right;\n",
       "    }\n",
       "</style>\n",
       "<table border=\"1\" class=\"dataframe\">\n",
       "  <thead>\n",
       "    <tr style=\"text-align: right;\">\n",
       "      <th></th>\n",
       "      <th>Indicator</th>\n",
       "      <th>Country</th>\n",
       "      <th>Date</th>\n",
       "      <th>value</th>\n",
       "    </tr>\n",
       "  </thead>\n",
       "  <tbody>\n",
       "    <tr>\n",
       "      <th>0</th>\n",
       "      <td>Cumulative number of confirmed Ebola cases</td>\n",
       "      <td>Guinea</td>\n",
       "      <td>2015-03-10</td>\n",
       "      <td>2871.0</td>\n",
       "    </tr>\n",
       "    <tr>\n",
       "      <th>1</th>\n",
       "      <td>Cumulative number of confirmed Ebola deaths</td>\n",
       "      <td>Guinea</td>\n",
       "      <td>2015-03-10</td>\n",
       "      <td>1778.0</td>\n",
       "    </tr>\n",
       "    <tr>\n",
       "      <th>2</th>\n",
       "      <td>Cumulative number of confirmed Ebola cases</td>\n",
       "      <td>Liberia</td>\n",
       "      <td>2015-03-10</td>\n",
       "      <td>3150.0</td>\n",
       "    </tr>\n",
       "    <tr>\n",
       "      <th>3</th>\n",
       "      <td>Cumulative number of confirmed Ebola cases</td>\n",
       "      <td>Sierra Leone</td>\n",
       "      <td>2015-03-10</td>\n",
       "      <td>8428.0</td>\n",
       "    </tr>\n",
       "    <tr>\n",
       "      <th>4</th>\n",
       "      <td>Cumulative number of confirmed Ebola deaths</td>\n",
       "      <td>Sierra Leone</td>\n",
       "      <td>2015-03-10</td>\n",
       "      <td>3263.0</td>\n",
       "    </tr>\n",
       "  </tbody>\n",
       "</table>\n",
       "</div>"
      ],
      "text/plain": [
       "                                     Indicator       Country       Date  \\\n",
       "0   Cumulative number of confirmed Ebola cases        Guinea 2015-03-10   \n",
       "1  Cumulative number of confirmed Ebola deaths        Guinea 2015-03-10   \n",
       "2   Cumulative number of confirmed Ebola cases       Liberia 2015-03-10   \n",
       "3   Cumulative number of confirmed Ebola cases  Sierra Leone 2015-03-10   \n",
       "4  Cumulative number of confirmed Ebola deaths  Sierra Leone 2015-03-10   \n",
       "\n",
       "    value  \n",
       "0  2871.0  \n",
       "1  1778.0  \n",
       "2  3150.0  \n",
       "3  8428.0  \n",
       "4  3263.0  "
      ]
     },
     "execution_count": 7,
     "metadata": {},
     "output_type": "execute_result"
    }
   ],
   "source": [
    "# get only confirmed cases and deaths\n",
    "df = df[(df['Indicator']=='Cumulative number of confirmed Ebola cases')|\n",
    "        (df['Indicator']=='Cumulative number of confirmed Ebola deaths')].reset_index(drop=True)\n",
    "# first few rows\n",
    "df.head()"
   ]
  },
  {
   "cell_type": "code",
   "execution_count": 8,
   "metadata": {},
   "outputs": [
    {
     "data": {
      "text/html": [
       "<div>\n",
       "<style scoped>\n",
       "    .dataframe tbody tr th:only-of-type {\n",
       "        vertical-align: middle;\n",
       "    }\n",
       "\n",
       "    .dataframe tbody tr th {\n",
       "        vertical-align: top;\n",
       "    }\n",
       "\n",
       "    .dataframe thead th {\n",
       "        text-align: right;\n",
       "    }\n",
       "</style>\n",
       "<table border=\"1\" class=\"dataframe\">\n",
       "  <thead>\n",
       "    <tr style=\"text-align: right;\">\n",
       "      <th>Indicator</th>\n",
       "      <th>Country</th>\n",
       "      <th>Date</th>\n",
       "      <th>Cumulative number of confirmed Ebola cases</th>\n",
       "      <th>Cumulative number of confirmed Ebola deaths</th>\n",
       "    </tr>\n",
       "  </thead>\n",
       "  <tbody>\n",
       "    <tr>\n",
       "      <th>0</th>\n",
       "      <td>Guinea</td>\n",
       "      <td>2014-08-29</td>\n",
       "      <td>482.0</td>\n",
       "      <td>287.0</td>\n",
       "    </tr>\n",
       "    <tr>\n",
       "      <th>1</th>\n",
       "      <td>Nigeria</td>\n",
       "      <td>2014-08-29</td>\n",
       "      <td>15.0</td>\n",
       "      <td>6.0</td>\n",
       "    </tr>\n",
       "    <tr>\n",
       "      <th>2</th>\n",
       "      <td>Sierra Leone</td>\n",
       "      <td>2014-08-29</td>\n",
       "      <td>935.0</td>\n",
       "      <td>380.0</td>\n",
       "    </tr>\n",
       "    <tr>\n",
       "      <th>3</th>\n",
       "      <td>Liberia</td>\n",
       "      <td>2014-08-29</td>\n",
       "      <td>322.0</td>\n",
       "      <td>225.0</td>\n",
       "    </tr>\n",
       "    <tr>\n",
       "      <th>4</th>\n",
       "      <td>Guinea</td>\n",
       "      <td>2014-09-05</td>\n",
       "      <td>604.0</td>\n",
       "      <td>362.0</td>\n",
       "    </tr>\n",
       "  </tbody>\n",
       "</table>\n",
       "</div>"
      ],
      "text/plain": [
       "Indicator       Country       Date  \\\n",
       "0                Guinea 2014-08-29   \n",
       "1               Nigeria 2014-08-29   \n",
       "2          Sierra Leone 2014-08-29   \n",
       "3               Liberia 2014-08-29   \n",
       "4                Guinea 2014-09-05   \n",
       "\n",
       "Indicator  Cumulative number of confirmed Ebola cases  \\\n",
       "0                                               482.0   \n",
       "1                                                15.0   \n",
       "2                                               935.0   \n",
       "3                                               322.0   \n",
       "4                                               604.0   \n",
       "\n",
       "Indicator  Cumulative number of confirmed Ebola deaths  \n",
       "0                                                287.0  \n",
       "1                                                  6.0  \n",
       "2                                                380.0  \n",
       "3                                                225.0  \n",
       "4                                                362.0  "
      ]
     },
     "execution_count": 8,
     "metadata": {},
     "output_type": "execute_result"
    }
   ],
   "source": [
    "# pivot table to wider format\n",
    "final_df = df.pivot_table(values='value', index=['Country', 'Date'], columns=['Indicator'])\n",
    "# reset index\n",
    "final_df = final_df.reset_index()\n",
    "# sort values based on date\n",
    "final_df = final_df.sort_values('Date').reset_index(drop=True)\n",
    "# rename axis\n",
    "final_df.rename_axis(None)\n",
    "# first few values\n",
    "final_df.head()"
   ]
  },
  {
   "cell_type": "code",
   "execution_count": 9,
   "metadata": {},
   "outputs": [
    {
     "data": {
      "text/plain": [
       "Index(['Country', 'Date', 'Cumulative number of confirmed Ebola cases',\n",
       "       'Cumulative number of confirmed Ebola deaths'],\n",
       "      dtype='object', name='Indicator')"
      ]
     },
     "execution_count": 9,
     "metadata": {},
     "output_type": "execute_result"
    }
   ],
   "source": [
    "# column names\n",
    "final_df.columns"
   ]
  },
  {
   "cell_type": "code",
   "execution_count": 10,
   "metadata": {},
   "outputs": [
    {
     "data": {
      "text/html": [
       "<div>\n",
       "<style scoped>\n",
       "    .dataframe tbody tr th:only-of-type {\n",
       "        vertical-align: middle;\n",
       "    }\n",
       "\n",
       "    .dataframe tbody tr th {\n",
       "        vertical-align: top;\n",
       "    }\n",
       "\n",
       "    .dataframe thead th {\n",
       "        text-align: right;\n",
       "    }\n",
       "</style>\n",
       "<table border=\"1\" class=\"dataframe\">\n",
       "  <thead>\n",
       "    <tr style=\"text-align: right;\">\n",
       "      <th></th>\n",
       "      <th>Country</th>\n",
       "      <th>Date</th>\n",
       "      <th>No. of confirmed cases</th>\n",
       "      <th>No. of confirmed deaths</th>\n",
       "    </tr>\n",
       "  </thead>\n",
       "  <tbody>\n",
       "    <tr>\n",
       "      <th>0</th>\n",
       "      <td>Guinea</td>\n",
       "      <td>2014-08-29</td>\n",
       "      <td>482.0</td>\n",
       "      <td>287.0</td>\n",
       "    </tr>\n",
       "    <tr>\n",
       "      <th>1</th>\n",
       "      <td>Nigeria</td>\n",
       "      <td>2014-08-29</td>\n",
       "      <td>15.0</td>\n",
       "      <td>6.0</td>\n",
       "    </tr>\n",
       "    <tr>\n",
       "      <th>2</th>\n",
       "      <td>Sierra Leone</td>\n",
       "      <td>2014-08-29</td>\n",
       "      <td>935.0</td>\n",
       "      <td>380.0</td>\n",
       "    </tr>\n",
       "    <tr>\n",
       "      <th>3</th>\n",
       "      <td>Liberia</td>\n",
       "      <td>2014-08-29</td>\n",
       "      <td>322.0</td>\n",
       "      <td>225.0</td>\n",
       "    </tr>\n",
       "    <tr>\n",
       "      <th>4</th>\n",
       "      <td>Guinea</td>\n",
       "      <td>2014-09-05</td>\n",
       "      <td>604.0</td>\n",
       "      <td>362.0</td>\n",
       "    </tr>\n",
       "  </tbody>\n",
       "</table>\n",
       "</div>"
      ],
      "text/plain": [
       "        Country       Date  No. of confirmed cases  No. of confirmed deaths\n",
       "0        Guinea 2014-08-29                   482.0                    287.0\n",
       "1       Nigeria 2014-08-29                    15.0                      6.0\n",
       "2  Sierra Leone 2014-08-29                   935.0                    380.0\n",
       "3       Liberia 2014-08-29                   322.0                    225.0\n",
       "4        Guinea 2014-09-05                   604.0                    362.0"
      ]
     },
     "execution_count": 10,
     "metadata": {},
     "output_type": "execute_result"
    }
   ],
   "source": [
    "# subselect and rearrange columns\n",
    "final_df = final_df[['Country', 'Date', 'Cumulative number of confirmed Ebola cases',  \n",
    "                     'Cumulative number of confirmed Ebola deaths']]\n",
    "# rename columns\n",
    "final_df.columns = ['Country', 'Date', 'No. of confirmed cases',\n",
    "                     'No. of confirmed deaths']\n",
    "# first few rows\n",
    "final_df.head()"
   ]
  },
  {
   "cell_type": "code",
   "execution_count": 11,
   "metadata": {},
   "outputs": [
    {
     "data": {
      "text/plain": [
       "Guinea                      259\n",
       "Guinea 2                      1\n",
       "Italy                       141\n",
       "Liberia                     258\n",
       "Liberia 2                   105\n",
       "Mali                        243\n",
       "Nigeria                     255\n",
       "Senegal                     254\n",
       "Sierra Leone                259\n",
       "Spain                       243\n",
       "United Kingdom              221\n",
       "United States of America    245\n",
       "Name: Country, dtype: int64"
      ]
     },
     "execution_count": 11,
     "metadata": {},
     "output_type": "execute_result"
    }
   ],
   "source": [
    "# value count in country column\n",
    "final_df['Country'].value_counts().sort_index()"
   ]
  },
  {
   "cell_type": "code",
   "execution_count": 12,
   "metadata": {},
   "outputs": [
    {
     "data": {
      "text/plain": [
       "2016-03-23    12\n",
       "2015-12-29    11\n",
       "2015-12-23    11\n",
       "2015-12-22    11\n",
       "2015-12-17    11\n",
       "2015-12-16    11\n",
       "2015-12-15    11\n",
       "2015-12-11    11\n",
       "2015-12-10    11\n",
       "2015-12-09    11\n",
       "Name: Date, dtype: int64"
      ]
     },
     "execution_count": 12,
     "metadata": {},
     "output_type": "execute_result"
    }
   ],
   "source": [
    "final_df['Date'].value_counts().sort_index(ascending=False)[:10]"
   ]
  },
  {
   "cell_type": "code",
   "execution_count": 13,
   "metadata": {},
   "outputs": [
    {
     "data": {
      "text/html": [
       "<div>\n",
       "<style scoped>\n",
       "    .dataframe tbody tr th:only-of-type {\n",
       "        vertical-align: middle;\n",
       "    }\n",
       "\n",
       "    .dataframe tbody tr th {\n",
       "        vertical-align: top;\n",
       "    }\n",
       "\n",
       "    .dataframe thead th {\n",
       "        text-align: right;\n",
       "    }\n",
       "</style>\n",
       "<table border=\"1\" class=\"dataframe\">\n",
       "  <thead>\n",
       "    <tr style=\"text-align: right;\">\n",
       "      <th></th>\n",
       "      <th>Country</th>\n",
       "      <th>Date</th>\n",
       "      <th>No. of confirmed cases</th>\n",
       "      <th>No. of confirmed deaths</th>\n",
       "    </tr>\n",
       "  </thead>\n",
       "  <tbody>\n",
       "    <tr>\n",
       "      <th>0</th>\n",
       "      <td>Guinea</td>\n",
       "      <td>2014-08-29</td>\n",
       "      <td>482.0</td>\n",
       "      <td>287.0</td>\n",
       "    </tr>\n",
       "    <tr>\n",
       "      <th>1</th>\n",
       "      <td>Nigeria</td>\n",
       "      <td>2014-08-29</td>\n",
       "      <td>15.0</td>\n",
       "      <td>6.0</td>\n",
       "    </tr>\n",
       "    <tr>\n",
       "      <th>2</th>\n",
       "      <td>Sierra Leone</td>\n",
       "      <td>2014-08-29</td>\n",
       "      <td>935.0</td>\n",
       "      <td>380.0</td>\n",
       "    </tr>\n",
       "    <tr>\n",
       "      <th>3</th>\n",
       "      <td>Liberia</td>\n",
       "      <td>2014-08-29</td>\n",
       "      <td>322.0</td>\n",
       "      <td>225.0</td>\n",
       "    </tr>\n",
       "    <tr>\n",
       "      <th>4</th>\n",
       "      <td>Guinea</td>\n",
       "      <td>2014-09-05</td>\n",
       "      <td>604.0</td>\n",
       "      <td>362.0</td>\n",
       "    </tr>\n",
       "  </tbody>\n",
       "</table>\n",
       "</div>"
      ],
      "text/plain": [
       "        Country       Date  No. of confirmed cases  No. of confirmed deaths\n",
       "0        Guinea 2014-08-29                   482.0                    287.0\n",
       "1       Nigeria 2014-08-29                    15.0                      6.0\n",
       "2  Sierra Leone 2014-08-29                   935.0                    380.0\n",
       "3       Liberia 2014-08-29                   322.0                    225.0\n",
       "4        Guinea 2014-09-05                   604.0                    362.0"
      ]
     },
     "execution_count": 13,
     "metadata": {},
     "output_type": "execute_result"
    }
   ],
   "source": [
    "# replace values in country column\n",
    "final_df['Country'] = final_df['Country'].replace(r'Liberia 2', 'Liberia', regex=True)\n",
    "final_df['Country'] = final_df['Country'].replace(r'Guinea 2', 'Liberia', regex=True)\n",
    "final_df.head()"
   ]
  },
  {
   "cell_type": "markdown",
   "metadata": {},
   "source": [
    "# Save as csv file"
   ]
  },
  {
   "cell_type": "code",
   "execution_count": 14,
   "metadata": {},
   "outputs": [],
   "source": [
    "# save dataframe as a .csv file\n",
    "final_df.to_csv('ebola_2014_2016_clean.csv', index=False)"
   ]
  },
  {
   "cell_type": "code",
   "execution_count": null,
   "metadata": {},
   "outputs": [],
   "source": []
  },
  {
   "cell_type": "code",
   "execution_count": null,
   "metadata": {},
   "outputs": [],
   "source": []
  },
  {
   "cell_type": "code",
   "execution_count": 15,
   "metadata": {},
   "outputs": [],
   "source": [
    "# latest_data.pivot_table(values='value', index=['Country', 'Date'], columns=['Indicator'])"
   ]
  },
  {
   "cell_type": "code",
   "execution_count": null,
   "metadata": {},
   "outputs": [],
   "source": []
  }
 ],
 "metadata": {
  "kernelspec": {
   "display_name": "Python 3",
   "language": "python",
   "name": "python3"
  },
  "language_info": {
   "codemirror_mode": {
    "name": "ipython",
    "version": 3
   },
   "file_extension": ".py",
   "mimetype": "text/x-python",
   "name": "python",
   "nbconvert_exporter": "python",
   "pygments_lexer": "ipython3",
   "version": "3.7.6"
  }
 },
 "nbformat": 4,
 "nbformat_minor": 4
}

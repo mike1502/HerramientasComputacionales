{
 "cells": [
  {
   "cell_type": "markdown",
   "id": "460892fb-6e80-4164-afb4-714fc06202b0",
   "metadata": {},
   "source": [
    "Tarea 1\n",
    "A continuación se enlistan una serie de ejercicios con los que se pondrán en práctica los comandos vistos en clase.\n",
    "Recuerde comentar y explicar el código."
   ]
  },
  {
   "cell_type": "markdown",
   "id": "1d875dde-6f88-4941-bd11-c539c9de5c59",
   "metadata": {},
   "source": [
    ">Ejercicio 1\n",
    ">Escriba una función que, dado un número del 1 al 10, determine si es par o impar."
   ]
  },
  {
   "cell_type": "code",
   "execution_count": null,
   "id": "41857c67-1a76-41ce-887b-75a936b3f015",
   "metadata": {},
   "outputs": [],
   "source": []
  },
  {
   "cell_type": "markdown",
   "id": "22055173-d31e-4b72-8acf-c87234642021",
   "metadata": {},
   "source": [
    ">Ejercicio 2. Para ingresar al programa de pregrado en medicina, cualquier aspirante debe tener un certificado de preparatoria, ser mayor de 17 años, tener un promedio mayor a 7.5 y aprobar una entrevista. Cree un código que valide esta información, agrupando las variables diploma (booleana) con edad (entero) y promedio (flotante) con entrevista (booleano)."
   ]
  },
  {
   "cell_type": "code",
   "execution_count": null,
   "id": "85b3967e-c57c-49d0-9b5f-b1e12b627333",
   "metadata": {},
   "outputs": [],
   "source": []
  },
  {
   "cell_type": "markdown",
   "id": "9bf1b5e9-9957-4988-b680-464e85d008c1",
   "metadata": {},
   "source": [
    ">Ejercicio 3. Primera Plus (empresa dedicada al transporte en el centro y occidente del país), requiere de la construcción de una interfaz mediante la que el usuario ha de interactuar (interfaz humano-máquina). Construya un pequeño Menú de selección, que ofrezca las siguientes opciones:\n",
    ">\n",
    ">1.- Leer un número de 4 dígitos, mostrar el dígito mayor e informar si es par o impar.\n",
    ">\n",
    ">2.- Leer dos números de 3 dígitos cada uno, formar un tercer número con el mayor del primero y el menor del segundo.\n",
    ">\n",
    ">3.- Leer un número de 3 dígitos y formar el mayor número posible con sus cifras.\n",
    ">\n",
    ">4.- Salir\n",
    "\n"
   ]
  },
  {
   "cell_type": "code",
   "execution_count": null,
   "id": "493b39e6-7a9e-49b4-a541-88f6861c1a11",
   "metadata": {},
   "outputs": [],
   "source": []
  },
  {
   "cell_type": "markdown",
   "id": "89daef36-fef2-4230-b045-45c8efc251de",
   "metadata": {},
   "source": [
    ">Ejercicio 4.- Pedro y Jesús son dos hermanos, hijos de Manuel, y quienes tienen acceso a una bóveda en un exclusivo banco. El dueño original de esta bóveda es su padre, y en su testamento ha especificado las siguientes condiciones para que el banco le permita acceder a sus hijos al contenido de dicha bóveda. Las condiciones son las siguientes:\n",
    ">\n",
    ">a. Juan debe ser mayor de 35 años, o Pedro debe ser menor de 50 años.\n",
    ">\n",
    ">b. La suma de sus edades debe ser un número par.\n",
    ">\n",
    ">c. Manuel debe tener mínimo 1 nieto.\n",
    ">\n",
    ">Construya una función que lea la edad de Juan, la edad de Pedro, el número de nietos y calcule, usando condicionales, si tienen acceso (SI) o no (NO) a la bóveda."
   ]
  },
  {
   "cell_type": "code",
   "execution_count": null,
   "id": "734fde59-8be8-4604-a7d1-099792fd6428",
   "metadata": {},
   "outputs": [],
   "source": []
  },
  {
   "cell_type": "markdown",
   "id": "621e408a-ddd0-4c69-b699-0501e60b8e91",
   "metadata": {},
   "source": [
    ">El incremento salarial de una compañía, se determina de acuerdo al desempeño de cada empleado. Cada jefe de área le asigna una calificación entre 1 y 25 a cada empleado teniendo en cuenta dos factores: culminación de proyectos y trabajo en equipo. El desempeño es calculado sumando el resultado de ambos factores y determinando el porcentaje total.\n",
    "Los empleados que obtengan más del 60% de desempeño y al menos 12 puntos en cada factor obtendrán un incremento de 5%. El resto de empleados obtendran 2.5%.\n",
    ">\n",
    ">Escribe un código que permita, a partir del valor de los factores ingresados por el gerente e imprima el porcentaje a incrementar (0.025 = 2.5% y 0.05 = 5%)."
   ]
  },
  {
   "cell_type": "code",
   "execution_count": null,
   "id": "a514f0fa-083b-44a0-9a02-fb14465a6fab",
   "metadata": {},
   "outputs": [],
   "source": []
  },
  {
   "cell_type": "markdown",
   "id": "3a6e835d-97af-4d38-a814-b4b5fbc3fa8f",
   "metadata": {},
   "source": [
    "Ejercicio 6.- Escribe un programa que encuentre el valor máximo y mínimo en una lista de números."
   ]
  },
  {
   "cell_type": "code",
   "execution_count": null,
   "id": "1788aac0-b301-4f46-8ce9-851b9af69f9e",
   "metadata": {},
   "outputs": [],
   "source": []
  },
  {
   "cell_type": "markdown",
   "id": "e971316b-47c8-4c8f-aeb1-9a8177576a3d",
   "metadata": {},
   "source": [
    "Dada una lista de números, crea dos listas separadas: una para números pares y otra para números impares"
   ]
  },
  {
   "cell_type": "markdown",
   "id": "670a9375-23cc-43c1-b5b7-7ecd9b341eb4",
   "metadata": {},
   "source": [
    "Dado dos vectores, calcular:\n",
    "el Producto de los vectores\n",
    "la potencia de cada vector (n=3)\n",
    "el producto escalar."
   ]
  },
  {
   "cell_type": "code",
   "execution_count": null,
   "id": "ee45515a-6aa9-4482-9720-477733ff230d",
   "metadata": {},
   "outputs": [],
   "source": []
  },
  {
   "cell_type": "markdown",
   "id": "5e786499-d0f7-4aea-9bd0-502392f23682",
   "metadata": {
    "jp-MarkdownHeadingCollapsed": true
   },
   "source": [
    "2.- Sin utilizar librerías adicionales cree un arreglo de numéros enteros (entre 0 y 150) y calcule a través de funciones estándar o lambda lo siguiente:\n",
    "\n",
    "*   El promedio\n",
    "*   La varianza\n",
    "*   La desviación estándar\n",
    "*   Visualice los datos en un histograma.\n",
    "*   La suma de los números pares e impares.\n",
    "*   Los múltiplos de 2, 3 y 5."
   ]
  },
  {
   "cell_type": "code",
   "execution_count": null,
   "id": "99d47967-a2aa-4b0e-a767-c8af8c46b1e6",
   "metadata": {},
   "outputs": [],
   "source": []
  },
  {
   "cell_type": "markdown",
   "id": "23c63162-182b-4c60-990c-67f8f1951315",
   "metadata": {},
   "source": []
  },
  {
   "cell_type": "code",
   "execution_count": null,
   "id": "4af87f14-ace5-4cad-8a3c-2810c1b27fa1",
   "metadata": {},
   "outputs": [],
   "source": []
  },
  {
   "cell_type": "markdown",
   "id": "a8d218f0-4f24-4680-a2a4-0866d0f7dc89",
   "metadata": {},
   "source": [
    "**Ejercicio 1**:\n",
    "Diseña un programa que convierta dólares americanos a pesos mexicanos, euros, libras\n",
    "esterlinas, yuanes y rublos utilizando una tasa de cambio fija. Muestre la tasa de cambio e imprima los cinco resultados.\n"
   ]
  },
  {
   "cell_type": "markdown",
   "id": "dcaa6619-00a5-4bc1-981a-3fce8669fdbc",
   "metadata": {},
   "source": [
    "**Ejercicio 3**:\n",
    "Crea un script que determine cuál de tres números introducidos por el usuario es el mayor,\n",
    "usando sentencias IF anidadas o múltiples ELIF."
   ]
  },
  {
   "cell_type": "markdown",
   "id": "fce47698-67fb-4b6a-9b40-123ed926b9c1",
   "metadata": {},
   "source": [
    "**Ejercicio 4**:\n",
    "Programe una función que resuelva ecuaciones de segundo grado utilizando la fórmula general.\n",
    "El usuario debe ingresar los valores de a, b y c. Genere valores por default por si el usuario no ingresa\n",
    "un número entero o flotante. Además, calcule el valor del discriminante\n",
    "(b^2 - 4ac) y determine si tiene soluciones reales, soluciones complejas. Imprima el resultado."
   ]
  },
  {
   "cell_type": "markdown",
   "id": "29023c43-cfc3-4da8-a446-ca2efdf2b2d2",
   "metadata": {},
   "source": [
    "**Ejercicio 6**\n",
    "\n",
    "Escriba una función que reciba una lista de datos (la de abajo) y devuelva listas con los datos filtrados. Este programa debe separar los datos en **int**, **str**, **bool**, **float**. **Hint**: use la función **append** para insertar datos en las listas."
   ]
  },
  {
   "cell_type": "markdown",
   "id": "356a2cb9-ef1c-4f9c-9cc0-afe7949d9a31",
   "metadata": {},
   "source": [
    "**Ejercicio 7**:\n",
    "\n",
    "Imprimir pirámide de asteriscos\n",
    "Descripción: Crea una función que imprima una pirámide de asteriscos usando bucles anidados, donde el número de niveles de la pirámide sea un valor dado."
   ]
  }
 ],
 "metadata": {
  "kernelspec": {
   "display_name": "Python 3 (ipykernel)",
   "language": "python",
   "name": "python3"
  },
  "language_info": {
   "codemirror_mode": {
    "name": "ipython",
    "version": 3
   },
   "file_extension": ".py",
   "mimetype": "text/x-python",
   "name": "python",
   "nbconvert_exporter": "python",
   "pygments_lexer": "ipython3",
   "version": "3.12.3"
  }
 },
 "nbformat": 4,
 "nbformat_minor": 5
}

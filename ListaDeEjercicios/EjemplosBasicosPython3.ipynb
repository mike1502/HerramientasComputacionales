{
 "cells": [
  {
   "cell_type": "markdown",
   "id": "db2eb792-5c81-4811-9691-89a3cf063360",
   "metadata": {},
   "source": [
    "### Ejercicio 1\n",
    "\n",
    "Con base en la definición de número primo, escriba una función que reciba un número entero e imprima 'True' si lo es o de lo contrario imprima 'False'. Tenga en cuenta que si el número es menor o igual a 1, se retorna como resultado \"Error en el Número\" y debe volver a preguntar hasta que la entrada sea valida."
   ]
  },
  {
   "cell_type": "code",
   "execution_count": null,
   "id": "8032446f-09f4-4aa2-b7a9-9f986b95af45",
   "metadata": {},
   "outputs": [],
   "source": [
    "def ejercicio1(N):\n",
    "   \"\"\" Escriba acá su código documentado \n",
    "   Descripción de la función \n",
    "   :param (entradas)......\n",
    "   :type (str, bool, int, float)......\n",
    "   :return salidas...\n",
    "   :rturnt (str, bool, int, float)...\n",
    "   \"\"\"\n",
    "    \n",
    "    return 0 # Escriba acá la variable/s de retorno\n",
    "\n",
    "ejercicio1(164)"
   ]
  },
  {
   "cell_type": "markdown",
   "id": "7427f055-1ad1-42ca-919f-1bd71566efa2",
   "metadata": {},
   "source": [
    "### Ejercicio 2\n",
    "\n",
    "Escriba una función que lea un número entero ($N$) mayor que $100$ y valide:\n",
    "2. Si N es menor de 100 retorne: \"Error en el número\" y vuelva a preguntar la entrada. \n",
    "3. Si N termina en 4,7 ó 9; diga si es divisible por 3. \n",
    "4. Si N termina en 1 ó 5, divida por 10 y retorne el valor entero, en otro caso divida el número entre 3 y retorne su residuo. "
   ]
  },
  {
   "cell_type": "code",
   "execution_count": null,
   "id": "fa7ecb6c-b3cf-496e-947d-6599ea74497e",
   "metadata": {},
   "outputs": [],
   "source": [
    "def ejercicio2(N):\n",
    "   \"\"\" Escriba acá su código documentado \n",
    "   Descripción de la función \n",
    "   :param (entradas)......\n",
    "   :type (str, bool, int, float)......\n",
    "   :return salidas...\n",
    "   :rturnt (str, bool, int, float)...\n",
    "   \"\"\"\n",
    "    \n",
    "    return 0 # Escriba acá la variable/s de retorno\n",
    "\n",
    "ejercicio2(164)  "
   ]
  },
  {
   "cell_type": "markdown",
   "id": "9c3debee-bf8b-452f-a8b3-0d2431dd28c1",
   "metadata": {},
   "source": [
    "### Ejercicio 3\n",
    "\n",
    "Realice un programa que calcule la serie de Fibonacci y la imprima en pantalla, tenga en cuenta las restricciones de la variable de entrada. "
   ]
  },
  {
   "cell_type": "code",
   "execution_count": null,
   "id": "37738531-e08e-4706-8105-ef2ea58d96f3",
   "metadata": {},
   "outputs": [],
   "source": [
    "def ejercicio3(N):\n",
    "   \"\"\" Escriba acá su código documentado \n",
    "   Descripción de la función \n",
    "   :param (entradas)......\n",
    "   :type (str, bool, int, float)......\n",
    "   :return salidas...\n",
    "   :rturnt (str, bool, int, float)...\n",
    "   \"\"\"\n",
    "    \n",
    "    return 0 # Escriba acá la variable/s de retorno\n",
    "\n",
    "ejercicio3(164)  "
   ]
  },
  {
   "cell_type": "markdown",
   "id": "d47bad16-5b3e-4333-9f00-2fe7c7481034",
   "metadata": {},
   "source": [
    "### Ejercicio 4\n",
    "\n",
    "Dados dos números a y b, determine:\n",
    "1. El máximo común divisor.\n",
    "2. El mínimo común múltiplo. \n",
    "3. Almacene los resultados en un diccionario e imprima en pantalla."
   ]
  },
  {
   "cell_type": "code",
   "execution_count": null,
   "id": "e98de050-858b-4255-8af4-de41ea189ede",
   "metadata": {},
   "outputs": [],
   "source": [
    "def ejercicio4(N):\n",
    "   \"\"\" Escriba acá su código documentado \n",
    "   Descripción de la función \n",
    "   :param (entradas)......\n",
    "   :type (str, bool, int, float)......\n",
    "   :return salidas...\n",
    "   :rturnt (str, bool, int, float)...\n",
    "   \"\"\"\n",
    "    \n",
    "    return 0 # Escriba acá la variable/s de retorno\n",
    "\n",
    "ejercicio4(164) "
   ]
  }
 ],
 "metadata": {
  "kernelspec": {
   "display_name": "Python 3 (ipykernel)",
   "language": "python",
   "name": "python3"
  },
  "language_info": {
   "codemirror_mode": {
    "name": "ipython",
    "version": 3
   },
   "file_extension": ".py",
   "mimetype": "text/x-python",
   "name": "python",
   "nbconvert_exporter": "python",
   "pygments_lexer": "ipython3",
   "version": "3.12.3"
  }
 },
 "nbformat": 4,
 "nbformat_minor": 5
}

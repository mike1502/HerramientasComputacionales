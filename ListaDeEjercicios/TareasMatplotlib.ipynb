{
 "cells": [
  {
   "cell_type": "markdown",
   "id": "5bcc4b96-c6ff-402e-9e9c-a1430a3081a0",
   "metadata": {},
   "source": [
    "3.- En la clase de ecuaciones diferenciales se pide a los estudiantes encontrar la solución del problema de valor inicial:\n",
    "\n",
    "\\begin{equation}\n",
    "y´=-y+x \\hspace{3cm} y(-1)=5.\n",
    "\\end{equation}\n",
    "\n",
    "\n",
    "Los estudiantes llegaron a la solución general cuya ecuación es:\n",
    "\n",
    "\\begin{equation}\n",
    "y=(x-1)+C e^{-x}\n",
    "\\end{equation}\n",
    "\n",
    "Apoye a sus compañeros y grafique en python la familia de curvas para la solución de la ecuación diferencial y en un sólo gráfico muestre de diferente color las curvas para los siguientes tres casos:\n",
    "\n",
    "*   para valores de C > 0\n",
    "*   cuando C = 0\n",
    "*   para valores de C < 0\n",
    "\n",
    "Señale en el gráfico las curvas que corresponden a cada uno de los tres casos."
   ]
  },
  {
   "cell_type": "code",
   "execution_count": null,
   "id": "10b46f5a-e7bd-4214-a87c-21b2ebf86fbb",
   "metadata": {},
   "outputs": [],
   "source": []
  },
  {
   "cell_type": "markdown",
   "id": "441289d2-fbee-4347-9a0d-fde3ad4cdc29",
   "metadata": {},
   "source": [
    "4.- Sea la función:\n",
    "\\begin{equation}\n",
    "\\frac{3x + 7}{x^2 - 4}\n",
    "\\end{equation}\n",
    "\n",
    "Utilizando la librería matplotlib:\n",
    "\n",
    "1.- Grafique la función con línea continua para un rango de -10 a 10, con más de 1000 muestras.\n",
    "\n",
    "2.- Investigue en la literatura cómo graficar las asíntotas horizontales y verticales. Muéstrelas en el gráfico con líneas punteadas.\n",
    "\n",
    "3.- Establezca límites en el eje \"y\" para evitar que la gráfica muestre valores muy altos o muy bajos cerca de las asíntotas verticales.\n",
    "\n",
    "4.- Añada una leyenda indicando los elementos presentes en la gráfica."
   ]
  }
 ],
 "metadata": {
  "kernelspec": {
   "display_name": "Python 3 (ipykernel)",
   "language": "python",
   "name": "python3"
  },
  "language_info": {
   "codemirror_mode": {
    "name": "ipython",
    "version": 3
   },
   "file_extension": ".py",
   "mimetype": "text/x-python",
   "name": "python",
   "nbconvert_exporter": "python",
   "pygments_lexer": "ipython3",
   "version": "3.12.3"
  }
 },
 "nbformat": 4,
 "nbformat_minor": 5
}

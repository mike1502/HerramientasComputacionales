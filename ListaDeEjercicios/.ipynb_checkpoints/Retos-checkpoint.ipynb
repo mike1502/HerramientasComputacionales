{
 "cells": [
  {
   "cell_type": "markdown",
   "id": "1ba48eb7-d3e5-4dce-9314-02b0f83e782f",
   "metadata": {},
   "source": [
    "### Reto 1.- Utilizando listas, diccionarios y fuciones Lambda, programe un reloj mundial, en el que ingrese como\n",
    "entrada la hora de la Ciudad de México y muestre la hora en las siguientes ciudades.\n",
    "    \n",
    "    1.- Tokio, Japón\n",
    "    2.- Pekin, China\n",
    "    3.- Dusambé, Tayikistán\n",
    "    4.- Perth, Australia\n",
    "    5.- Katmandú, Nepal\n",
    "    6.- Vilna, Lituania\n",
    "    7.- Freetown, Sierra Leona\n",
    "    8.- Río de Janeiro, Brasil\n",
    "    9.- Tegucigalpa, Honduras\n",
    "    10.- La Paz, Baja California Sur, México\n",
    "\n",
    "Requerimientos\n",
    "1. Crear funciones que retornen los valores solicitados, documentando las entradas y salidas.\n",
    "2. Comentar los procesos esenciales del código.\n"
   ]
  },
  {
   "cell_type": "code",
   "execution_count": null,
   "id": "6f94a71d-b9f6-46b6-b31d-89591bbeacdf",
   "metadata": {},
   "outputs": [],
   "source": []
  },
  {
   "cell_type": "markdown",
   "id": "8d3943d3-3347-47d8-8e9d-749612d83d3b",
   "metadata": {},
   "source": [
    "### Reto 2.- Juego de Piedra, Papel o Tijeras\n",
    "Genere una función que le permita jugar piedra, papel o tijera con la computadora, teniendo en cuenta\n",
    "tres posibles resultados: victoria, empate o derrota."
   ]
  },
  {
   "cell_type": "code",
   "execution_count": null,
   "id": "261da11a-9c6d-48f4-b2d5-d8f08e96df73",
   "metadata": {},
   "outputs": [],
   "source": []
  },
  {
   "cell_type": "markdown",
   "id": "eacadc48-7069-43de-802d-147d37a7a573",
   "metadata": {},
   "source": [
    "### Reto 3.- Cree la función ejercicio2 que reciba una matriz de ceros $T[n,m]$ con ($n=m=5$) y realice lo siguiente:\n",
    "1. asigne valores aleatorios enteros entre 1 y 10.\n",
    "2. imprima los valores de T desde $T[1,1]$ hasta $T[5,5]$.\n",
    "A. imprima los valores desde $T[1,5]$ hasta $T[5,1]$.\n",
    "3. imprima la suma de los elementos pares recorriendo por filas.\n",
    "4. imprima la suma de los elementos impares recorriendo por columas.\n",
    "5. imprima los promedios de las filas y columnas.\n",
    "6. imprima la traza ($tr(T)$) y el promedio de la diagonal principal.\n"
   ]
  },
  {
   "cell_type": "code",
   "execution_count": null,
   "id": "cee1fdde-dae2-4ff9-8f32-55dc87be34d8",
   "metadata": {},
   "outputs": [],
   "source": []
  },
  {
   "cell_type": "markdown",
   "id": "2289fd85-809f-4c72-b5e1-0e56368b73f2",
   "metadata": {},
   "source": [
    "### Reto 4.- Ajedrez\n",
    "Utilizando arreglos numéricos con numpy y funciones de visualización de Matplotlib, cree una función llamada ajedrez, que muestre el tablero con las columnas diferenciadas por números y las filas con letras, tal como se muestra en la figura adjunta"
   ]
  },
  {
   "cell_type": "code",
   "execution_count": null,
   "id": "52508266-384c-41cf-952d-27a64811a105",
   "metadata": {},
   "outputs": [],
   "source": []
  },
  {
   "cell_type": "markdown",
   "id": "8a0d5a96-cb2f-4014-81d9-0ac0bc89e64e",
   "metadata": {},
   "source": [
    "### Reto 5.- La función de Himmelblau\n",
    "Es una función multimodal empleada en las pruebas de rendimiento de algoritmos de optimización, la\n",
    "cual está definida por:\n",
    "$$f(x,y)=(x^{2}+y+11)^{2}+(x+y^{2}-7)^{2},\\,\\, \\forall \\,\\, x,y \\,\\, \\in [-6,6]$$\n",
    "1. Realice un código que grafique $f(x,y)$ mostrando los contornos.\n",
    "2. Realice un código que identifique los mínimos.\n",
    "extras\n",
    "1. ¿Qué tipo de función es $f(x,y)$?\n",
    "2. ¿Porqué $f(x,y)$ está definida solo para -6 y 6?\n",
    "3. ¿Qué puede inferir de los mínimos?"
   ]
  },
  {
   "cell_type": "code",
   "execution_count": null,
   "id": "a6b30d75-e16e-4a75-b143-48811aa7501f",
   "metadata": {},
   "outputs": [],
   "source": []
  },
  {
   "cell_type": "markdown",
   "id": "d89879e7-2c7c-47f2-b996-fee142f60c59",
   "metadata": {},
   "source": [
    "### Reto 6.- Torre de Pisa\n",
    "La torre de Pisa es una estructura que se ha inclinado desde su construcción, en la Tabla adjunta se\n",
    "muestran los años, su altura y proyección de sombra. Muestre en un gif la variación que ha tenido la\n",
    "Altura, la sombre y el ángulo de inclinación.\n",
    "Edificio Altura [m] Sombra [m]\n",
    "1711 55,06 8.9\n",
    "1823 51,16 8.5\n",
    "1946 52,16 6.4\n",
    "1968 53,10 7.5\n",
    "1979 51,12 8.9\n",
    "1982 53,01 8.5\n",
    "1993 56,11 6.4\n",
    "1994 53,12 9.8\n",
    "2005 54,06 8.9\n",
    "2007 51,13 8.5\n",
    "2019 53,16 6.4\n",
    "2020 52,46 10\n"
   ]
  },
  {
   "cell_type": "code",
   "execution_count": null,
   "id": "8b29cb38-3d5d-4eca-9f4b-c2deb58e331f",
   "metadata": {},
   "outputs": [],
   "source": []
  },
  {
   "cell_type": "markdown",
   "id": "4192974f-d6f9-44b1-8134-b7752257eb34",
   "metadata": {},
   "source": [
    "### Reto 7.- Conversor\n",
    "Genere una clase padre llamada Conversor, la cual convierta unidades de longitud, masa y tiempo\n",
    "(clases hijo), en al menos $6$ versiones, por ejemplo:\n",
    "\n",
    "    decámetros a:\n",
    "        milímetros.\n",
    "        kilómetros.\n",
    "        metros.\n",
    "        centímetros.\n",
    "        micras.\n",
    "        yardas.\n",
    "Por último, imprima en pantalla la unidad de entrada y la de salida"
   ]
  },
  {
   "cell_type": "code",
   "execution_count": null,
   "id": "a6f6421c-3483-4fd8-a657-871673c23c65",
   "metadata": {},
   "outputs": [],
   "source": []
  },
  {
   "cell_type": "markdown",
   "id": "351c2afa-e531-4640-8ced-e8edd7766d2b",
   "metadata": {},
   "source": [
    "### Reto 8.- Operaciones\n",
    "Estos enlaces pueden ser de ayuda\n",
    "https://docs.scipy.org/doc/numpy/reference/generated/numpy.roots.html\n",
    "(https://docs.scipy.org/doc/numpy/reference/generated/numpy.roots.html)\n",
    "https://docs.scipy.org/doc/scipy0.18.1/reference/generated/scipy.optimize.fsolve.html#scipy.optimize.fsolve\n",
    "(https://docs.scipy.org/doc/scipy0.18.1/reference/generated/scipy.optimize.fsolve.html#scipy.optimize.fsolve)\n",
    "\n",
    "Calcule las raices de los siguientes polinomios:\n",
    "1. $-x^{2}+3x+16=0$\n",
    "2. $-2x^{2}+18x=-14$\n",
    "3. $-3t^{2}+t+15t-5=10$\n",
    "4. $3x-2x=18+9x^{2}$\n",
    "5. $32=2x^{2}+19x$\n",
    "\n",
    "Realice las siguientes operaciones:\n",
    "1. $\\frac{d}{dx} 3x*\\sin^{-1}(x)$\n",
    "2. $\\frac{d}{dx} e^{x}(\\sin^2(x)+\\cos^2(x))$\n",
    "3. $\\frac{d}{dx} \\frac{e^{2x}}{\\sqrt{1 + \\cos^2(x)}}$\n",
    "4. $\\frac{d}{dx} \\sqrt{1 + \\sin^2(x)}$\n",
    "5. $\\frac{d}{dt} \\sqrt{e^{2t} + \\tan^2(t)}$\n",
    "\n",
    "Realice las siguientes operaciones:\n",
    "1. $\\int x^{2} \\sin^{2}(x) dx$\n",
    "2. $\\int x \\ln(x^{2}) dx$\n",
    "3. $\\int \\sec^{2}(x) \\sqrt{1 + x^{2}} dx$\n",
    "4. $\\int \\frac{t*e^{2t}}{t \\sqrt{1 - \\cos^{2}(t)}} dt$\n",
    "5. $\\int \\sqrt{\\tanh^2(t)} dt$\n"
   ]
  },
  {
   "cell_type": "markdown",
   "id": "a2e6171a-d41c-4b30-b6fe-9d7318a2fc3d",
   "metadata": {},
   "source": [
    "### Reto 9.- Gráficos de contorno\n",
    "La siguiente ecuación representa el esparcimiento de un contaminante en una placa:\n",
    "$$f(x,y,t)=1-(x^{2}+y^{3}-t)\\,e^{-(\\frac{x^{2}+y^{2}-t^{2}}{2})},$$\n",
    "donde, $x$, $y$ y $t$ son el ancho (metros), el largo (metros) y el tiempo (segundos), respectivamente.\n",
    "Realice lo siguiente:\n",
    "1. Dibuje las curvas de nivel para los niveles: -1, -0.5, 0, 0.5 y 1 para el tiempo 0.\n",
    "2. Genere una imágen de contorno (con la paleta de colores de su preferencia) para 20 valores.\n",
    "3. Genere la gráfica de contorno para 5 lineas de contorno y para el tiempo $t_{0}=0$ y $t_{f}=3s$ con\n",
    "un $\\Delta_{t}=0.125s$.\n",
    "4. Genere la gráfica para $f(x,y=0,t)$ y $f(x=0,y,t)$ (secciones transversales), con la imagen del\n",
    "númeral 1.\n"
   ]
  },
  {
   "cell_type": "code",
   "execution_count": null,
   "id": "55fb444b-e961-4a1d-a553-50c9b14a4a25",
   "metadata": {},
   "outputs": [],
   "source": []
  },
  {
   "cell_type": "markdown",
   "id": "1a94a949-c4e8-4fef-ad31-32c3d41a2147",
   "metadata": {},
   "source": [
    "### Reto 10.- Conversión de Unidades\n",
    "Crear un programa en Python que pueda convertir unidades de longitud, masa y tiempo entre el Sistema Internacional de Unidades (SI) y el Sistema Inglés.\n",
    "\n",
    "Requerimientos: \n",
    "    1.- El programa debe presentar al usuario un menú con las siguientes opciones:\n",
    "        Convertir unidades de longitud.\n",
    "        Convertir unidades de masa.\n",
    "        Convertir unidades de tiempo.\n",
    "        Salir del programa.\n",
    "    2.- Si el usuario elige convertir unidades de longitud:\n",
    "   Preguntar si desea convertir del SI al Sistema Inglés o viceversa.\n",
    "Permitir conversiones entre metros (SI) y pies (Sistema Inglés), y entre kilómetros (SI) y millas (Sistema Inglés).\n",
    "Ejemplos:\n",
    "\n",
    "1.- metros a centímetros\n",
    "\n",
    "2.- centímetros a milímetros\n",
    "\n",
    "3.- kilómetros a metros\n",
    "\n",
    "4.- kilómetros a centímetros\n",
    "\n",
    "5.- yardas a metros\n",
    "\n",
    "6.- metros a pies\n",
    "\n",
    "7.- pies a centímetros\n",
    "\n",
    "8.- kilómetros a millas\n",
    "\n",
    "3.- Si el usuario elige convertir unidades de masa :\n",
    "Preguntar si desea convertir del SI al Sistema Inglés o viceversa.\n",
    "Permitir conversiones entre kilogramos (SI) y libras (Sistema Inglés), y entre gramos (SI) y onzas (Sistema Inglés).\n",
    "\n",
    "Ejemplos:\n",
    "\n",
    "1.- kilogramos a gramos\n",
    "\n",
    "2.- gramos a miligramos\n",
    "\n",
    "3.- libras a kilogramos\n",
    "\n",
    "4.- onzas a gramos\n",
    "\n",
    "4.- Si el usuario elige convertir unidades de tiempo considere lo siguiente:\n",
    "El reto aquí es convertir unidades de tiempo más grandes y más pequeñas, como segundos a horas, minutos a días, etc.\n",
    "\n",
    "Ejemplos:\n",
    "\n",
    "1.- horas a segundos\n",
    "\n",
    "2.- segundos a minutos\n",
    "\n",
    "3.- minutos a horas\n",
    "\n",
    "4.- minutos a milisegundos\n",
    "\n",
    "5.- milisegundos a días.\n",
    "\n",
    "\n",
    "Añade conversiones adicionales (por ejemplo, galones a litros para volumen).\n",
    "Tras realizar la conversión, el programa debe mostrar el resultado y regresar al menú principal.\n",
    "El programa debe manejar errores comunes, como entradas no numéricas o unidades no reconocidas.\n",
    "\n",
    "No olvide documentar las líneas de código, declaración de variables, ciclos, sentencias, entre otros."
   ]
  },
  {
   "cell_type": "code",
   "execution_count": null,
   "id": "d20237c3-7550-4d08-9013-73acafb36423",
   "metadata": {},
   "outputs": [],
   "source": []
  }
 ],
 "metadata": {
  "kernelspec": {
   "display_name": "Python 3 (ipykernel)",
   "language": "python",
   "name": "python3"
  },
  "language_info": {
   "codemirror_mode": {
    "name": "ipython",
    "version": 3
   },
   "file_extension": ".py",
   "mimetype": "text/x-python",
   "name": "python",
   "nbconvert_exporter": "python",
   "pygments_lexer": "ipython3",
   "version": "3.12.3"
  }
 },
 "nbformat": 4,
 "nbformat_minor": 5
}

{
 "cells": [
  {
   "cell_type": "markdown",
   "id": "4ecfd72c-a022-422f-bd0c-023da80e8f4e",
   "metadata": {},
   "source": [
    "### Ejercicio 1\n",
    "\n",
    "La torre de Pisa es una estructura que se ha inclinado desde su construcción, en la Tabla adjunta se muestran los años, su altura y proyección de sombra. Muestre en pantalla el año con mayor grado de inclinación y su valor.  \n",
    "\n",
    "| Edificio | Altura [m] | Sombra [m]|\n",
    "| :- | -: | :-: | \n",
    "| 1711  | 55,06   | 8.9 | \n",
    "| 1823  | 51,16   | 8.5 | \n",
    "| 1946  | 52,16   | 6.4 | \n",
    "| 1968  | 53,10   | 7.5 | \n",
    "| 1979  | 51,12   | 8.9 | \n",
    "| 1982  | 53,01   | 8.5 | \n",
    "| 1993  | 56,11   | 6.4 | \n",
    "| 1994  | 53,12   | 9.8 | \n",
    "| 2005  | 54,06   | 8.9 | \n",
    "| 2007  | 51,13   | 8.5 | \n",
    "| 2019  | 53,16   | 6.4 | \n",
    "| 2020  | 52,46   | 10 | "
   ]
  },
  {
   "cell_type": "code",
   "execution_count": null,
   "id": "63f5ffc4-6f42-430c-b94c-121afcf3e8b8",
   "metadata": {},
   "outputs": [],
   "source": []
  },
  {
   "cell_type": "markdown",
   "id": "9e75c7f4-0ee4-4a44-9c57-6113b2b2646c",
   "metadata": {},
   "source": [
    "### Ejercicio 2\n",
    "\n",
    "Evalue la siguiente función entre -10 y 15 con un vector cuyo tamaño de paso sea de 0.25. Imprima los valores en pantalla. \n",
    "\n",
    "$$f(x)= \\left\\{ \\begin{array}{lcc}\n",
    "             5 &   si  & x \\leq 2 \\\\\n",
    "             \\\\ 0.15*e^{(x)}- ln(2.75) &  si & 2 < x < 5 \\\\\n",
    "             \\\\ 4x-15 &  si  & 5 < x < 10 \\\\\n",
    "             \\\\ x^2-6x+10 &  si  & x \\geq 10\n",
    "             \\end{array}\n",
    "   \\right.$$"
   ]
  },
  {
   "cell_type": "code",
   "execution_count": null,
   "id": "94964b5d-3e56-4faf-ad90-27c55748a96a",
   "metadata": {},
   "outputs": [],
   "source": []
  },
  {
   "cell_type": "markdown",
   "id": "ef22bbab-ae88-47c4-9202-fc8ced99e97b",
   "metadata": {},
   "source": [
    "### Ejercicio 3\n",
    "\n",
    "Dada las matrices A, B, C y D. \n",
    "\n",
    "$$A=\\begin{bmatrix}\n",
    "11 & 7 & -1\\\\ \n",
    "-3 & 5 & 2\\\\ \n",
    "4 & 2 & -2\n",
    "\\end{bmatrix} \n",
    "\\,\\,\n",
    "B=\\begin{bmatrix}\n",
    "1 & 1 & 1\\\\ \n",
    "10 & 3 & -5\\\\ \n",
    "-6 & -10 & -3\n",
    "\\end{bmatrix}$$\n",
    "\n",
    "Calcule: \n",
    "1. $AB$\n",
    "2. $2B + 3A$\n",
    "3. $(B + 2A)^{2}$\n",
    "4. $A^{2} + 3B$"
   ]
  },
  {
   "cell_type": "code",
   "execution_count": null,
   "id": "c7b54c87-7fc7-413f-9e53-b7424a53d078",
   "metadata": {},
   "outputs": [],
   "source": []
  },
  {
   "cell_type": "markdown",
   "id": "552d472b-0328-4b75-8eae-7d89ce9fdc76",
   "metadata": {},
   "source": [
    "### Ejercicio 4\n",
    "\n",
    "Escriba la función ejercicio4 que reciba como entradas las dimensiones de la matriz, asegúrese de validar que sea cuadrada, sino devuelva un mensaje de error, \"La matriz no es cuadrada\" y vuelva a preguntar las entradas, posteriormente reemplace los valores con números aleatorios e imprima: \n",
    "\n",
    "    - La primera fila de manera inversa.\n",
    "    - La primera columna de manera inversa. \n",
    "    - El primer elemento y el último elemento. \n",
    "    - El promedio de la última fila con la última columna.\n",
    "    - El valor máximo, minimo y promedio de la diagonal. "
   ]
  },
  {
   "cell_type": "code",
   "execution_count": null,
   "id": "8f448b29-174a-4a07-acfd-a32269a6ac67",
   "metadata": {},
   "outputs": [],
   "source": []
  },
  {
   "cell_type": "markdown",
   "id": "ca6931a4-bf00-4fc5-9627-738eca761975",
   "metadata": {},
   "source": [
    "### Ejercicio 5\n",
    "\n",
    "En la clase de \"Métodos matemáticos para físicos\" se tomaron M notas a cada uno de los N estudiantes (no todos los estudiantes tienen la misma cantidad de notas). Diseñe la función ejercicio5 que calcule:\n",
    "\n",
    "1. El promedio de cada uno. \n",
    "2. El promedio general de la clase. \n",
    "3. Cuántos de los N alumnos tuvieron un promedio por encima del promedio general. (Asuma que todos los promedios son diferentes).\n"
   ]
  },
  {
   "cell_type": "code",
   "execution_count": null,
   "id": "b74db83a-a20c-46c9-9339-f9be39e52ff3",
   "metadata": {},
   "outputs": [],
   "source": []
  },
  {
   "cell_type": "markdown",
   "id": "eed52d90-75e0-427a-a8c2-e57cb448c5e4",
   "metadata": {},
   "source": [
    "### Ejercicio 6\n",
    "Escribe un programa que permita al usuario ingresar una temperatura en grados Celsius y luego la convierta a grados Fahrenheit utilizando una variable para almacenar la fórmula de conversión."
   ]
  },
  {
   "cell_type": "code",
   "execution_count": null,
   "id": "5665d02d-caa6-4cc9-a73e-e67f8d609cde",
   "metadata": {},
   "outputs": [],
   "source": []
  },
  {
   "cell_type": "markdown",
   "id": "cf25c3ca-aa21-4add-a07b-c702caefa700",
   "metadata": {},
   "source": [
    "### Ejercicio 7\n",
    "Desarrolla un programa que calcule el precio final de un producto después de aplicar un descuento. El usuario debe ingresar el precio original y el porcentaje de descuento. Utiliza variables para almacenar los valores."
   ]
  },
  {
   "cell_type": "code",
   "execution_count": null,
   "id": "f6fcb9c0-bed2-42d4-9c5a-1de18dc1b5ad",
   "metadata": {},
   "outputs": [],
   "source": []
  }
 ],
 "metadata": {
  "kernelspec": {
   "display_name": "Python 3 (ipykernel)",
   "language": "python",
   "name": "python3"
  },
  "language_info": {
   "codemirror_mode": {
    "name": "ipython",
    "version": 3
   },
   "file_extension": ".py",
   "mimetype": "text/x-python",
   "name": "python",
   "nbconvert_exporter": "python",
   "pygments_lexer": "ipython3",
   "version": "3.12.3"
  }
 },
 "nbformat": 4,
 "nbformat_minor": 5
}

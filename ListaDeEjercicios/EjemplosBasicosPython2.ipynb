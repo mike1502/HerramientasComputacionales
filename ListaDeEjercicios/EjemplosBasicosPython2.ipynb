{
 "cells": [
  {
   "cell_type": "markdown",
   "id": "a6d5d8ac-1037-4009-b056-f9cc37c82e97",
   "metadata": {},
   "source": [
    "### Ejercicio 1\n",
    "Juan y María están haciendo un programa para jugar a los dados con las siguientes reglas:\n",
    "\n",
    "    Si sale 1, vuelven a lanzar.\n",
    "    Si sale 6, quedan empatados.\n",
    "    Si sale 2 ó 3 gana Juan.\n",
    "    Si sale 4 ó 5 gana María.\n",
    "\n",
    "Utilizando el condicional while para escribir el mensaje según el resultado de lanzar el dado, escriba un programa que le permita jugar a Juan y María (pista = Utilice la librería random para generar los números aleatorios)."
   ]
  },
  {
   "cell_type": "code",
   "execution_count": null,
   "id": "bde803e1-ff29-46fb-8cba-7efcb25b123b",
   "metadata": {},
   "outputs": [],
   "source": []
  },
  {
   "cell_type": "markdown",
   "id": "d5d994c1-d176-419c-9df2-c09a4d72deff",
   "metadata": {},
   "source": [
    "### Ejercicio 2\n",
    "\n",
    "Diseñar una calculadora básica utilizando un diccionario en Python con base en los siguientes requerimientos:\n",
    "\n",
    "* Para dos numeros a y b, el usuario va a seleccionar una opcion: \n",
    "  * 1 para sumar.\n",
    "  * 2 para multiplicar.\n",
    "  * 3 para restar (a-b).\n",
    "  * 4 para dividir (a/b).\n",
    "  * 5 para elevar b a la potencia a.\n",
    "\n",
    "Retornar el resultado de la operación indicada, teniendo en cuenta que solo se pueden retornar enteros y flotantes positivos."
   ]
  },
  {
   "cell_type": "code",
   "execution_count": null,
   "id": "580b401a-940c-40a0-9c80-9b9204d25894",
   "metadata": {},
   "outputs": [],
   "source": []
  },
  {
   "cell_type": "markdown",
   "id": "52f3fc42-d7ab-49ea-8a46-0e71a9d94f01",
   "metadata": {},
   "source": [
    "### Ejercicio 3\n",
    "\n",
    "La ley de Ohm establece la relación entre: la intensidad de corriente (I) que circula por un circuito, la diferencia de potencial (V) y la resistencia (R) mediante la ecuación: \n",
    "$$I =\\frac{V}{R}$$\n",
    "\n",
    "Hacer un algoritmo que solicite la opción a calcular: \n",
    "\n",
    "* 1 para calcular I.\n",
    "* 2 para calcular V. \n",
    "* 3 para calcular R. \n",
    "\n",
    "utilizando un diccionario en Python; asi como tres variables I, V y R donde aquella a calcular sea 0.\n",
    "\n",
    "El codigo debe mostrar el resultado. Ojo: Se debe validar que los datos suministrados deben ser mayores que cero excepto para la variable a calcular, de lo contrario retornar \"Error en los numeros\"."
   ]
  },
  {
   "cell_type": "code",
   "execution_count": null,
   "id": "9515b693-c887-4feb-9843-9473f4aa344a",
   "metadata": {},
   "outputs": [],
   "source": []
  },
  {
   "cell_type": "markdown",
   "id": "0adb18c7-fcb9-47c4-8251-75373d334572",
   "metadata": {},
   "source": [
    "### Ejercicio 4\n",
    "\n",
    "Construya una función que dados 3 números que representan una fecha (MM, DD, AAAA), el algoritmo debe mostrar la fecha en formato largo. Ej. si los números ingresados son: 11, 7, 85 la fecha a mostrar sería “Noviembre, 7 de 1985”. Ojo: Conserva el formato mostrado incluyendo comas y espacios.\n",
    "\n",
    "Utilice while para determinar el Mes y validar que el dia este entre 1 y 31, el mes entre 1 y 12 y el año entre 1 y 2999. Si alguna validación falla, retornar \"Error en los numeros\". "
   ]
  },
  {
   "cell_type": "code",
   "execution_count": null,
   "id": "13a73caa-f3eb-4d6d-9e94-17261c1cacc1",
   "metadata": {},
   "outputs": [],
   "source": []
  },
  {
   "cell_type": "markdown",
   "id": "7f4b09f3-ed3b-4fd0-823a-68bfb23d45b9",
   "metadata": {},
   "source": [
    "**Ejercicio 9**:\n",
    "Programar una función que calcule la distancia entre dos puntos en el plano cartesiano,\n",
    "dadas sus coordenadas (x1, y1) y (x2, y2)."
   ]
  },
  {
   "cell_type": "markdown",
   "id": "39754662-2564-4cca-b3b8-2e5bd05823e9",
   "metadata": {},
   "source": [
    "**Ejercicio 10**:\n",
    "Programe un script que determine si dos rectas dadas por las ecuaciones y1=m1x + b1 y y2=m2x+b2 se\n",
    "intersectan, son paralelas o coincidentes. Utilice estructuras de control (IF - ELSE)\n",
    "para manejar los diferentes casos.\n"
   ]
  },
  {
   "cell_type": "markdown",
   "id": "2e2f6234-0e25-4774-a49d-fe2c7f9b72e9",
   "metadata": {},
   "source": [
    "**Ejercicio 12:**\n",
    "\n",
    "Genere una lista de 30 números aleatorios entre 1 y 10. Posteriormente, calcule:\n",
    "\n",
    "1.- La media\n",
    "\n",
    "2.- La mediana\n",
    "\n",
    "3.- La moda\n",
    "\n",
    "4.- La varianza\n",
    "\n",
    "5.- La desviación estándar\n",
    "\n",
    "Escriba las fórmulas asociadas a cada parámetro. Explique como se obtiene la moda. Consulte un texto de estadística para llevar a cabo los cálculos e imprima\n",
    "en pantalla la lista y los resultados."
   ]
  }
 ],
 "metadata": {
  "kernelspec": {
   "display_name": "Python 3 (ipykernel)",
   "language": "python",
   "name": "python3"
  },
  "language_info": {
   "codemirror_mode": {
    "name": "ipython",
    "version": 3
   },
   "file_extension": ".py",
   "mimetype": "text/x-python",
   "name": "python",
   "nbconvert_exporter": "python",
   "pygments_lexer": "ipython3",
   "version": "3.12.3"
  }
 },
 "nbformat": 4,
 "nbformat_minor": 5
}

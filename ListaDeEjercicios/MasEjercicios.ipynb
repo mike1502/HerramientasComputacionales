{
 "cells": [
  {
   "cell_type": "markdown",
   "id": "c5037200",
   "metadata": {},
   "source": [
    "### Ejercicio 2\n",
    "¿Recuerda la evaluación del curso? La calificación en el acta se asentará con un número entero. En caso de que se tenga un número decimal, la calificación en el acta quedará de acuerdo con los siguientes criterios:\n",
    "\n",
    "Si la calificación final queda en el rango de 6.0 a 6.5, en el acta aparecerá 6.\n",
    "\n",
    "Si la calificación final queda en el rango de 6.51 a 7.5, en el acta aparecerá 7.\n",
    "\n",
    "Si la calificación final queda en el rango de 7.51 a 8.5, en el acta aparecerá 8.\n",
    "\n",
    "Si la calificación final queda en el rango de 8.51 a 9.5, en el acta aparecerá 9.\n",
    "\n",
    "Si la calificación final queda en el rango de 9.51 a 10, en el acta aparecerá 10.\n",
    "\n",
    "Si la calificación final es menor a 5.99, la calificación asentada en el acta será 5.\n",
    "\n",
    "Genere un código en Python en el que el usuario ingrese la calificación del curso (con número decimal) y que el programa regrese como resultado la calificación en el acta como número entero. \n",
    "El mensaje de salida debe decir:\n",
    "   >La calificación en el acta es 8."
   ]
  }
 ],
 "metadata": {
  "kernelspec": {
   "display_name": "Python 3 (ipykernel)",
   "language": "python",
   "name": "python3"
  },
  "language_info": {
   "codemirror_mode": {
    "name": "ipython",
    "version": 3
   },
   "file_extension": ".py",
   "mimetype": "text/x-python",
   "name": "python",
   "nbconvert_exporter": "python",
   "pygments_lexer": "ipython3",
   "version": "3.10.9"
  }
 },
 "nbformat": 4,
 "nbformat_minor": 5
}

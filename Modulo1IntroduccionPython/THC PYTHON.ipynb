{
 "cells": [
  {
   "cell_type": "markdown",
   "id": "3e1e234f",
   "metadata": {},
   "source": [
    "# TALLER DE HERRAMIENTAS COMPUTACIONALES\n",
    "## SEMESTRE: \n",
    "## PROFESORES\n",
    "## MIGUEL ÁNGEL CARRILLO LUCÍA\n",
    "## JESÚS IVÁN COSS CALDERÓN\n",
    "\n",
    "**Índice**   \n",
    "1. [Primer apartado](#id1)\n",
    "2. [Segundo apartado](#id2)\n",
    "3. [Tercer apartado](#id3)\n",
    "4. [Cuarto apartado](#id4)\n",
    "5. [Quinto apartado](#id5)\n",
    "6. [Sexto apartado](#id6)\n",
    "## Primer apartado<a name=\"id1\"></a>\n",
    "Texto del primer apartado\n",
    "## Segundo apartado<a name=\"id2\"></a>\n",
    "Texto del segundo apartado\n",
    "## Tercer apartado<a name=\"id3\"></a>\n",
    "Texto del tercer apartado\n",
    "## Cuarto apartado<a name=\"id4\"></a>\n",
    "Texto del primer apartado\n",
    "## Quinto apartado<a name=\"id5\"></a>\n",
    "Texto del segundo apartado\n",
    "## Sexto apartado<a name=\"id6\"></a>\n",
    "Texto del tercer apartado"
   ]
  }
 ],
 "metadata": {
  "kernelspec": {
   "display_name": "Python 3 (ipykernel)",
   "language": "python",
   "name": "python3"
  },
  "language_info": {
   "codemirror_mode": {
    "name": "ipython",
    "version": 3
   },
   "file_extension": ".py",
   "mimetype": "text/x-python",
   "name": "python",
   "nbconvert_exporter": "python",
   "pygments_lexer": "ipython3",
   "version": "3.10.9"
  }
 },
 "nbformat": 4,
 "nbformat_minor": 5
}

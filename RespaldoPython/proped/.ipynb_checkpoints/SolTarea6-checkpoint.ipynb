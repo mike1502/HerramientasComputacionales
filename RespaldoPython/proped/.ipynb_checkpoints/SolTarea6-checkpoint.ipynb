{
 "cells": [
  {
   "cell_type": "markdown",
   "id": "d0b4f1ae",
   "metadata": {},
   "source": [
    "# Solución tarea 6"
   ]
  },
  {
   "cell_type": "markdown",
   "id": "3819526c",
   "metadata": {},
   "source": [
    "## Producto de vectores con listas"
   ]
  },
  {
   "cell_type": "code",
   "execution_count": 1,
   "id": "3e324772",
   "metadata": {},
   "outputs": [],
   "source": [
    "def ProdVec(a, b):\n",
    "    \"\"\"\n",
    "    Calcula el producto componente a componente de dos vectores.\n",
    "\n",
    "    Este método toma dos listas 'a' y 'b' de igual longitud y calcula el producto componente a componente,\n",
    "    creando una nueva lista 'c' con los resultados.\n",
    "\n",
    "    Parámetros:\n",
    "    a (list): El primer vector.\n",
    "    b (list): El segundo vector.\n",
    "\n",
    "    Retorna:\n",
    "    list: Una lista que contiene el resultado del producto componente a componente.\n",
    "\n",
    "    Ejemplo:\n",
    "    >>> a = [1, 2, 3]\n",
    "    >>> b = [4, 5, 6]\n",
    "    >>> ProdVec(a, b)\n",
    "    Si se pueden multiplicar los vectores\n",
    "\n",
    "    El resultado de la multiplicación es\n",
    "    [4, 10, 18]\n",
    "    \"\"\"\n",
    "    c = []\n",
    "\n",
    "    if len(a) == len(b):\n",
    "        print(\"Si se pueden multiplicar los vectores\\n\")\n",
    "        for i in range(len(a)):\n",
    "            c.append(a[i] * b[i])\n",
    "        print(\"El resultado de la multiplicación es\\n\")\n",
    "        print(c)\n",
    "    else:\n",
    "        print(\"No se pueden multiplicar los vectores\")"
   ]
  },
  {
   "cell_type": "markdown",
   "id": "2d99a8df",
   "metadata": {},
   "source": [
    "Se definen los vectores a utilizar"
   ]
  },
  {
   "cell_type": "code",
   "execution_count": 2,
   "id": "09b2a603",
   "metadata": {},
   "outputs": [
    {
     "name": "stdout",
     "output_type": "stream",
     "text": [
      "Si se pueden multiplicar los vectores\n",
      "\n",
      "El resultado de la multiplicación es\n",
      "\n",
      "[1, 4, 9]\n"
     ]
    }
   ],
   "source": [
    "#Prueba de función ProdVec\n",
    "a=[1,2,3]\n",
    "b=[1,2,3]\n",
    "ProdVec(a,b)"
   ]
  },
  {
   "cell_type": "markdown",
   "id": "4670a38f",
   "metadata": {},
   "source": [
    "## Potencia de un vector"
   ]
  },
  {
   "cell_type": "code",
   "execution_count": 3,
   "id": "8c7aa99b",
   "metadata": {},
   "outputs": [],
   "source": [
    "def Potencia(a, n):\n",
    "    \"\"\"\n",
    "    Eleva cada elemento de la lista a la potencia n.\n",
    "\n",
    "    Este método toma una lista 'a' y eleva cada uno de sus elementos a la potencia 'n',\n",
    "    modificando la lista 'a' en su lugar.\n",
    "\n",
    "    Parámetros:\n",
    "    a (list): La lista de elementos a elevar.\n",
    "    n (int): El exponente al cual elevar los elementos.\n",
    "\n",
    "    Retorna:\n",
    "    None\n",
    "\n",
    "    Ejemplo:\n",
    "    >>> a = [2, 3, 4]\n",
    "    >>> Potencia(a, 3)\n",
    "    El resultado de potenciar a la 3 es \n",
    "    [8, 27, 64]\n",
    "    \"\"\"\n",
    "    for i in range(len(a)):\n",
    "        a[i] = a[i] ** n\n",
    "    print(f\"El resultado de potenciar a la {n} es \\n\")\n",
    "    print(a)\n"
   ]
  },
  {
   "cell_type": "code",
   "execution_count": 4,
   "id": "a3cbcc18",
   "metadata": {},
   "outputs": [
    {
     "name": "stdout",
     "output_type": "stream",
     "text": [
      "El resultado de potenciar a la 3 es \n",
      "\n",
      "[1, 8, 27]\n"
     ]
    }
   ],
   "source": [
    "#Prueba de función Potencia\n",
    "a=[1,2,3]\n",
    "Potencia(a,3)"
   ]
  },
  {
   "cell_type": "markdown",
   "id": "29680f26",
   "metadata": {},
   "source": [
    "## Producto escalar\n",
    "\n",
    "$$a\\cdot b= \\sum_{i=1}^{n}a_{i}b_{i}$$"
   ]
  },
  {
   "cell_type": "code",
   "execution_count": 5,
   "id": "f5f6d967",
   "metadata": {},
   "outputs": [],
   "source": [
    "def ProdEsc(a, b):\n",
    "    \"\"\"\n",
    "    Calcula el producto escalar entre dos vectores.\n",
    "\n",
    "    Este método toma dos listas o vectores a y b de igual longitud y calcula su producto escalar.\n",
    "    \n",
    "    Parámetros:\n",
    "    a (list): El primer vector.\n",
    "    b (list): El segundo vector.\n",
    "\n",
    "    Retorna:\n",
    "    float: El resultado del producto escalar.\n",
    "\n",
    "    Ejemplo:\n",
    "    >>> a = [1, 2, 3]\n",
    "    >>> b = [4, 5, 6]\n",
    "    >>> ProdEsc(a, b)\n",
    "    El resultado del producto escalar es 32.0\n",
    "    \"\"\"\n",
    "    ProdPunto = 0.0\n",
    "    \n",
    "    for i in range(len(a)):\n",
    "        ProdPunto += a[i] * b[i]\n",
    "    print(f\"El resultado del producto escalar es {ProdPunto}\")\n"
   ]
  },
  {
   "cell_type": "code",
   "execution_count": 6,
   "id": "c6568972",
   "metadata": {},
   "outputs": [
    {
     "name": "stdout",
     "output_type": "stream",
     "text": [
      "El resultado del producto escalar es 14.0\n"
     ]
    }
   ],
   "source": [
    "#Prueba de función ProdEsc\n",
    "a=[1,2,3]\n",
    "b=[1,2,3]\n",
    "ProdEsc(a,b)"
   ]
  },
  {
   "cell_type": "code",
   "execution_count": null,
   "id": "50733e0e",
   "metadata": {},
   "outputs": [],
   "source": []
  }
 ],
 "metadata": {
  "kernelspec": {
   "display_name": "Python 3 (ipykernel)",
   "language": "python",
   "name": "python3"
  },
  "language_info": {
   "codemirror_mode": {
    "name": "ipython",
    "version": 3
   },
   "file_extension": ".py",
   "mimetype": "text/x-python",
   "name": "python",
   "nbconvert_exporter": "python",
   "pygments_lexer": "ipython3",
   "version": "3.9.12"
  }
 },
 "nbformat": 4,
 "nbformat_minor": 5
}

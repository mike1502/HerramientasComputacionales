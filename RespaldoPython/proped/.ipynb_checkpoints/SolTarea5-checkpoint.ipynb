{
 "cells": [
  {
   "cell_type": "markdown",
   "id": "894179cb",
   "metadata": {},
   "source": [
    "# Solución tarea 5"
   ]
  },
  {
   "cell_type": "markdown",
   "id": "7c34b7db",
   "metadata": {},
   "source": [
    "## Ejercicio1. \n",
    "\n",
    "1. Declarar una lista con 5 números. Posteriormente pedirle al usuario que ingrese 5 números los cuales se deberán guardar en la lista. Finalmente, obtenga el promedio de los valores en la lista."
   ]
  },
  {
   "cell_type": "code",
   "execution_count": 1,
   "id": "3637a947",
   "metadata": {},
   "outputs": [],
   "source": [
    "def Promedio():\n",
    "    \"\"\"\n",
    "    Calcula el promedio de una lista de números ingresados por el usuario.\n",
    "\n",
    "    Este método solicita al usuario ingresar cinco números, calcula su promedio y lo muestra en pantalla.\n",
    "\n",
    "    Parámetros:\n",
    "    None\n",
    "\n",
    "    Retorna:\n",
    "    None\n",
    "\n",
    "    Ejemplo:\n",
    "    >>> Promedio()\n",
    "    Ingrese un número: 6\n",
    "    Ingrese un número: 7\n",
    "    Ingrese un número: 8\n",
    "    Ingrese un número: 9\n",
    "    Ingrese un número: 10\n",
    "    El promedio es 5.5\n",
    "    \"\"\"\n",
    "    Lista=list(range(1,6))\n",
    "    for i in range(5):\n",
    "        Lista.append(float(input(\"Ingrese un número \\n\")))\n",
    "    \n",
    "    promedio=0.0\n",
    "    \n",
    "    for i in range(len(Lista)):\n",
    "        promedio+=Lista[i]\n",
    "    promedio/=len(Lista)\n",
    "    \n",
    "    print(f\"El promedio es {promedio}\")\n"
   ]
  },
  {
   "cell_type": "code",
   "execution_count": 2,
   "id": "f5e02bd4",
   "metadata": {},
   "outputs": [
    {
     "name": "stdout",
     "output_type": "stream",
     "text": [
      "Ingrese un número \n",
      "6\n",
      "Ingrese un número \n",
      "7\n",
      "Ingrese un número \n",
      "8\n",
      "Ingrese un número \n",
      "9\n",
      "Ingrese un número \n",
      "10\n",
      "El promedio es 5.5\n"
     ]
    }
   ],
   "source": [
    "Promedio()"
   ]
  },
  {
   "cell_type": "markdown",
   "id": "b622cd1a",
   "metadata": {},
   "source": [
    "## Ejercicio2. \n",
    "\n",
    "2. Escribe un programa que encuentre el valor máximo y mínimo en una lista de números."
   ]
  },
  {
   "cell_type": "code",
   "execution_count": 3,
   "id": "871376bc",
   "metadata": {},
   "outputs": [],
   "source": [
    "def MaxMin():\n",
    "    \"\"\"\n",
    "    Encuentra el máximo y el mínimo elemento en una lista de números y los muestra.\n",
    "\n",
    "    Este método toma una lista de números y encuentra su máximo y mínimo elementos.\n",
    "\n",
    "    Parámetros:\n",
    "    None\n",
    "\n",
    "    Retorna:\n",
    "    None\n",
    "\n",
    "    Ejemplo:\n",
    "    >>> MaxMin()\n",
    "    El máximo elemento de [5, 1, 10, 3, 12] es 12\n",
    "    El mínimo elemento de [5, 1, 10, 3, 12] es 1\n",
    "    \"\"\"\n",
    "    Numeros = [5, 1, 10, 3, 12]\n",
    "    \n",
    "    maxi = Numeros[0]\n",
    "    mini = Numeros[0]\n",
    "    \n",
    "    for iEle in Numeros:\n",
    "        if iEle > maxi:\n",
    "            maxi = iEle\n",
    "        if iEle < mini:\n",
    "            mini = iEle\n",
    "    print(f\"El máximo elemento de {Numeros} es {maxi}\")\n",
    "    print(f\"El mínimo elemento de {Numeros} es {mini}\")\n"
   ]
  },
  {
   "cell_type": "code",
   "execution_count": 4,
   "id": "1cc81488",
   "metadata": {},
   "outputs": [
    {
     "name": "stdout",
     "output_type": "stream",
     "text": [
      "El máximo elemento de [5, 1, 10, 3, 12] es 12\n",
      "El mínimo elemento de [5, 1, 10, 3, 12] es 1\n"
     ]
    }
   ],
   "source": [
    "MaxMin()"
   ]
  },
  {
   "cell_type": "markdown",
   "id": "6a21cfd5",
   "metadata": {},
   "source": [
    "## Ejercicio3. \n",
    "\n",
    "3. Dada una lista de números, crea dos listas separadas: una para números pares y otra para números impares"
   ]
  },
  {
   "cell_type": "code",
   "execution_count": 5,
   "id": "f70a4d39",
   "metadata": {},
   "outputs": [],
   "source": [
    "def ParImpar():\n",
    "    \"\"\"\n",
    "    Separa números en pares e impares y muestra las listas resultantes.\n",
    "\n",
    "    Este método crea una lista de números del 1 al 19 y los separa en listas de números pares e impares.\n",
    "\n",
    "    Parámetros:\n",
    "    None\n",
    "\n",
    "    Retorna:\n",
    "    None\n",
    "\n",
    "    Ejemplo:\n",
    "    >>> ParImpar()\n",
    "    La lista de números pares es [2, 4, 6, 8, 10, 12, 14, 16, 18]\n",
    "\n",
    "    La lista de números impares es [1, 3, 5, 7, 9, 11, 13, 15, 17, 19]\n",
    "    \"\"\"\n",
    "    Numeros = list(range(1, 20))\n",
    "    \n",
    "    Pares = []\n",
    "    Impares = []\n",
    "    \n",
    "    for iEle in Numeros:\n",
    "        if iEle % 2 == 0:\n",
    "            Pares.append(iEle)\n",
    "        else:\n",
    "            Impares.append(iEle)\n",
    "            \n",
    "    print(f\"La lista de números pares es {Pares} \\n\")\n",
    "    print(f\"La lista de números impares es {Impares} \\n\")\n"
   ]
  },
  {
   "cell_type": "code",
   "execution_count": 6,
   "id": "366a08ec",
   "metadata": {},
   "outputs": [
    {
     "name": "stdout",
     "output_type": "stream",
     "text": [
      "La lista de números pares es [2, 4, 6, 8, 10, 12, 14, 16, 18] \n",
      "\n",
      "La lista de números impares es [1, 3, 5, 7, 9, 11, 13, 15, 17, 19] \n",
      "\n"
     ]
    }
   ],
   "source": [
    "ParImpar()"
   ]
  }
 ],
 "metadata": {
  "kernelspec": {
   "display_name": "Python 3 (ipykernel)",
   "language": "python",
   "name": "python3"
  },
  "language_info": {
   "codemirror_mode": {
    "name": "ipython",
    "version": 3
   },
   "file_extension": ".py",
   "mimetype": "text/x-python",
   "name": "python",
   "nbconvert_exporter": "python",
   "pygments_lexer": "ipython3",
   "version": "3.9.12"
  }
 },
 "nbformat": 4,
 "nbformat_minor": 5
}

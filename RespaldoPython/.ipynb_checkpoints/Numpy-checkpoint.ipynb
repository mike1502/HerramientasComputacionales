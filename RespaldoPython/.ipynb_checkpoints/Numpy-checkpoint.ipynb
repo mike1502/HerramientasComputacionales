{
 "cells": [
  {
   "cell_type": "markdown",
   "id": "0c4018bd",
   "metadata": {},
   "source": [
    "<font color=\"Red\" face=\"Comic Sans MS,arial\">\n",
    "  <h1 align=\"center\"><i>Numpy </i></h1>\n",
    "  </font>\n",
    "  \n",
    "> Elaborado por: Jesús Iván Coss Calderón. mat_ing_coss@ciencias.unam.mx"
   ]
  },
  {
   "cell_type": "markdown",
   "id": "d572795c",
   "metadata": {},
   "source": [
    "**Objetivo general**\n",
    "\n",
    "* Aprender los fundamentos de la biblioteca de Numpy\n",
    "\n",
    "**Objetivos particulares**\n",
    "\n",
    "* Entender el uso de los métodos de Numpy"
   ]
  },
  {
   "cell_type": "markdown",
   "id": "001e54d2",
   "metadata": {},
   "source": [
    "[**Regresa al notebook principal**](https://github.com/seismomat/HerramientasComputacionales/blob/main/TemarioDePython/Temario%20de%20Python.ipynb)"
   ]
  },
  {
   "cell_type": "markdown",
   "id": "b76ffc8a",
   "metadata": {},
   "source": [
    "<a name='c1'></a>\n",
    "\n",
    "## Contenido\n",
    "\n",
    "- [¿Qué es NumPy?](#1)\n",
    "    - [¿Por qué usar NumPy?](#1-1)\n",
    "    - [¿Por qué NumPy es más rápido que las listas?](#1-2)\n",
    "    - [Instalación de Numpy](#1-3)\n",
    "    - [Importando Numpy](#1-4)\n",
    "- [Crear un Objeto ndarray de NumPy](#2)\n",
    "    - [Arreglos 0-D](#2-1)\n",
    "    - [Arreglos 1-D](#2-2)\n",
    "    - [Arreglos 2-D](#2-3)\n",
    "    - [Arreglos 3-D](#2-4)\n",
    "    - [Checando las dimensiones de los arreglos](#2-5)\n",
    "    - [Arreglos de dimensión mayor](#2-6)\n",
    "- [Acceso a elementos](#3)\n",
    "    - [Arreglos 1-D](#3-1)\n",
    "    - [Arreglos 2-D](#3-2)\n",
    "    - [Arreglos 3-D](#3-3)\n",
    "- [Slicing](#4)\n",
    "    - [Arreglos 1-D](#4-1)\n",
    "        - [Paso](#4-1-1)\n",
    "    - [Arreglos 2-D](#4-2)\n",
    "- [Buscando en arreglos](#5)\n",
    "- [Filtrado](#6)"
   ]
  },
  {
   "cell_type": "markdown",
   "id": "269975e0",
   "metadata": {},
   "source": [
    "<a name='1'></a>\n",
    "\n",
    "# ¿Qué es NumPy?\n",
    "[regresar al contenido](#c1)\n",
    "\n",
    "NumPy es una biblioteca de Python utilizada para trabajar con matrices.\n",
    "\n",
    "También tiene funciones para trabajar en el ámbito del álgebra lineal, la transformada de Fourier y las matrices.\n",
    "\n",
    "NumPy fue creado en 2005 por Travis Oliphant. Es un proyecto de código abierto y puedes utilizarlo libremente.\n",
    "\n",
    "NumPy significa \"Numerical Python\" (Python Numérico)."
   ]
  },
  {
   "cell_type": "markdown",
   "id": "fb9dfa06",
   "metadata": {},
   "source": [
    "<a name='1-1'></a>\n",
    "\n",
    "## ¿Por qué usar NumPy?\n",
    "[regresar al contenido](#c1)\n",
    "\n",
    "En Python, tenemos listas que cumplen la función de arrays, pero son lentas de procesar.\n",
    "\n",
    "NumPy tiene como objetivo proporcionar un objeto de array que sea hasta 50 veces más rápido que las listas tradicionales de Python.\n",
    "\n",
    "El objeto de array en NumPy se llama ndarray y proporciona muchas funciones de soporte que facilitan trabajar con ndarray.\n",
    "\n",
    "Los arrays se utilizan con mucha frecuencia en la ciencia de datos, donde la velocidad y los recursos son muy importantes."
   ]
  },
  {
   "cell_type": "markdown",
   "id": "afa98fb0",
   "metadata": {},
   "source": [
    "<a name='1-2'></a>\n",
    "\n",
    "## ¿Por qué NumPy es más rápido que las listas?\n",
    "[regresar al contenido](#c1)\n",
    "\n",
    "Los arrays de NumPy se almacenan en un lugar continuo en la memoria, a diferencia de las listas, por lo que los procesos pueden acceder y manipularlos de manera muy eficiente.\n",
    "\n",
    "Este comportamiento se llama \"localidad de referencia\" en informática.\n",
    "\n",
    "Esta es la razón principal por la que NumPy es más rápido que las listas. Además, está optimizado para funcionar con las últimas arquitecturas de CPU."
   ]
  },
  {
   "cell_type": "markdown",
   "id": "db16bc25",
   "metadata": {},
   "source": [
    "<a name='1-3'></a>\n",
    "\n",
    "## Instalación de Numpy\n",
    "[regresar al contenido](#c1)\n",
    "\n",
    "> pip install numpy"
   ]
  },
  {
   "cell_type": "markdown",
   "id": "66dfcf23",
   "metadata": {},
   "source": [
    "<a name='1-4'></a>\n",
    "\n",
    "## Importando Numpy\n",
    "[regresar al contenido](#c1)\n",
    "\n",
    "> import numpy\n",
    "\n",
    "o también se puede importar con algún alias\n",
    "\n",
    "> import numpy as np"
   ]
  },
  {
   "cell_type": "markdown",
   "id": "d003deb7",
   "metadata": {},
   "source": [
    "<a name='2'></a>\n",
    "\n",
    "# Crear un Objeto ndarray de NumPy\n",
    "[regresar al contenido](#c1)\n",
    "\n",
    "`NumPy` se utiliza para trabajar con arrays. El objeto de array en NumPy se llama ndarray.\n",
    "\n",
    "Podemos crear un objeto ndarray de NumPy utilizando la función `array()`."
   ]
  },
  {
   "cell_type": "code",
   "execution_count": 1,
   "id": "a7c7c289",
   "metadata": {},
   "outputs": [],
   "source": [
    "import numpy as np"
   ]
  },
  {
   "cell_type": "code",
   "execution_count": 2,
   "id": "3b18c5e4",
   "metadata": {},
   "outputs": [
    {
     "name": "stdout",
     "output_type": "stream",
     "text": [
      "[1 2 3 4 5]\n",
      "<class 'numpy.ndarray'>\n"
     ]
    }
   ],
   "source": [
    "arr = np.array([1, 2, 3, 4, 5])\n",
    "\n",
    "print(arr)\n",
    "\n",
    "print(type(arr))"
   ]
  },
  {
   "cell_type": "code",
   "execution_count": 4,
   "id": "a7310991",
   "metadata": {},
   "outputs": [
    {
     "name": "stdout",
     "output_type": "stream",
     "text": [
      "[1 2 3 4 5]\n",
      "<class 'numpy.ndarray'>\n"
     ]
    }
   ],
   "source": [
    "arr1 = np.array((1, 2, 3, 4, 5))\n",
    "\n",
    "print(arr1)\n",
    "\n",
    "print(type(arr1))"
   ]
  },
  {
   "cell_type": "markdown",
   "id": "14d0d399",
   "metadata": {},
   "source": [
    "<a name='2-1'></a>\n",
    "\n",
    "## Arreglos 0-D\n",
    "[regresar al contenido](#c1)\n",
    "\n",
    "Los arrays 0-D, o escalares, son los elementos en un array. Cada valor en un array se considera un array 0-D en sí mismo. En otras palabras, un array puede contener múltiples escalares como sus elementos."
   ]
  },
  {
   "cell_type": "code",
   "execution_count": 6,
   "id": "9283501a",
   "metadata": {},
   "outputs": [
    {
     "name": "stdout",
     "output_type": "stream",
     "text": [
      "42\n"
     ]
    }
   ],
   "source": [
    "arr = np.array(42)\n",
    "\n",
    "print(arr)"
   ]
  },
  {
   "cell_type": "markdown",
   "id": "31026a37",
   "metadata": {},
   "source": [
    "<a name='2-2'></a>\n",
    "\n",
    "## Arreglos 1-D\n",
    "[regresar al contenido](#c1)\n",
    "\n",
    "Un array que tiene arrays 0-D (escalares) como sus elementos se llama array unidimensional o 1-D. En otras palabras, es un array que contiene valores individuales en lugar de secuencias de valores."
   ]
  },
  {
   "cell_type": "code",
   "execution_count": 7,
   "id": "df15661e",
   "metadata": {},
   "outputs": [
    {
     "name": "stdout",
     "output_type": "stream",
     "text": [
      "[1 2 3 4 5]\n"
     ]
    }
   ],
   "source": [
    "arr = np.array([1, 2, 3, 4, 5])\n",
    "\n",
    "print(arr)"
   ]
  },
  {
   "cell_type": "markdown",
   "id": "220d814f",
   "metadata": {},
   "source": [
    "<a name='2-3'></a>\n",
    "\n",
    "## Arreglos 2-D\n",
    "[regresar al contenido](#c1)\n",
    "\n",
    "Un array que tiene arrays 1-D como sus elementos se llama array 2-D.\n",
    "\n",
    "A menudo se utilizan para representar matrices o tensores de segundo orden."
   ]
  },
  {
   "cell_type": "code",
   "execution_count": 8,
   "id": "d4957232",
   "metadata": {},
   "outputs": [
    {
     "name": "stdout",
     "output_type": "stream",
     "text": [
      "[[1 2 3]\n",
      " [4 5 6]]\n"
     ]
    }
   ],
   "source": [
    "arr = np.array([[1, 2, 3], [4, 5, 6]])\n",
    "\n",
    "print(arr)"
   ]
  },
  {
   "cell_type": "markdown",
   "id": "26558446",
   "metadata": {},
   "source": [
    "<a name='2-4'></a>\n",
    "\n",
    "## Arreglos 3-D\n",
    "[regresar al contenido](#c1)\n",
    "\n",
    "Un array que tiene matrices 2-D como sus elementos se llama array 3-D.\n",
    "\n",
    "A menudo se utilizan para representar un tensor de tercer orden."
   ]
  },
  {
   "cell_type": "code",
   "execution_count": 20,
   "id": "62c1710e",
   "metadata": {},
   "outputs": [
    {
     "name": "stdout",
     "output_type": "stream",
     "text": [
      "[[[1 2 3]\n",
      "  [4 5 6]]\n",
      "\n",
      " [[1 2 3]\n",
      "  [4 5 6]]]\n"
     ]
    }
   ],
   "source": [
    "arr = np.array([[[1, 2, 3], [4, 5, 6]], [[1, 2, 3], [4, 5, 6]]])\n",
    "\n",
    "print(arr)"
   ]
  },
  {
   "cell_type": "markdown",
   "id": "df7e7466",
   "metadata": {},
   "source": [
    "<a name='2-5'></a>\n",
    "\n",
    "## Checando las dimensiones de los arreglos\n",
    "[regresar al contenido](#c1)"
   ]
  },
  {
   "cell_type": "code",
   "execution_count": 27,
   "id": "d9c80d3b",
   "metadata": {},
   "outputs": [
    {
     "name": "stdout",
     "output_type": "stream",
     "text": [
      "0 ()\n",
      "1 (5,)\n",
      "2 (2, 3)\n",
      "3 (2, 2, 3)\n"
     ]
    }
   ],
   "source": [
    "a = np.array(42)\n",
    "b = np.array([1, 2, 3, 4, 5])\n",
    "c = np.array([[1, 2, 3], [4, 5, 6]])\n",
    "d = np.array([[[1, 2, 3], [4, 5, 6]], [[1, 2, 3], [4, 5, 6]]])\n",
    "\n",
    "print(a.ndim,a.shape)\n",
    "print(b.ndim,b.shape)\n",
    "print(c.ndim,c.shape)\n",
    "print(d.ndim,d.shape)"
   ]
  },
  {
   "cell_type": "markdown",
   "id": "14e6c602",
   "metadata": {},
   "source": [
    "<a name='2-6'></a>\n",
    "\n",
    "## Arreglos de dimensión mayor\n",
    "[regresar al contenido](#c1)"
   ]
  },
  {
   "cell_type": "code",
   "execution_count": 22,
   "id": "1d11cd78",
   "metadata": {},
   "outputs": [
    {
     "name": "stdout",
     "output_type": "stream",
     "text": [
      "[[[[[1 2 3 4]]]]]\n",
      "number of dimensions : 5\n"
     ]
    }
   ],
   "source": [
    "arr = np.array([1, 2, 3, 4], ndmin=5)\n",
    "\n",
    "print(arr)\n",
    "print('number of dimensions :', arr.ndim)"
   ]
  },
  {
   "cell_type": "markdown",
   "id": "334a05cf",
   "metadata": {},
   "source": [
    "<a name='3'></a>\n",
    "\n",
    "# Acceso a elementos\n",
    "[regresar al contenido](#c1)\n",
    "\n",
    "La indexación de arrays es similar a acceder a un elemento de un array.\n",
    "\n",
    "Puedes acceder a un elemento de un array haciendo referencia a su número de índice.\n",
    "\n",
    "Los índices en los arrays de NumPy comienzan en 0, lo que significa que el primer elemento tiene un índice 0, el segundo tiene un índice 1, y así sucesivamente."
   ]
  },
  {
   "cell_type": "markdown",
   "id": "79d6d0e5",
   "metadata": {},
   "source": [
    "<a name='3-1'></a>\n",
    "\n",
    "## Arreglos 1-D\n",
    "[regresar al contenido](#c1)"
   ]
  },
  {
   "cell_type": "code",
   "execution_count": 24,
   "id": "3d938930",
   "metadata": {},
   "outputs": [
    {
     "name": "stdout",
     "output_type": "stream",
     "text": [
      "1\n"
     ]
    }
   ],
   "source": [
    "arr = np.array([1, 2, 3, 4])\n",
    "\n",
    "print(arr[0])"
   ]
  },
  {
   "cell_type": "markdown",
   "id": "3c3ce1d1",
   "metadata": {},
   "source": [
    "<a name='3-2'></a>\n",
    "\n",
    "## Arreglos 2-D\n",
    "[regresar al contenido](#c1)\n",
    "\n",
    "Para acceder a elementos de arrays 2-D, podemos usar enteros separados por comas que representan la dimensión y el índice del elemento.\n",
    "\n",
    "Piensa en los arrays 2-D como una tabla con filas y columnas, donde la dimensión representa la fila y el índice representa la columna."
   ]
  },
  {
   "cell_type": "code",
   "execution_count": 25,
   "id": "ac38a6c6",
   "metadata": {},
   "outputs": [
    {
     "name": "stdout",
     "output_type": "stream",
     "text": [
      "2do elemento de la 1er Fila:  2\n"
     ]
    }
   ],
   "source": [
    "arr = np.array([[1,2,3,4,5], [6,7,8,9,10]])\n",
    "\n",
    "print('2do elemento de la 1er Fila: ', arr[0, 1])"
   ]
  },
  {
   "cell_type": "code",
   "execution_count": 26,
   "id": "17e0cc1a",
   "metadata": {},
   "outputs": [
    {
     "name": "stdout",
     "output_type": "stream",
     "text": [
      "Quinto elemento de la 2da Fila 10\n"
     ]
    }
   ],
   "source": [
    "print('Quinto elemento de la 2da Fila', arr[1, 4])"
   ]
  },
  {
   "cell_type": "markdown",
   "id": "b0a7e666",
   "metadata": {},
   "source": [
    "<a name='3-3'></a>\n",
    "\n",
    "## Arreglos 3-D\n",
    "[regresar al contenido](#c1)\n",
    "\n",
    "Para acceder a elementos de arrays 3-D, podemos usar enteros separados por comas que representan las dimensiones y el índice del elemento. Esto implica especificar la coordenada en cada dimensión para llegar al elemento deseado en el array tridimensional."
   ]
  },
  {
   "cell_type": "code",
   "execution_count": 16,
   "id": "bacdf56c",
   "metadata": {},
   "outputs": [
    {
     "name": "stdout",
     "output_type": "stream",
     "text": [
      "6\n"
     ]
    }
   ],
   "source": [
    "arr = np.array([[[1, 2, 3], [4, 5, 6]], [[7, 8, 9], [10, 11, 12]]])\n",
    "\n",
    "print(arr[0, 1, 2])"
   ]
  },
  {
   "cell_type": "markdown",
   "id": "e9b1cd1e",
   "metadata": {},
   "source": [
    "<a name='4'></a>\n",
    "\n",
    "# Slicing\n",
    "[regresar al contenido](#c1)\n",
    "\n",
    "El slicing en Python significa tomar elementos desde un índice dado hasta otro índice dado.\n",
    "\n",
    "Pasamos el slice en lugar del índice de esta manera: `[inicio:fin]`.\n",
    "\n",
    "También podemos definir el paso, de esta manera: `[inicio:fin:paso]`.\n",
    "\n",
    "- Si no especificamos el inicio, se considera 0.\n",
    "- Si no especificamos el fin, se considera la longitud del array en esa dimensión.\n",
    "- Si no especificamos el paso, se considera 1."
   ]
  },
  {
   "cell_type": "markdown",
   "id": "88c212ab",
   "metadata": {},
   "source": [
    "<a name='4-1'></a>\n",
    "\n",
    "## Arreglos 1-D\n",
    "[regresar al contenido](#c1)"
   ]
  },
  {
   "cell_type": "code",
   "execution_count": 28,
   "id": "64390e77",
   "metadata": {},
   "outputs": [
    {
     "name": "stdout",
     "output_type": "stream",
     "text": [
      "[2 3 4 5]\n"
     ]
    }
   ],
   "source": [
    "arr = np.array([1, 2, 3, 4, 5, 6, 7])\n",
    "\n",
    "print(arr[1:5])"
   ]
  },
  {
   "cell_type": "code",
   "execution_count": 29,
   "id": "ce042dcb",
   "metadata": {},
   "outputs": [
    {
     "name": "stdout",
     "output_type": "stream",
     "text": [
      "[5 6 7]\n"
     ]
    }
   ],
   "source": [
    "print(arr[4:])"
   ]
  },
  {
   "cell_type": "code",
   "execution_count": 30,
   "id": "974b73fd",
   "metadata": {},
   "outputs": [
    {
     "name": "stdout",
     "output_type": "stream",
     "text": [
      "[1 2 3 4]\n"
     ]
    }
   ],
   "source": [
    "print(arr[:4])"
   ]
  },
  {
   "cell_type": "code",
   "execution_count": 31,
   "id": "d0d0609a",
   "metadata": {},
   "outputs": [
    {
     "name": "stdout",
     "output_type": "stream",
     "text": [
      "[5 6]\n"
     ]
    }
   ],
   "source": [
    "print(arr[-3:-1])"
   ]
  },
  {
   "cell_type": "markdown",
   "id": "52da0e94",
   "metadata": {},
   "source": [
    "<a name='4-1-1'></a>\n",
    "\n",
    "### Paso\n",
    "[regresar al contenido](#c1)\n",
    "\n",
    "> `arreglo[inicio:fin:paso]`"
   ]
  },
  {
   "cell_type": "code",
   "execution_count": 32,
   "id": "5e66abe3",
   "metadata": {},
   "outputs": [
    {
     "name": "stdout",
     "output_type": "stream",
     "text": [
      "[2 4]\n"
     ]
    }
   ],
   "source": [
    "arr = np.array([1, 2, 3, 4, 5, 6, 7])\n",
    "\n",
    "print(arr[1:5:2])"
   ]
  },
  {
   "cell_type": "code",
   "execution_count": 33,
   "id": "e1d17b9b",
   "metadata": {},
   "outputs": [
    {
     "name": "stdout",
     "output_type": "stream",
     "text": [
      "[1 3 5 7]\n"
     ]
    }
   ],
   "source": [
    "arr = np.array([1, 2, 3, 4, 5, 6, 7])\n",
    "\n",
    "print(arr[::2])"
   ]
  },
  {
   "cell_type": "markdown",
   "id": "66c49de4",
   "metadata": {},
   "source": [
    "<a name='4-2'></a>\n",
    "\n",
    "## Arreglos 2-D\n",
    "[regresar al contenido](#c1)"
   ]
  },
  {
   "cell_type": "code",
   "execution_count": 34,
   "id": "7613defd",
   "metadata": {},
   "outputs": [
    {
     "name": "stdout",
     "output_type": "stream",
     "text": [
      "[7 8 9]\n"
     ]
    }
   ],
   "source": [
    "arr = np.array([[1, 2, 3, 4, 5], [6, 7, 8, 9, 10]])\n",
    "\n",
    "print(arr[1, 1:4])"
   ]
  },
  {
   "cell_type": "code",
   "execution_count": 35,
   "id": "0816eb5f",
   "metadata": {},
   "outputs": [
    {
     "name": "stdout",
     "output_type": "stream",
     "text": [
      "[3 8]\n"
     ]
    }
   ],
   "source": [
    "arr = np.array([[1, 2, 3, 4, 5], [6, 7, 8, 9, 10]])\n",
    "\n",
    "print(arr[0:2, 2])"
   ]
  },
  {
   "cell_type": "code",
   "execution_count": 36,
   "id": "034d9240",
   "metadata": {},
   "outputs": [
    {
     "name": "stdout",
     "output_type": "stream",
     "text": [
      "[[2 3 4]\n",
      " [7 8 9]]\n"
     ]
    }
   ],
   "source": [
    "arr = np.array([[1, 2, 3, 4, 5], [6, 7, 8, 9, 10]])\n",
    "\n",
    "print(arr[0:2, 1:4])"
   ]
  },
  {
   "cell_type": "markdown",
   "id": "202b7434",
   "metadata": {},
   "source": [
    "<a name='5'></a>\n",
    "\n",
    "# Buscando en arreglos\n",
    "[regresar al contenido](#c1)\n",
    "\n",
    "Puedes buscar un valor específico en un array y obtener los índices que coinciden con ese valor.\n",
    "\n",
    "Para buscar en un array, utiliza el método `where()`. El método `where()` de NumPy te permite buscar elementos que cumplan con ciertas condiciones y devuelve los índices donde se encuentran esos elementos."
   ]
  },
  {
   "cell_type": "code",
   "execution_count": 37,
   "id": "21bea2ea",
   "metadata": {},
   "outputs": [
    {
     "name": "stdout",
     "output_type": "stream",
     "text": [
      "(array([3, 5, 6], dtype=int64),)\n"
     ]
    }
   ],
   "source": [
    "arr = np.array([1, 2, 3, 4, 5, 4, 4])\n",
    "\n",
    "x = np.where(arr == 4)\n",
    "\n",
    "print(x)"
   ]
  },
  {
   "cell_type": "code",
   "execution_count": 38,
   "id": "43749c86",
   "metadata": {},
   "outputs": [
    {
     "name": "stdout",
     "output_type": "stream",
     "text": [
      "(array([1, 3, 5, 7], dtype=int64),)\n"
     ]
    }
   ],
   "source": [
    "arr = np.array([1, 2, 3, 4, 5, 6, 7, 8])\n",
    "\n",
    "x = np.where(arr%2 == 0)\n",
    "\n",
    "print(x)"
   ]
  },
  {
   "cell_type": "markdown",
   "id": "1b83174b",
   "metadata": {},
   "source": [
    "Existe un método llamado `searchsorted()` que realiza una búsqueda binaria en el array y devuelve el índice donde se insertaría el valor especificado para mantener el orden de búsqueda.\n",
    "\n",
    "Se asume que el método `searchsorted()` se utiliza en arrays ordenados, ya que se basa en la búsqueda binaria, que funciona eficientemente en datos ordenados."
   ]
  },
  {
   "cell_type": "code",
   "execution_count": 39,
   "id": "7baebdb3",
   "metadata": {},
   "outputs": [
    {
     "name": "stdout",
     "output_type": "stream",
     "text": [
      "1\n"
     ]
    }
   ],
   "source": [
    "arr = np.array([6, 7, 8, 9])\n",
    "\n",
    "x = np.searchsorted(arr, 7)\n",
    "\n",
    "print(x)"
   ]
  },
  {
   "cell_type": "markdown",
   "id": "40df69aa",
   "metadata": {},
   "source": [
    "De forma predeterminada, se devuelve el índice más a la izquierda al buscar un valor en un array, pero podemos especificar `side='right'` para obtener en su lugar el índice más a la derecha."
   ]
  },
  {
   "cell_type": "code",
   "execution_count": 40,
   "id": "d41c05fd",
   "metadata": {},
   "outputs": [
    {
     "name": "stdout",
     "output_type": "stream",
     "text": [
      "2\n"
     ]
    }
   ],
   "source": [
    "arr = np.array([6, 7, 8, 9])\n",
    "\n",
    "x = np.searchsorted(arr, 7, side='right')\n",
    "\n",
    "print(x)"
   ]
  },
  {
   "cell_type": "code",
   "execution_count": 41,
   "id": "9d77a955",
   "metadata": {},
   "outputs": [
    {
     "name": "stdout",
     "output_type": "stream",
     "text": [
      "[1 2 3]\n"
     ]
    }
   ],
   "source": [
    "arr = np.array([1, 3, 5, 7])\n",
    "\n",
    "x = np.searchsorted(arr, [2, 4, 6])\n",
    "\n",
    "print(x)"
   ]
  },
  {
   "cell_type": "markdown",
   "id": "4bf565f1",
   "metadata": {},
   "source": [
    "<a name='6'></a>\n",
    "\n",
    "# Filtrado\n",
    "[regresar al contenido](#c1)"
   ]
  },
  {
   "cell_type": "code",
   "execution_count": 42,
   "id": "fa41a11c",
   "metadata": {},
   "outputs": [
    {
     "name": "stdout",
     "output_type": "stream",
     "text": [
      "[False False  True  True]\n",
      "[43 44]\n"
     ]
    }
   ],
   "source": [
    "arr = np.array([41, 42, 43, 44])\n",
    "\n",
    "filter_arr = arr > 42\n",
    "\n",
    "newarr = arr[filter_arr]\n",
    "\n",
    "print(filter_arr)\n",
    "print(newarr)"
   ]
  },
  {
   "cell_type": "code",
   "execution_count": 43,
   "id": "e79317b8",
   "metadata": {},
   "outputs": [
    {
     "name": "stdout",
     "output_type": "stream",
     "text": [
      "[False  True False  True False  True False]\n",
      "[2 4 6]\n"
     ]
    }
   ],
   "source": [
    "arr = np.array([1, 2, 3, 4, 5, 6, 7])\n",
    "\n",
    "filter_arr = arr % 2 == 0\n",
    "\n",
    "newarr = arr[filter_arr]\n",
    "\n",
    "print(filter_arr)\n",
    "print(newarr)"
   ]
  }
 ],
 "metadata": {
  "kernelspec": {
   "display_name": "Python 3 (ipykernel)",
   "language": "python",
   "name": "python3"
  },
  "language_info": {
   "codemirror_mode": {
    "name": "ipython",
    "version": 3
   },
   "file_extension": ".py",
   "mimetype": "text/x-python",
   "name": "python",
   "nbconvert_exporter": "python",
   "pygments_lexer": "ipython3",
   "version": "3.9.12"
  }
 },
 "nbformat": 4,
 "nbformat_minor": 5
}

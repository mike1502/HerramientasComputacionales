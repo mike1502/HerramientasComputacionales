{
 "cells": [
  {
   "cell_type": "markdown",
   "id": "0c4018bd",
   "metadata": {},
   "source": [
    "<font color=\"Red\" face=\"Comic Sans MS,arial\">\n",
    "  <h1 align=\"center\"><i>Lectura y escritura de archivos de texto </i></h1>\n",
    "  </font>\n",
    "  \n",
    "> Elaborado por: Jesús Iván Coss Calderón. mat_ing_coss@ciencias.unam.mx"
   ]
  },
  {
   "cell_type": "markdown",
   "id": "d572795c",
   "metadata": {},
   "source": [
    "**Objetivo general**\n",
    "\n",
    "* Aprender los fundamentos de la declaración de funciones\n",
    "\n",
    "**Objetivos particulares**\n",
    "\n",
    "* Entender la elaboración de funciones"
   ]
  },
  {
   "cell_type": "markdown",
   "id": "001e54d2",
   "metadata": {},
   "source": [
    "[**Regresa al notebook principal**](https://github.com/seismomat/HerramientasComputacionales/blob/main/TemarioDePython/Temario%20de%20Python.ipynb)"
   ]
  },
  {
   "cell_type": "markdown",
   "id": "b76ffc8a",
   "metadata": {},
   "source": [
    "<a name='c1'></a>\n",
    "\n",
    "## Contenido\n",
    "\n",
    "- [Open en python](#1)\n",
    "    - [Manejo de archivos](#1-1)\n",
    "- [Sintaxis](#2)\n",
    "    - [Escritura de archivos](#2-1)\n",
    "        - [Crear un archivo nuevo](#2-1-1)\n",
    "    - [Lectura de archivos](#2-2)\n",
    "        - [Abriendo y leyendo archivos](#2-2-1)\n",
    "        - [Leer lineas](#2-2-2)\n",
    "- [Borrando archivos](#3)"
   ]
  },
  {
   "cell_type": "markdown",
   "id": "269975e0",
   "metadata": {},
   "source": [
    "<a name='1'></a>\n",
    "\n",
    "# Open en python\n",
    "[regresar al contenido](#c1)\n",
    "\n",
    "El manejo de archivos es una parte importante de cualquier aplicación web.\n",
    "\n",
    "Python tiene varias funciones para crear, leer, actualizar y eliminar archivos."
   ]
  },
  {
   "cell_type": "markdown",
   "id": "fb9dfa06",
   "metadata": {},
   "source": [
    "<a name='1-1'></a>\n",
    "\n",
    "# Manejo de archivos\n",
    "[regresar al contenido](#c1)\n",
    "\n",
    "La función clave para trabajar con archivos en Python es la función `open()`.\n",
    "\n",
    "La función `open()` toma dos parámetros: el nombre del archivo y el modo.\n",
    "\n",
    "Existen cuatro métodos diferentes (modos) para abrir un archivo:\n",
    "\n",
    "`\"r\"` - Leer - Valor predeterminado. Abre un archivo para lectura, genera un error si el archivo no existe.\n",
    "\n",
    "`\"a\"` - Anexar - Abre un archivo para añadir contenido, crea el archivo si no existe.\n",
    "\n",
    "`\"w\"` - Escribir - Abre un archivo para escribir, crea el archivo si no existe.\n",
    "\n",
    "`\"x\"` - Crear - Crea el archivo especificado, devuelve un error si el archivo ya existe.\n",
    "\n",
    "`\"t\"` - Texto - Valor predeterminado. Modo de texto.\n",
    "\n",
    "`\"b\"` - Binario - Modo binario (por ejemplo, imágenes)."
   ]
  },
  {
   "cell_type": "markdown",
   "id": "d003deb7",
   "metadata": {},
   "source": [
    "<a name='2'></a>\n",
    "\n",
    "# Sintaxis\n",
    "[regresar al contenido](#c1)"
   ]
  },
  {
   "cell_type": "markdown",
   "id": "13a251a7",
   "metadata": {},
   "source": [
    "<a name='2-1'></a>\n",
    "\n",
    "## Escritura de archivos\n",
    "[regresar al contenido](#c1)\n",
    "\n",
    "Para escribir en un archivo existente, debes agregar un parámetro a la función open():\n",
    "\n",
    "`\"a\"` - Anexar - agregará al final del archivo\n",
    "\n",
    "`\"w\"` - Escribir - sobrescribirá cualquier contenido existente"
   ]
  },
  {
   "cell_type": "code",
   "execution_count": 2,
   "id": "976640e4",
   "metadata": {},
   "outputs": [],
   "source": [
    "f = open(\"demofile.txt\", \"a\")\n",
    "f.write(\"Ahora, el archivo tiene más contenido\")\n",
    "f.close()"
   ]
  },
  {
   "cell_type": "code",
   "execution_count": 4,
   "id": "aeb5cdf8",
   "metadata": {},
   "outputs": [],
   "source": [
    "f = open(\"demofile.txt\", \"w\")\n",
    "f.write(\"¡oops!, he borrado el contenido del archivo\")\n",
    "f.close()"
   ]
  },
  {
   "cell_type": "code",
   "execution_count": 32,
   "id": "44115daa",
   "metadata": {},
   "outputs": [],
   "source": [
    "wt=\"¡Hola! Bienvenido a demofile.txt. Este archivo es para propósitos de prueba. ¡Buena suerte!\"\n",
    "f = open(\"demofile.txt\", \"w\")\n",
    "f.write(wt)\n",
    "f.close()"
   ]
  },
  {
   "cell_type": "markdown",
   "id": "f6d0a589",
   "metadata": {},
   "source": [
    "El archivo se ve de la siguiente manera:\n",
    "\n",
    "`¡Hola! Bienvenido a demofile.txt. Este archivo es para propósitos de prueba. ¡Buena suerte!`"
   ]
  },
  {
   "cell_type": "markdown",
   "id": "6804665f",
   "metadata": {},
   "source": [
    "<a name='2-1-1'></a>\n",
    "\n",
    "### Crear un archivo nuevo\n",
    "[regresar al contenido](#c1)\n",
    "\n",
    "Para crear un archivo nuevo en Python, utiliza el método `open()`, con uno de los siguientes parámetros:\n",
    "\n",
    "`\"x\"` - Crear - creará un archivo, devuelve un error si el archivo existe\n",
    "\n",
    "`\"a\"` - Anexar - creará un archivo si el archivo especificado no existe\n",
    "\n",
    "`\"w\"` - Escribir - creará un archivo si el archivo especificado no existe"
   ]
  },
  {
   "cell_type": "code",
   "execution_count": 10,
   "id": "f1ca5c71",
   "metadata": {},
   "outputs": [
    {
     "ename": "FileExistsError",
     "evalue": "[Errno 17] File exists: 'demofile.txt'",
     "output_type": "error",
     "traceback": [
      "\u001b[1;31m---------------------------------------------------------------------------\u001b[0m",
      "\u001b[1;31mFileExistsError\u001b[0m                           Traceback (most recent call last)",
      "Input \u001b[1;32mIn [10]\u001b[0m, in \u001b[0;36m<cell line: 1>\u001b[1;34m()\u001b[0m\n\u001b[1;32m----> 1\u001b[0m f \u001b[38;5;241m=\u001b[39m \u001b[38;5;28;43mopen\u001b[39;49m\u001b[43m(\u001b[49m\u001b[38;5;124;43m\"\u001b[39;49m\u001b[38;5;124;43mdemofile.txt\u001b[39;49m\u001b[38;5;124;43m\"\u001b[39;49m\u001b[43m,\u001b[49m\u001b[43m \u001b[49m\u001b[38;5;124;43m\"\u001b[39;49m\u001b[38;5;124;43mx\u001b[39;49m\u001b[38;5;124;43m\"\u001b[39;49m\u001b[43m)\u001b[49m\n",
      "\u001b[1;31mFileExistsError\u001b[0m: [Errno 17] File exists: 'demofile.txt'"
     ]
    }
   ],
   "source": [
    "f = open(\"demofile.txt\", \"x\")"
   ]
  },
  {
   "cell_type": "markdown",
   "id": "3f1a759a",
   "metadata": {},
   "source": [
    "Se crea un nuevo archivo vacío"
   ]
  },
  {
   "cell_type": "code",
   "execution_count": 11,
   "id": "a5e9d1cf",
   "metadata": {},
   "outputs": [],
   "source": [
    "f = open(\"myfile.txt\", \"w\")"
   ]
  },
  {
   "cell_type": "markdown",
   "id": "cfc5fca4",
   "metadata": {},
   "source": [
    "<a name='2-2'></a>\n",
    "\n",
    "## Lectura de archivos\n",
    "[regresar al contenido](#c1)\n",
    "\n",
    "Para abrir un archivo para lectura en Python, es suficiente con especificar el nombre del archivo utilizando el modo de lectura predeterminado `\"r\"`. Por ejemplo"
   ]
  },
  {
   "cell_type": "code",
   "execution_count": 8,
   "id": "a7c7c289",
   "metadata": {},
   "outputs": [],
   "source": [
    "f = open(\"demofile.txt\")\n",
    "f.close()"
   ]
  },
  {
   "cell_type": "markdown",
   "id": "b43f1565",
   "metadata": {},
   "source": [
    "El código de arriba es similar a este"
   ]
  },
  {
   "cell_type": "code",
   "execution_count": 9,
   "id": "18bccd30",
   "metadata": {},
   "outputs": [],
   "source": [
    "f = open(\"demofile.txt\", \"rt\")\n",
    "f.close()"
   ]
  },
  {
   "cell_type": "markdown",
   "id": "5f4a15a7",
   "metadata": {},
   "source": [
    "Debido a que `\"r\"` para leer y `\"t\"` para texto son los valores predeterminados, no es necesario especificarlos."
   ]
  },
  {
   "cell_type": "markdown",
   "id": "f9d6a929",
   "metadata": {},
   "source": [
    "<a name='2-2-1'></a>\n",
    "\n",
    "### Abriendo y leyendo archivos\n",
    "[regresar al contenido](#c1)"
   ]
  },
  {
   "cell_type": "markdown",
   "id": "78a95961",
   "metadata": {},
   "source": [
    "Para abrir el archivo, utiliza la función incorporada `open()`.\n",
    "\n",
    "La función `open()` devuelve un objeto de archivo, que tiene un método `read()` para leer el contenido del archivo"
   ]
  },
  {
   "cell_type": "code",
   "execution_count": 13,
   "id": "5aca13f9",
   "metadata": {},
   "outputs": [
    {
     "name": "stdout",
     "output_type": "stream",
     "text": [
      "¡Hola! Bienvenido a demofile.txt. Este archivo es para propósitos de prueba. ¡Buena suerte!\n"
     ]
    }
   ],
   "source": [
    "f = open(\"demofile.txt\", \"r\")\n",
    "print(f.read())"
   ]
  },
  {
   "cell_type": "code",
   "execution_count": 15,
   "id": "12669d4b",
   "metadata": {},
   "outputs": [
    {
     "name": "stdout",
     "output_type": "stream",
     "text": [
      "¡Hola! Bienvenido a demofile.txt. Este archivo es para propósitos de prueba. ¡Buena suerte!\n"
     ]
    }
   ],
   "source": [
    "f = open(\"demofile.txt\", \"r\")  # Abre el archivo en modo de lectura (\"r\")\n",
    "contenido = f.read()  # Lee el contenido del archivo\n",
    "f.close()  # Cierra el archivo después de leerlo\n",
    "\n",
    "print(contenido)  # Muestra el contenido del archivo en la consola"
   ]
  },
  {
   "cell_type": "code",
   "execution_count": 19,
   "id": "62989552",
   "metadata": {},
   "outputs": [
    {
     "name": "stdout",
     "output_type": "stream",
     "text": [
      "¡Hola! Bienvenido a demofile.txt. Este archivo es para propósitos de prueba. ¡Buena suerte!\n"
     ]
    }
   ],
   "source": [
    "ruta=''\n",
    "archivo='demofile.txt'\n",
    "\n",
    "f = open(archivo, \"r\")  # Abre el archivo en modo de lectura (\"r\")\n",
    "contenido = f.read()  # Lee el contenido del archivo\n",
    "f.close()  # Cierra el archivo después de leerlo\n",
    "\n",
    "print(contenido)  # Muestra el contenido del archivo en la consola"
   ]
  },
  {
   "cell_type": "code",
   "execution_count": 27,
   "id": "a23ac392",
   "metadata": {},
   "outputs": [
    {
     "name": "stdout",
     "output_type": "stream",
     "text": [
      "¡Hola\n"
     ]
    }
   ],
   "source": [
    "f = open(\"demofile.txt\", \"r\")\n",
    "print(f.read(5))\n",
    "f.close()"
   ]
  },
  {
   "cell_type": "markdown",
   "id": "32f393f1",
   "metadata": {},
   "source": [
    "<a name='2-2-2'></a>\n",
    "\n",
    "### Leer lineas\n",
    "[regresar al contenido](#c1)"
   ]
  },
  {
   "cell_type": "markdown",
   "id": "c660a13a",
   "metadata": {},
   "source": [
    "Puedes obtener una línea utilizando el método `readline()`:"
   ]
  },
  {
   "cell_type": "code",
   "execution_count": 28,
   "id": "acb14112",
   "metadata": {},
   "outputs": [
    {
     "name": "stdout",
     "output_type": "stream",
     "text": [
      "¡Hola! Bienvenido a demofile.txt. Este archivo es para propósitos de prueba. ¡Buena suerte!\n"
     ]
    }
   ],
   "source": [
    "f = open(\"demofile.txt\", \"r\")\n",
    "print(f.readline())\n",
    "f.close()"
   ]
  },
  {
   "cell_type": "markdown",
   "id": "1a942d55",
   "metadata": {},
   "source": [
    "Llamando a `readline()` dos veces, puedes leer las dos primeras líneas."
   ]
  },
  {
   "cell_type": "code",
   "execution_count": 29,
   "id": "28de71d7",
   "metadata": {},
   "outputs": [
    {
     "name": "stdout",
     "output_type": "stream",
     "text": [
      "¡Hola! Bienvenido a demofile.txt. Este archivo es para propósitos de prueba. ¡Buena suerte!\n",
      "\n"
     ]
    }
   ],
   "source": [
    "f = open(\"demofile.txt\", \"r\")\n",
    "print(f.readline())\n",
    "print(f.readline())\n",
    "f.close()"
   ]
  },
  {
   "cell_type": "markdown",
   "id": "fbf47f17",
   "metadata": {},
   "source": [
    "Al recorrer las líneas del archivo en un bucle, puedes leer todo el archivo, línea por línea."
   ]
  },
  {
   "cell_type": "code",
   "execution_count": 33,
   "id": "16d94a98",
   "metadata": {},
   "outputs": [
    {
     "name": "stdout",
     "output_type": "stream",
     "text": [
      "¡Hola! Bienvenido a demofile.txt. Este archivo es para propósitos de prueba. ¡Buena suerte!\n"
     ]
    }
   ],
   "source": [
    "f = open(\"demofile.txt\", \"r\")\n",
    "for x in f:\n",
    "  print(x)\n",
    "#f.close() # cierralo para que vean como corre la sección borrar archivos"
   ]
  },
  {
   "cell_type": "markdown",
   "id": "4c91027c",
   "metadata": {},
   "source": [
    "<a name='3'></a>\n",
    "\n",
    "# Borrando archivos\n",
    "[regresar al contenido](#c1)"
   ]
  },
  {
   "cell_type": "code",
   "execution_count": 34,
   "id": "f6abfbc9",
   "metadata": {},
   "outputs": [
    {
     "ename": "PermissionError",
     "evalue": "[WinError 32] El proceso no tiene acceso al archivo porque está siendo utilizado por otro proceso: 'demofile.txt'",
     "output_type": "error",
     "traceback": [
      "\u001b[1;31m---------------------------------------------------------------------------\u001b[0m",
      "\u001b[1;31mPermissionError\u001b[0m                           Traceback (most recent call last)",
      "Input \u001b[1;32mIn [34]\u001b[0m, in \u001b[0;36m<cell line: 2>\u001b[1;34m()\u001b[0m\n\u001b[0;32m      1\u001b[0m \u001b[38;5;28;01mimport\u001b[39;00m \u001b[38;5;21;01mos\u001b[39;00m\n\u001b[0;32m      2\u001b[0m \u001b[38;5;28;01mif\u001b[39;00m os\u001b[38;5;241m.\u001b[39mpath\u001b[38;5;241m.\u001b[39mexists(\u001b[38;5;124m\"\u001b[39m\u001b[38;5;124mdemofile.txt\u001b[39m\u001b[38;5;124m\"\u001b[39m):\n\u001b[1;32m----> 3\u001b[0m   \u001b[43mos\u001b[49m\u001b[38;5;241;43m.\u001b[39;49m\u001b[43mremove\u001b[49m\u001b[43m(\u001b[49m\u001b[38;5;124;43m\"\u001b[39;49m\u001b[38;5;124;43mdemofile.txt\u001b[39;49m\u001b[38;5;124;43m\"\u001b[39;49m\u001b[43m)\u001b[49m\n\u001b[0;32m      4\u001b[0m \u001b[38;5;28;01melse\u001b[39;00m:\n\u001b[0;32m      5\u001b[0m   \u001b[38;5;28mprint\u001b[39m(\u001b[38;5;124m\"\u001b[39m\u001b[38;5;124mThe file does not exist\u001b[39m\u001b[38;5;124m\"\u001b[39m)\n",
      "\u001b[1;31mPermissionError\u001b[0m: [WinError 32] El proceso no tiene acceso al archivo porque está siendo utilizado por otro proceso: 'demofile.txt'"
     ]
    }
   ],
   "source": [
    "import os\n",
    "if os.path.exists(\"demofile.txt\"):\n",
    "  os.remove(\"demofile.txt\")\n",
    "else:\n",
    "  print(\"The file does not exist\")"
   ]
  }
 ],
 "metadata": {
  "kernelspec": {
   "display_name": "Python 3 (ipykernel)",
   "language": "python",
   "name": "python3"
  },
  "language_info": {
   "codemirror_mode": {
    "name": "ipython",
    "version": 3
   },
   "file_extension": ".py",
   "mimetype": "text/x-python",
   "name": "python",
   "nbconvert_exporter": "python",
   "pygments_lexer": "ipython3",
   "version": "3.9.12"
  }
 },
 "nbformat": 4,
 "nbformat_minor": 5
}

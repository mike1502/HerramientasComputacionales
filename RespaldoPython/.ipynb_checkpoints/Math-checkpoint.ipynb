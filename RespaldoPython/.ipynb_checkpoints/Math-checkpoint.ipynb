{
 "cells": [
  {
   "cell_type": "markdown",
   "id": "0c4018bd",
   "metadata": {},
   "source": [
    "<font color=\"Red\" face=\"Comic Sans MS,arial\">\n",
    "  <h1 align=\"center\"><i>Math </i></h1>\n",
    "  </font>\n",
    "  \n",
    "> Elaborado por: Jesús Iván Coss Calderón. mat_ing_coss@ciencias.unam.mx"
   ]
  },
  {
   "cell_type": "markdown",
   "id": "d572795c",
   "metadata": {},
   "source": [
    "**Objetivo general**\n",
    "\n",
    "* Aprender los fundamentos del módulo Math\n",
    "\n",
    "**Objetivos particulares**\n",
    "\n",
    "* Entender el funcionamiento del módulo Math"
   ]
  },
  {
   "cell_type": "markdown",
   "id": "001e54d2",
   "metadata": {},
   "source": [
    "[**Regresa al notebook principal**](https://github.com/seismomat/HerramientasComputacionales/blob/main/TemarioDePython/Temario%20de%20Python.ipynb)"
   ]
  },
  {
   "cell_type": "markdown",
   "id": "b76ffc8a",
   "metadata": {},
   "source": [
    "<a name='c1'></a>\n",
    "\n",
    "## Contenido\n",
    "\n",
    "- [Ceil](#1)\n",
    "- [comb()](#2)\n",
    "- [dist()](#3)\n",
    "- [isinf()](#4)"
   ]
  },
  {
   "cell_type": "markdown",
   "id": "269975e0",
   "metadata": {},
   "source": [
    "<a name='1'></a>\n",
    "\n",
    "# Ceil\n",
    "[regresar al contenido](#c1)\n",
    "\n",
    "El método math.ceil() redondea un número HACIA ARRIBA al entero más cercano, si es necesario, y devuelve el resultado"
   ]
  },
  {
   "cell_type": "code",
   "execution_count": 1,
   "id": "da054a9c",
   "metadata": {},
   "outputs": [
    {
     "name": "stdout",
     "output_type": "stream",
     "text": [
      "2\n",
      "6\n",
      "-5\n",
      "23\n",
      "10\n"
     ]
    }
   ],
   "source": [
    "# Import math library\n",
    "import math\n",
    "\n",
    "# Round a number upward to its nearest integer\n",
    "print(math.ceil(1.4))\n",
    "print(math.ceil(5.3))\n",
    "print(math.ceil(-5.3))\n",
    "print(math.ceil(22.6))\n",
    "print(math.ceil(10.0))"
   ]
  },
  {
   "cell_type": "markdown",
   "id": "d003deb7",
   "metadata": {},
   "source": [
    "<a name='2'></a>\n",
    "\n",
    "# comb()\n",
    "[regresar al contenido](#c1)\n",
    "\n",
    "El método math.comb() devuelve el número de formas de elegir k resultados no ordenados de n posibilidades, sin repetición, también conocido como combinaciones.\n",
    "\n",
    "Nota: Los parámetros que se pasen a este método deben ser enteros positivos."
   ]
  },
  {
   "cell_type": "code",
   "execution_count": 2,
   "id": "a7c7c289",
   "metadata": {},
   "outputs": [
    {
     "name": "stdout",
     "output_type": "stream",
     "text": [
      "21\n"
     ]
    }
   ],
   "source": [
    "# Import math Library\n",
    "import math\n",
    "\n",
    "# Initialize the number of items to choose from\n",
    "n = 7\n",
    "\n",
    "# Initialize the number of possibilities to choose\n",
    "k = 5\n",
    "\n",
    "# Print total number of possible combinations\n",
    "print (math.comb(n, k))"
   ]
  },
  {
   "cell_type": "markdown",
   "id": "334a05cf",
   "metadata": {},
   "source": [
    "<a name='3'></a>\n",
    "\n",
    "# dist()\n",
    "[regresar al contenido](#c1)\n",
    "\n",
    "El método math.dist() devuelve la distancia euclidiana entre dos puntos (p y q), donde p y q son las coordenadas de esos puntos.\n",
    "\n",
    "Nota: Los dos puntos (p y q) deben tener las mismas dimensiones para calcular la distancia euclidiana."
   ]
  },
  {
   "cell_type": "code",
   "execution_count": 3,
   "id": "635946a6",
   "metadata": {},
   "outputs": [
    {
     "name": "stdout",
     "output_type": "stream",
     "text": [
      "9.486832980505138\n"
     ]
    }
   ],
   "source": [
    "# Import math Library\n",
    "import math\n",
    "\n",
    "p = [3, 3]\n",
    "q = [6, 12]\n",
    "\n",
    "# Calculate Euclidean distance\n",
    "print (math.dist(p, q))"
   ]
  },
  {
   "cell_type": "markdown",
   "id": "20082363",
   "metadata": {},
   "source": [
    "<a name='4'></a>\n",
    "\n",
    "# isinf()\n",
    "[regresar al contenido](#c1)\n",
    "\n",
    "El método math.isinf() verifica si un número es infinito o no.\n",
    "\n",
    "Este método devuelve True si el número especificado es infinito positivo o infinito negativo; de lo contrario, devuelve False."
   ]
  },
  {
   "cell_type": "code",
   "execution_count": 4,
   "id": "6588db43",
   "metadata": {},
   "outputs": [
    {
     "name": "stdout",
     "output_type": "stream",
     "text": [
      "False\n",
      "False\n",
      "False\n",
      "True\n",
      "False\n",
      "True\n",
      "True\n",
      "True\n"
     ]
    }
   ],
   "source": [
    "# Import math Library\n",
    "import math\n",
    "\n",
    "# Check whether the values are infinite or not\n",
    "print(math.isinf(56))\n",
    "print(math.isinf(-45.34))\n",
    "print(math.isinf(+45.34))\n",
    "print(math.isinf(math.inf))\n",
    "print(math.isinf(float(\"nan\")))\n",
    "print(math.isinf(float(\"inf\")))\n",
    "print(math.isinf(float(\"-inf\")))\n",
    "print(math.isinf(-math.inf))"
   ]
  },
  {
   "cell_type": "markdown",
   "id": "ac6d62d8",
   "metadata": {},
   "source": [
    "Lista de diversas funciones relacionadas con el módulo math de Python, junto con breves descripciones\n",
    "\n",
    "| Función          | Descripción                                                             |\n",
    "|------------------|-------------------------------------------------------------------------|\n",
    "| math.acos()      | Devuelve el arcocoseno de un número.                                    |\n",
    "| math.acosh()     | Devuelve el coseno hiperbólico inverso de un número.                    |\n",
    "| math.asin()      | Devuelve el arcseno de un número.                                       |\n",
    "| math.asinh()     | Devuelve el seno hiperbólico inverso de un número.                      |\n",
    "| math.atan()      | Devuelve la tangente inversa de un número en radianes.                   |\n",
    "| math.atan2()     | Devuelve la tangente inversa de y/x en radianes.                         |\n",
    "| math.atanh()     | Devuelve la tangente hiperbólica inversa de un número.                   |\n",
    "| math.ceil()      | Redondea un número hacia arriba al entero más cercano.                   |\n",
    "| math.comb()      | Devuelve el número de formas de elegir k elementos de n elementos sin repetición y sin orden. |\n",
    "| math.copysign()  | Devuelve un número flotante que consiste en el valor del primer parámetro y el signo del segundo parámetro. |\n",
    "| math.cos()       | Devuelve el coseno de un número.                                        |\n",
    "| math.cosh()      | Devuelve el coseno hiperbólico de un número.                             |\n",
    "| math.degrees()   | Convierte un ángulo de radianes a grados.                                |\n",
    "| math.dist()      | Devuelve la distancia euclidiana entre dos puntos (p y q), donde p y q son las coordenadas de esos puntos. |\n",
    "| math.erf()       | Devuelve la función de error de un número.                               |\n",
    "| math.erfc()      | Devuelve la función de error complementaria de un número.                |\n",
    "| math.exp()       | Devuelve e elevado a la potencia de x.                                   |\n",
    "| math.expm1()     | Devuelve e elevado a la potencia de x menos 1.                            |\n",
    "| math.fabs()      | Devuelve el valor absoluto de un número.                                  |\n",
    "| math.factorial() | Devuelve el factorial de un número.                                       |\n",
    "| math.floor()     | Redondea un número hacia abajo al entero más cercano.                     |\n",
    "| math.fmod()      | Devuelve el resto de la división de x por y.                               |\n",
    "| math.frexp()     | Devuelve la mantisa y el exponente de un número especificado.              |\n",
    "| math.fsum()      | Devuelve la suma de todos los elementos en cualquier iterable (tuplas, arrays, listas, etc.). |\n",
    "| math.gamma()     | Devuelve la función gamma en x.                                           |\n",
    "| math.gcd()       | Devuelve el máximo común divisor de dos enteros.                           |\n",
    "| math.hypot()     | Devuelve la norma euclidiana.                                             |\n",
    "| math.isclose()   | Comprueba si dos valores están cerca uno del otro o no.                    |\n",
    "| math.isfinite()  | Comprueba si un número es finito o no.                                     |\n",
    "| math.isinf()     | Comprueba si un número es infinito o no.                                  |\n",
    "| math.isnan()     | Comprueba si un valor es NaN (no es un número) o no.                        |\n",
    "| math.isqrt()     | Redondea hacia abajo la raíz cuadrada de un número al entero más cercano.    |\n",
    "| math.ldexp()     | Devuelve el inverso de math.frexp(), que es x * (2**i), para los números dados x e i. |\n",
    "| math.lgamma()    | Devuelve el valor del logaritmo gamma de x.                                 |\n",
    "| math.log()       | Devuelve el logaritmo natural de un número o el logaritmo de un número en una base dada. |\n",
    "| math.log10()     | Devuelve el logaritmo en base 10 de x.                                      |\n",
    "| math.log1p()     | Devuelve el logaritmo natural de 1+x.                                       |\n",
    "| math.log2()      | Devuelve el logaritmo en base 2 de x.                                       |\n",
    "| math.perm()      | Devuelve el número de formas de elegir k elementos de n elementos con orden y sin repetición. |\n",
    "| math.pow()       | Devuelve el valor de x elevado a la potencia de y.                         |\n",
    "| math.prod()      | Devuelve el producto de todos los elementos en un iterable.                |\n",
    "| math.radians()   | Convierte un valor de grado en radianes.                                    |\n",
    "| math.remainder() | Devuelve el valor más cercano que puede hacer\n"
   ]
  },
  {
   "cell_type": "markdown",
   "id": "10a4e316",
   "metadata": {},
   "source": [
    "| Constante   | Descripción                                                    |\n",
    "|-------------|----------------------------------------------------------------|\n",
    "| math.e      | Devuelve el número de Euler (aproximadamente 2.7182...).        |\n",
    "| math.inf    | Devuelve un valor de punto flotante que representa el infinito positivo. |\n",
    "| math.nan    | Devuelve un valor de punto flotante NaN (No es un número).     |\n",
    "| math.pi     | Devuelve el valor de PI (aproximadamente 3.1415...).            |\n",
    "| math.tau    | Devuelve el valor de tau, que es 2 veces PI (aproximadamente 6.2831...). Tau es una constante matemática relacionada con circunferencias y ángulos en matemáticas y física. |\n"
   ]
  }
 ],
 "metadata": {
  "kernelspec": {
   "display_name": "Python 3 (ipykernel)",
   "language": "python",
   "name": "python3"
  },
  "language_info": {
   "codemirror_mode": {
    "name": "ipython",
    "version": 3
   },
   "file_extension": ".py",
   "mimetype": "text/x-python",
   "name": "python",
   "nbconvert_exporter": "python",
   "pygments_lexer": "ipython3",
   "version": "3.9.12"
  }
 },
 "nbformat": 4,
 "nbformat_minor": 5
}

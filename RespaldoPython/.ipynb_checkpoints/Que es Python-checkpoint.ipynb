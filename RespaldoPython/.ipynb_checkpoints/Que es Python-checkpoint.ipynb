{
 "cells": [
  {
   "cell_type": "markdown",
   "id": "0c4018bd",
   "metadata": {},
   "source": [
    "<font color=\"Red\" face=\"Comic Sans MS,arial\">\n",
    "  <h1 align=\"center\"><i>¿Qué es Python? </i></h1>\n",
    "  <h2 align=\"center\"><i><img src=\"https://github.com/seismomat/HerramientasComputacionales/blob/main/Imagenes/Python/python.jpeg?raw=1\" width=\"300\"> </i></h1>\n",
    "  </font>\n",
    "  \n",
    "> Elaborado por: Jesús Iván Coss Calderón. mat_ing_coss@ciencias.unam.mx"
   ]
  },
  {
   "cell_type": "markdown",
   "id": "d572795c",
   "metadata": {},
   "source": [
    "**Objetivo general**\n",
    "\n",
    "* Aprender los fundamentos del lenguaje de programación python\n",
    "\n",
    "**Objetivos particulares**\n",
    "\n",
    "* Entender el funcionamiento de python"
   ]
  },
  {
   "cell_type": "markdown",
   "id": "001e54d2",
   "metadata": {},
   "source": [
    "[**Regresa al notebook principal**](https://github.com/seismomat/HerramientasComputacionales/blob/main/TemarioDePython/Temario%20de%20Python.ipynb)"
   ]
  },
  {
   "cell_type": "markdown",
   "id": "b76ffc8a",
   "metadata": {},
   "source": [
    "<a name='c1'></a>\n",
    "\n",
    "## Contenido\n",
    "\n",
    "- [Introducción](#1)\n",
    "- [Memoria](#2)\n",
    "- [Simulaciones](#3)\n",
    "    - [Modelos Matemáticos (autómata celulares)](#3-1)\n",
    "    - [Modeños Matemáticos (métodos numéricos)](#3-2)"
   ]
  },
  {
   "cell_type": "markdown",
   "id": "269975e0",
   "metadata": {},
   "source": [
    "<a name='1'></a>\n",
    "\n",
    "# Introducción\n",
    "[regresar al contenido](#c1)\n"
   ]
  },
  {
   "cell_type": "markdown",
   "id": "f0fb1263",
   "metadata": {},
   "source": [
    "Python es un lenguaje de programación de alto nivel, de propósito general, creado por Guido van Rossum. Su desarrollo comenzó a finales de la década de 1980, y la primera versión oficial de Python, la versión 0.9.0, se lanzó en febrero de 1991. El nombre `Python` se inspiró en la afición de Guido van Rossum por el grupo de comedia británico \"Monty Python.\"\n",
    "\n",
    "A lo largo de los años, Python ha experimentado varias versiones y mejoras significativas. Algunos hitos importantes en la historia de Python incluyen:\n",
    "\n",
    "1. **Python 1.0 (enero de 1994)**: Esta fue la primera versión oficialmente reconocida del lenguaje. Introdujo algunas características fundamentales como funciones lambda, map(), filter() y reduce().\n",
    "\n",
    "2. **Python 2.0 (octubre de 2000)**: Esta versión trajo consigo importantes mejoras, como list comprehensions y garbage collection. Python 2 se convirtió en la versión dominante durante muchos años.\n",
    "\n",
    "3. **Python 3.0 (diciembre de 2008)**: Python 3 marcó un punto de ruptura con Python 2. Se realizaron cambios significativos en la sintaxis y la semántica del lenguaje para abordar deficiencias y ambigüedades en Python 2. Aunque esto resultó en una falta de retrocompatibilidad, se consideró necesario para el futuro del lenguaje.\n",
    "\n",
    "4. **Comunidad y Adopción (siglo XXI)**: Python ganó popularidad rápidamente en la década de 2000 debido a su simplicidad, legibilidad y una comunidad de desarrolladores activa y amigable. Se convirtió en un lenguaje de programación ampliamente utilizado en diversas aplicaciones, desde desarrollo web hasta ciencia de datos y aprendizaje automático.\n",
    "\n",
    "5. **Python 3.x (lanzamientos continuos)**: A partir de Python 3.0, se han lanzado múltiples versiones de Python 3 con mejoras y características adicionales. Python 3.7, Python 3.8, Python 3.9 y Python 3.10 son algunos ejemplos de versiones posteriores que han mejorado aún más el lenguaje.\n",
    "\n",
    "6. **Uso en Ciencia de Datos y Aprendizaje Automático**: En la última década, Python se ha convertido en uno de los lenguajes más populares para la ciencia de datos y el aprendizaje automático, en gran parte debido a bibliotecas como NumPy, pandas, Matplotlib, SciPy y TensorFlow, entre otras.\n",
    "\n",
    "7. **Comunidad y Ecosistema**: La comunidad de Python es conocida por su apertura y colaboración. Los desarrolladores de todo el mundo contribuyen con paquetes y bibliotecas de código abierto, lo que ha llevado a un vasto ecosistema de herramientas y recursos disponibles para los usuarios de Python.\n",
    "\n",
    "8. **Python en la Web**: Python es ampliamente utilizado en el desarrollo web a través de frameworks como Django y Flask. También es el lenguaje detrás de importantes plataformas de sitios web y servicios, como Instagram, Dropbox y YouTube.\n",
    "\n",
<<<<<<< HEAD
<<<<<<< HEAD
<<<<<<< HEAD
    "[imagen fulana]()"
=======
    "[liga]()"
>>>>>>> Ivan
=======
    "[liga]()\n",
=======
>>>>>>> Ivan
    "\n",
    "<img src=\"https://github.com/seismomat/HerramientasComputacionales/blob/main/Imagenes/Python/Guido.jpeg?raw=1\" width=\"500\">"
>>>>>>> Ivan
   ]
  },
  {
   "cell_type": "markdown",
   "id": "d003deb7",
   "metadata": {},
   "source": [
    "<a name='2'></a>\n",
    "\n",
    "# Memoria\n",
    "[regresar al contenido](#c1)"
   ]
  },
  {
   "cell_type": "markdown",
   "id": "d7fea2a1",
   "metadata": {},
   "source": [
    "Con el siguiente ejemplo podemos ver como Python asigna diferente número de `bits` a las variables en función del número que quieren representar. La función `getsizeof()` devuelve el tamaño de una variable en memoria."
   ]
  },
  {
   "cell_type": "code",
   "execution_count": 3,
   "id": "a7c7c289",
   "metadata": {},
   "outputs": [
    {
     "name": "stdout",
     "output_type": "stream",
     "text": [
      "3120 <class 'int'>\n",
      "28 <class 'int'>\n"
     ]
    }
   ],
   "source": [
    "import sys\n",
    "x = 5**10000\n",
    "y = 1\n",
    "print(sys.getsizeof(x), type(x))\n",
    "print(sys.getsizeof(y), type(y))"
   ]
  },
  {
   "cell_type": "code",
   "execution_count": 4,
   "id": "664f7be6",
   "metadata": {},
   "outputs": [
    {
     "name": "stdout",
     "output_type": "stream",
     "text": [
      "2.2250738585072014e-308\n",
      "1.7976931348623157e+308\n"
     ]
    }
   ],
   "source": [
    "print(sys.float_info.min) #2.2250738585072014e-308\n",
    "print(sys.float_info.max) #1.7976931348623157e+308"
   ]
  },
  {
   "cell_type": "code",
   "execution_count": 7,
   "id": "2ceeadd0",
   "metadata": {},
   "outputs": [
    {
     "data": {
      "text/plain": [
       "sys.float_info(max=1.7976931348623157e+308, max_exp=1024, max_10_exp=308, min=2.2250738585072014e-308, min_exp=-1021, min_10_exp=-307, dig=15, mant_dig=53, epsilon=2.220446049250313e-16, radix=2, rounds=1)"
      ]
     },
     "execution_count": 7,
     "metadata": {},
     "output_type": "execute_result"
    }
   ],
   "source": [
    "sys.float_info"
   ]
  },
  {
   "cell_type": "markdown",
   "id": "20082363",
   "metadata": {},
   "source": [
    "<a name='3'></a>\n",
    "\n",
    "# Simulaciones\n",
    "[regresar al contenido](#c1)\n",
    "\n",
    "Actualmente existen básicamente 2 tipos de simulaciones. La primera de ellas son las simulaciones basadas en **modelos matemáticos complejos** que incorporan el uso de ecuaciones diferenciales, sistemas de ecuaciones o integrales para describir el comportamiento de un fenómeno, este tipo de simulaciones se estudian en materias como **análisis numérico** o **modelación matemática**.\n",
    "\n",
    "El otro tipo de simulaciones son las **simulaciones basadas en agentes** (antes autómatas celulares). En este tipo de simulaciones, la idea principal es tratar de determinar las **interacciones locales entre los individuos** que conforman el sistema, para poder determinar cual sera el comportamiento del sistema en el paso siguiente de tiempo.\n",
    "\n",
    "Sin importar el tipo de simulación la forma en la que esta debe ser construida no cambia mucho.\n",
    "\n",
    "El algoritmo general seria el siguiente.\n",
    "\n",
    "1. Se observa un fenómeno de interés.\n",
    "2. Se genera un modelo matemático (ya sea complejo o basado en agentes).\n",
    "3. Se construye el correspondiente modelo computacional.\n",
    "4. Finalmente se procede a calibrar y probar la simulación.\n",
    "\n",
    "Vale la pena aclarar que siempre que sea posible obtener la solución del problema planteado, de manera analítica es preferible seguir este camino, ya que es el camino que mayor exactitud y confiabilidad ofrece."
   ]
  },
  {
   "cell_type": "markdown",
   "id": "9dec6640",
   "metadata": {},
   "source": [
    "<a name='3-1'></a>\n",
    "\n",
    "## Modelos Matemáticos (autómata celulares)\n",
    "[regresar al contenido](#c1)\n"
   ]
  },
  {
   "cell_type": "markdown",
   "id": "caec95dd",
   "metadata": {},
   "source": [
    "<center>\n",
    "<img src=\"https://github.com/jugernaut/ManejoDatos/blob/desarrollo/Imagenes/Simulacion/regla90.png?raw=1\" width=\"600\">\n",
    "\n",
    "Figura 1: A.C. Regla 90\n",
    "</center>\n",
    "\n",
    "<center>\n",
    "<img src=\"https://github.com/jugernaut/ManejoDatos/blob/desarrollo/Imagenes/Simulacion/juegovida.png?raw=1\" width=\"600\">\n",
    "\n",
    "Figura 2: Juego de la vida\n",
    "</center>\n",
    "\n",
    "<center>\n",
    "<img src=\"https://github.com/jugernaut/ManejoDatos/blob/desarrollo/Imagenes/Simulacion/trafico.png?raw=1\" width=\"600\">\n",
    "\n",
    "Figura 3: Trafico Vehicular\n",
    "</center>"
   ]
  },
  {
   "cell_type": "markdown",
   "id": "ae2b6a13",
   "metadata": {},
   "source": [
    "<a name='3-2'></a>\n",
    "\n",
    "## Modeños Matemáticos (métodos numéricos)\n",
    "[regresar al contenido](#c1)\n"
   ]
  },
  {
   "cell_type": "markdown",
   "id": "9e55bb9e",
   "metadata": {},
   "source": [
    "<center>\n",
    "<img src=\"https://github.com/jugernaut/Numerico2021/blob/0130592dfaa91724c2037559bc0bbf9be063c738/Figuras/redesNeuronales/lluvia.gif?raw=1\" width=\"600\">\n",
    "\n",
    "Figura 4: Modelo Pluvial\n",
    "</center>\n",
    "\n",
    "<center>\n",
    "<img src=\"https://github.com/jugernaut/ManejoDatos/blob/desarrollo/Imagenes/Simulacion/Simulaciondeyacimientos.png?raw=1\" width=\"600\">\n",
    "</center>\n",
    "\n",
    "$$\\frac{\\delta}{\\delta t}\\left(\\frac{\\Phi S_{w}}{B_{w}}\\right)=\\nabla\\cdot\\left(T_{w}\\left[\\nabla p_{w}-\\rho_{w}\\vec{g}\\right]\\right)+\\frac{qWs}{B_{w}}$$\n",
    "$$\\frac{\\delta}{\\delta t}\\left(\\frac{\\Phi S_{o}}{B_{o}}\\right)=\\nabla\\cdot\\left(T_{o}\\left[\\nabla p_{o}-\\rho_{o}\\vec{g}\\right]\\right)+\\frac{qOs}{B_{o}}$$\n",
    "\n",
    "<center>\n",
    "<img src=\"https://github.com/jugernaut/ManejoDatos/blob/desarrollo/Imagenes/Simulacion/DinamicadeFluidos.png?raw=1\" width=\"600\">\n",
    "</center>\n",
    "\n",
    "$$\\frac{\\delta\\rho}{\\delta t}+\\frac{\\delta}{\\delta x_{j}}\\left[\\rho u_{j}\\right]=0$$\n",
    "$$\\frac{\\delta}{\\delta t}\\left(\\rho u_{i}\\right)+\\frac{\\delta}{\\delta x_{j}}\\left[\\rho u_{i}u_{j}+p\\delta_{ij}-\\tau_{ji}\\right]=0,\\quad i=1,2,3$$\n",
    "\n",
    "<center>\n",
    "<img src=\"https://github.com/jugernaut/ManejoDatos/blob/desarrollo/Imagenes/Simulacion/AnalisisEstructural.png?raw=1\" width=\"600\">\n",
    "</center>\n",
    "\n",
    "$$\\nabla\\cdot\\sigma+F=\\rho\\frac{\\delta^{2}u}{\\delta t^{2}}$$ $$\\varepsilon=\\frac{1}{2}\\left[\\nabla u+\\left(\\nabla u\\right)\\right]$$\n",
    "$$\\sigma=C:\\varepsilon$$\n",
    "\n",
    "<center>\n",
    "<img src=\"https://github.com/jugernaut/ManejoDatos/blob/desarrollo/Imagenes/Simulacion/EquilibrioEconomico.png?raw=1\" width=\"600\">\n",
    "</center>\n",
    "\n",
    "$$\\delta x=\\delta B-5x\\,\\delta t$$"
   ]
  },
  {
   "cell_type": "markdown",
   "id": "8cad454a",
   "metadata": {},
   "source": [
    "La ecuación que modela como se mueve una cuerda de forma ondulatoria en 1D es\n",
    "\n",
    "$$\\begin{equation}\\label{Cuerda}\n",
    "    \\frac{\\partial ^{2} y}{\\partial x^{2}}-\\frac{1}{c_{0}^{2}} \\frac{\\partial ^{2} y}{\\partial t^{2}}= p(x,t)\n",
    "\\end{equation}$$\n"
   ]
  },
  {
   "cell_type": "markdown",
   "id": "d111aa1d",
   "metadata": {},
   "source": [
    "Simulación de la ecuación de la cuerda en una dimensión con condición de Dirichlet homogéneas, es decir,  $y(x,0)= \\dot{y}(x,0)=0$"
   ]
  },
  {
   "cell_type": "markdown",
   "id": "2679249d",
   "metadata": {},
   "source": [
    "<img src=\"https://github.com/seismomat/HerramientasComputacionales/blob/main/Imagenes/Python/1D_Dirichlet_demo.gif?raw=1\" width=\"500\">"
   ]
  },
  {
   "cell_type": "markdown",
   "id": "b9e35527",
   "metadata": {},
   "source": [
    "Simulación de la ecuación de la cuerda en una dimensión con condición de Neumann homogéneas, es decir,  $y(x,0)=0$ y $\\frac{dy}{d\\eta}=0$"
   ]
  },
  {
   "cell_type": "markdown",
   "id": "333b82cf",
   "metadata": {},
   "source": [
    "<img src=\"https://github.com/seismomat/HerramientasComputacionales/blob/main/Imagenes/Python/1D_Neumann_demo.gif?raw=1\" width=\"500\">"
   ]
  },
  {
   "cell_type": "markdown",
   "id": "97f6f800",
   "metadata": {},
   "source": [
    "Simulación de la ecuación de la cuerda en una dimensión con condición de frontera absorbente"
   ]
  },
  {
   "cell_type": "markdown",
   "id": "9f6bda1f",
   "metadata": {},
   "source": [
    "<img src=\"https://github.com/seismomat/HerramientasComputacionales/blob/main/Imagenes/Python/1D_Mur_demo.gif?raw=1\" width=\"500\">"
   ]
  },
  {
   "cell_type": "markdown",
   "id": "71459903",
   "metadata": {},
   "source": [
    "La ecuación que modela como se mueve una cuerda de forma ondulatoria en 2D es\n",
    "\n",
    "$$\\begin{equation}\\label{Cuerda}\n",
    "    \\Delta U-\\frac{1}{c_{0}^{2}} \\frac{\\partial ^{2} U}{\\partial t^{2}}= p(\\bar{x},t)\n",
    "\\end{equation}$$\n"
   ]
  },
  {
   "cell_type": "markdown",
   "id": "b62799b7",
   "metadata": {},
   "source": [
    "Simulación de la ecuación de la cuerda en dos dimensiones con condición de Dirichlet homogéneas, es decir, donde $U(\\bar{x},0)= \\dot{U}(\\bar{x},0)=0$"
   ]
  },
  {
   "cell_type": "markdown",
   "id": "af159cef",
   "metadata": {},
   "source": [
    "<img src=\"https://github.com/seismomat/HerramientasComputacionales/blob/main/Imagenes/Python/2D_simulation_demo.gif?raw=1\" width=\"500\">"
   ]
  },
  {
   "cell_type": "markdown",
   "id": "3154c618",
   "metadata": {},
   "source": [
    "<img src=\"https://github.com/seismomat/HerramientasComputacionales/blob/main/Imagenes/Python/2D_simulation_demo_flat.gif?raw=1\" width=\"500\">"
   ]
  },
  {
   "cell_type": "code",
   "execution_count": null,
   "id": "ef5b266e",
   "metadata": {},
   "outputs": [],
   "source": []
  }
 ],
 "metadata": {
  "kernelspec": {
   "display_name": "Python 3 (ipykernel)",
   "language": "python",
   "name": "python3"
  },
  "language_info": {
   "codemirror_mode": {
    "name": "ipython",
    "version": 3
   },
   "file_extension": ".py",
   "mimetype": "text/x-python",
   "name": "python",
   "nbconvert_exporter": "python",
   "pygments_lexer": "ipython3",
   "version": "3.9.12"
  }
 },
 "nbformat": 4,
 "nbformat_minor": 5
}

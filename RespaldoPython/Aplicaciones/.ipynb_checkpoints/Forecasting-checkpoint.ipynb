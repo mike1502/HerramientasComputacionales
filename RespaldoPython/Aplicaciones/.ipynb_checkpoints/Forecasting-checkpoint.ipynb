{
 "cells": [
  {
   "cell_type": "markdown",
   "id": "1ec65cd0",
   "metadata": {},
   "source": [
    "<font color=\"Red\" face=\"Comic Sans MS,arial\">\n",
    "  <h1 align=\"center\"><i>forecasting series temporales con Python y Scikit-learn </i></h1>\n",
    "  <h2 align=\"center\"><i><img src=\"https://github.com/seismomat/HerramientasComputacionales/blob/main/Imagenes/Python/python.jpeg?raw=1\" width=\"300\"> </i></h1>\n",
    "  </font>\n",
    "  \n",
    "> Elaborado por: Jesús Iván Coss Calderón. mat_ing_coss@ciencias.unam.mx"
   ]
  },
  {
   "cell_type": "code",
   "execution_count": 1,
   "id": "c4fd56ea",
   "metadata": {},
   "outputs": [],
   "source": [
    "## de aqui lo saque\n",
    "## https://cienciadedatos.net/documentos/py27-forecasting-series-temporales-python-scikitlearn.html\n",
    "\n",
    "# Tratamiento de datos\n",
    "# ==============================================================================\n",
    "import numpy as np\n",
    "import pandas as pd\n",
    "\n",
    "# Gráficos\n",
    "# ==============================================================================\n",
    "import matplotlib.pyplot as plt\n",
    "plt.style.use('fivethirtyeight')\n",
    "plt.rcParams['lines.linewidth'] = 1.5\n",
    "plt.rcParams['font.size'] = 10\n",
    "\n",
    "# Modelado y Forecasting\n",
    "# ==============================================================================\n",
    "from sklearn.linear_model import LinearRegression\n",
    "from sklearn.linear_model import Lasso\n",
    "from sklearn.ensemble import RandomForestRegressor\n",
    "from sklearn.metrics import mean_squared_error\n",
    "from sklearn.metrics import mean_absolute_error\n",
    "from sklearn.preprocessing import StandardScaler\n",
    "\n",
    "from skforecast.ForecasterAutoreg import ForecasterAutoreg\n",
    "from skforecast.ForecasterAutoregCustom import ForecasterAutoregCustom\n",
    "from skforecast.ForecasterAutoregDirect import ForecasterAutoregDirect\n",
    "from skforecast.model_selection import grid_search_forecaster\n",
    "from skforecast.model_selection import backtesting_forecaster\n",
    "from skforecast.utils import save_forecaster\n",
    "from skforecast.utils import load_forecaster\n",
    "\n",
    "# Configuración warnings\n",
    "# ==============================================================================\n",
    "import warnings\n",
    "# warnings.filterwarnings('ignore')"
   ]
  },
  {
   "cell_type": "markdown",
   "id": "5c0ec176",
   "metadata": {},
   "source": [
    "# Datos"
   ]
  },
  {
   "cell_type": "markdown",
   "id": "ca98dcda",
   "metadata": {},
   "source": [
    "Se dispone de una serie temporal con el gasto mensual (millones de dólares) en fármacos con corticoides que tuvo el sistema de salud Australiano entre 1991 y 2008. Se pretende crear un modelo autoregresivo capaz de predecir el futuro gasto mensual."
   ]
  },
  {
   "cell_type": "code",
   "execution_count": 2,
   "id": "ecb86c9b",
   "metadata": {},
   "outputs": [],
   "source": [
    "# Descarga de datos\n",
    "# ==============================================================================\n",
    "url = 'https://raw.githubusercontent.com/JoaquinAmatRodrigo/skforecast/master/data/h2o_exog.csv'\n",
    "datos = pd.read_csv(url, sep=',')"
   ]
  },
  {
   "cell_type": "markdown",
   "id": "cc573e1b",
   "metadata": {},
   "source": [
    "La columna fecha se ha almacenado como `string`. Para convertirla en `datetime`, se emplea la función `pd.to_datetime()`. Una vez en formato `datetime`, y para hacer uso de las funcionalidades de Pandas, se establece como índice. Además, dado que los datos son mensuales, se indica la frecuencia (Monthly Started 'MS')."
   ]
  },
  {
   "cell_type": "code",
   "execution_count": 3,
   "id": "7721dbe0",
   "metadata": {},
   "outputs": [
    {
     "data": {
      "text/html": [
       "<div>\n",
       "<style scoped>\n",
       "    .dataframe tbody tr th:only-of-type {\n",
       "        vertical-align: middle;\n",
       "    }\n",
       "\n",
       "    .dataframe tbody tr th {\n",
       "        vertical-align: top;\n",
       "    }\n",
       "\n",
       "    .dataframe thead th {\n",
       "        text-align: right;\n",
       "    }\n",
       "</style>\n",
       "<table border=\"1\" class=\"dataframe\">\n",
       "  <thead>\n",
       "    <tr style=\"text-align: right;\">\n",
       "      <th></th>\n",
       "      <th>fecha</th>\n",
       "      <th>y</th>\n",
       "      <th>exog_1</th>\n",
       "      <th>exog_2</th>\n",
       "    </tr>\n",
       "  </thead>\n",
       "  <tbody>\n",
       "    <tr>\n",
       "      <th>0</th>\n",
       "      <td>1992-04-01</td>\n",
       "      <td>0.379808</td>\n",
       "      <td>0.958792</td>\n",
       "      <td>1.166029</td>\n",
       "    </tr>\n",
       "    <tr>\n",
       "      <th>1</th>\n",
       "      <td>1992-05-01</td>\n",
       "      <td>0.361801</td>\n",
       "      <td>0.951993</td>\n",
       "      <td>1.117859</td>\n",
       "    </tr>\n",
       "  </tbody>\n",
       "</table>\n",
       "</div>"
      ],
      "text/plain": [
       "        fecha         y    exog_1    exog_2\n",
       "0  1992-04-01  0.379808  0.958792  1.166029\n",
       "1  1992-05-01  0.361801  0.951993  1.117859"
      ]
     },
     "execution_count": 3,
     "metadata": {},
     "output_type": "execute_result"
    }
   ],
   "source": [
    "datos.head(2)"
   ]
  },
  {
   "cell_type": "code",
   "execution_count": 4,
   "id": "4cc3b29e",
   "metadata": {},
   "outputs": [
    {
     "data": {
      "text/html": [
       "<div>\n",
       "<style scoped>\n",
       "    .dataframe tbody tr th:only-of-type {\n",
       "        vertical-align: middle;\n",
       "    }\n",
       "\n",
       "    .dataframe tbody tr th {\n",
       "        vertical-align: top;\n",
       "    }\n",
       "\n",
       "    .dataframe thead th {\n",
       "        text-align: right;\n",
       "    }\n",
       "</style>\n",
       "<table border=\"1\" class=\"dataframe\">\n",
       "  <thead>\n",
       "    <tr style=\"text-align: right;\">\n",
       "      <th></th>\n",
       "      <th>y</th>\n",
       "      <th>exog_1</th>\n",
       "      <th>exog_2</th>\n",
       "    </tr>\n",
       "    <tr>\n",
       "      <th>fecha</th>\n",
       "      <th></th>\n",
       "      <th></th>\n",
       "      <th></th>\n",
       "    </tr>\n",
       "  </thead>\n",
       "  <tbody>\n",
       "    <tr>\n",
       "      <th>1992-04-01</th>\n",
       "      <td>0.379808</td>\n",
       "      <td>0.958792</td>\n",
       "      <td>1.166029</td>\n",
       "    </tr>\n",
       "    <tr>\n",
       "      <th>1992-05-01</th>\n",
       "      <td>0.361801</td>\n",
       "      <td>0.951993</td>\n",
       "      <td>1.117859</td>\n",
       "    </tr>\n",
       "    <tr>\n",
       "      <th>1992-06-01</th>\n",
       "      <td>0.410534</td>\n",
       "      <td>0.952955</td>\n",
       "      <td>1.067942</td>\n",
       "    </tr>\n",
       "    <tr>\n",
       "      <th>1992-07-01</th>\n",
       "      <td>0.483389</td>\n",
       "      <td>0.958078</td>\n",
       "      <td>1.097376</td>\n",
       "    </tr>\n",
       "    <tr>\n",
       "      <th>1992-08-01</th>\n",
       "      <td>0.475463</td>\n",
       "      <td>0.956370</td>\n",
       "      <td>1.122199</td>\n",
       "    </tr>\n",
       "  </tbody>\n",
       "</table>\n",
       "</div>"
      ],
      "text/plain": [
       "                   y    exog_1    exog_2\n",
       "fecha                                   \n",
       "1992-04-01  0.379808  0.958792  1.166029\n",
       "1992-05-01  0.361801  0.951993  1.117859\n",
       "1992-06-01  0.410534  0.952955  1.067942\n",
       "1992-07-01  0.483389  0.958078  1.097376\n",
       "1992-08-01  0.475463  0.956370  1.122199"
      ]
     },
     "execution_count": 4,
     "metadata": {},
     "output_type": "execute_result"
    }
   ],
   "source": [
    "# Preparación del dato\n",
    "# ==============================================================================\n",
    "datos['fecha'] = pd.to_datetime(datos['fecha'], format='%Y-%m-%d')\n",
    "datos = datos.set_index('fecha')\n",
    "datos = datos.rename(columns={'x': 'y'})\n",
    "datos = datos.asfreq('MS')\n",
    "datos = datos.sort_index()\n",
    "datos.head()"
   ]
  },
  {
   "cell_type": "markdown",
   "id": "3a2300f7",
   "metadata": {},
   "source": [
    "Al establecer una frecuencia con el método `asfreq()`, Pandas completa los huecos que puedan existir en la serie temporal con el valor de `Null` con el fin de asegurar la frecuencia indicada. Por ello, se debe comprobar si han aparecido missing values tras esta transformación"
   ]
  },
  {
   "cell_type": "code",
   "execution_count": 5,
   "id": "99e0ed93",
   "metadata": {},
   "outputs": [
    {
     "name": "stdout",
     "output_type": "stream",
     "text": [
      "Número de filas con missing values: 0.0\n"
     ]
    }
   ],
   "source": [
    "print(f'Número de filas con missing values: {datos.isnull().any(axis=1).mean()}')"
   ]
  },
  {
   "cell_type": "markdown",
   "id": "77fec3f4",
   "metadata": {},
   "source": [
    "Aunque no es necesario al haber establecido un frecuencia, se puede verificar que la serie temporal esté completa."
   ]
  },
  {
   "cell_type": "code",
   "execution_count": 6,
   "id": "db28a88a",
   "metadata": {},
   "outputs": [
    {
     "data": {
      "text/plain": [
       "True"
      ]
     },
     "execution_count": 6,
     "metadata": {},
     "output_type": "execute_result"
    }
   ],
   "source": [
    "# Verificar que un índice temporal está completo\n",
    "# ==============================================================================\n",
    "(datos.index == pd.date_range(\n",
    "                    start = datos.index.min(),\n",
    "                    end   = datos.index.max(),\n",
    "                    freq  = datos.index.freq)\n",
    ").all()"
   ]
  },
  {
   "cell_type": "code",
   "execution_count": 7,
   "id": "25e1ea38",
   "metadata": {},
   "outputs": [],
   "source": [
    "# Completar huecos en un índice temporal\n",
    "# ==============================================================================\n",
    "# datos.asfreq(freq='30min', fill_value=np.nan)"
   ]
  },
  {
   "cell_type": "markdown",
   "id": "fc5e409f",
   "metadata": {},
   "source": [
    "Se utilizan los últimos 36 meses como conjunto de test para evaluar la capacidad predictiva del modelo"
   ]
  },
  {
   "cell_type": "code",
   "execution_count": 11,
   "id": "00263da5",
   "metadata": {},
   "outputs": [
    {
     "name": "stdout",
     "output_type": "stream",
     "text": [
      "Fechas train : 1992-04-01 00:00:00 --- 2005-06-01 00:00:00  (n=159)\n",
      "Fechas test  : 2005-07-01 00:00:00 --- 2008-06-01 00:00:00  (n=36)\n"
     ]
    }
   ],
   "source": [
    "# Separación datos train-test\n",
    "# ==============================================================================\n",
    "steps = 36\n",
    "datos_train = datos[:-steps]\n",
    "datos_test  = datos[-steps:]\n",
    "\n",
    "print(f\"Fechas train : {datos_train.index.min()} --- {datos_train.index.max()}  (n={len(datos_train)})\")\n",
    "print(f\"Fechas test  : {datos_test.index.min()} --- {datos_test.index.max()}  (n={len(datos_test)})\")"
   ]
  },
  {
   "cell_type": "code",
   "execution_count": 12,
   "id": "2a116c51",
   "metadata": {},
   "outputs": [
    {
     "data": {
      "image/png": "[encoded data removed]",
      "text/plain": [
       "<Figure size 432x180 with 1 Axes>"
      ]
     },
     "metadata": {},
     "output_type": "display_data"
    }
   ],
   "source": [
    "fig, ax = plt.subplots(figsize=(6, 2.5))\n",
    "datos_train['y'].plot(ax=ax, label='train')\n",
    "datos_test['y'].plot(ax=ax, label='test')\n",
    "ax.legend();"
   ]
  },
  {
   "cell_type": "markdown",
   "id": "d063827b",
   "metadata": {},
   "source": [
    "# Forecasting autorregresivo recursivo"
   ]
  },
  {
   "cell_type": "markdown",
   "id": "85da13f4",
   "metadata": {},
   "source": [
    "## ForecasterAutoreg\n",
    "\n",
    "Se crea y entrena un modelo `ForecasterAutoreg` a partir de un regresor `RandomForestRegressor` y una ventana temporal de 6 lags. Esto último significa que, el modelo, utiliza como predictores los 6 meses anteriores."
   ]
  },
  {
   "cell_type": "code",
   "execution_count": 13,
   "id": "69781a88",
   "metadata": {},
   "outputs": [
    {
     "data": {
      "text/plain": [
       "================= \n",
       "ForecasterAutoreg \n",
       "================= \n",
       "Regressor: RandomForestRegressor(random_state=123) \n",
       "Lags: [1 2 3 4 5 6] \n",
       "Transformer for y: None \n",
       "Transformer for exog: None \n",
       "Window size: 6 \n",
       "Weight function included: False \n",
       "Exogenous included: False \n",
       "Type of exogenous variable: None \n",
       "Exogenous variables names: None \n",
       "Training range: [Timestamp('1992-04-01 00:00:00'), Timestamp('2005-06-01 00:00:00')] \n",
       "Training index type: DatetimeIndex \n",
       "Training index frequency: MS \n",
       "Regressor parameters: {'bootstrap': True, 'ccp_alpha': 0.0, 'criterion': 'squared_error', 'max_depth': None, 'max_features': 'auto', 'max_leaf_nodes': None, 'max_samples': None, 'min_impurity_decrease': 0.0, 'min_samples_leaf': 1, 'min_samples_split': 2, 'min_weight_fraction_leaf': 0.0, 'n_estimators': 100, 'n_jobs': None, 'oob_score': False, 'random_state': 123, 'verbose': 0, 'warm_start': False} \n",
       "fit_kwargs: {} \n",
       "Creation date: 2023-09-26 08:32:11 \n",
       "Last fit date: 2023-09-26 08:32:11 \n",
       "Skforecast version: 0.9.1 \n",
       "Python version: 3.9.12 \n",
       "Forecaster id: None "
      ]
     },
     "execution_count": 13,
     "metadata": {},
     "output_type": "execute_result"
    }
   ],
   "source": [
    "# Crear y entrenar forecaster\n",
    "# ==============================================================================\n",
    "forecaster = ForecasterAutoreg(\n",
    "                regressor = RandomForestRegressor(random_state=123),\n",
    "                lags = 6\n",
    "             )\n",
    "\n",
    "forecaster.fit(y=datos_train['y'])\n",
    "forecaster"
   ]
  },
  {
   "cell_type": "markdown",
   "id": "fb67841d",
   "metadata": {},
   "source": [
    "Para crear y entrenar un \"forecaster\", que parece ser un modelo de pronóstico o regresión, específicamente uno que utiliza la técnica de Auto-Regresión (Autoregressive, en inglés) junto con un regresor de bosque aleatorio (Random Forest Regressor).\n",
    "\n",
    "1. `forecaster = ForecasterAutoreg(...)` - Se crea una instancia de un objeto llamado `forecaster` utilizando una clase llamada `ForecasterAutoreg`. Esto sugiere que estamos creando un modelo de autoregresión.\n",
    "\n",
    "2. `regressor = RandomForestRegressor(random_state=123)` - Dentro del objeto `forecaster`, se configura un regresor que utilizará un Random Forest Regressor como algoritmo para hacer las predicciones. `random_state=123` establece una semilla para la generación de números aleatorios, lo que hace que los resultados sean reproducibles.\n",
    "\n",
    "3. `lags = 6` - Esto indica que se utilizarán 6 valores anteriores de la serie temporal para predecir el siguiente valor. En otras palabras, estamos configurando un modelo de autoregresión con una ventana de 6 pasos.\n",
    "\n",
    "4. `forecaster.fit(y=datos_train['y'])` - Aquí, el modelo se entrena utilizando los datos de entrenamiento que se encuentran en `datos_train['y']`. Esto significa que el modelo aprenderá a hacer predicciones basadas en la serie de tiempo histórica proporcionada en `datos_train`.\n",
    "\n",
    "5. `forecaster` - Finalmente, se muestra el objeto `forecaster` entrenado."
   ]
  },
  {
   "cell_type": "markdown",
   "id": "990d0e65",
   "metadata": {},
   "source": [
    "## Predicciones\n",
    "\n",
    "Una vez entrenado el modelo, se predicen los datos de test (36 meses a futuro)."
   ]
  },
  {
   "cell_type": "code",
   "execution_count": 14,
   "id": "a8411e37",
   "metadata": {},
   "outputs": [
    {
     "data": {
      "text/plain": [
       "2005-07-01    0.878756\n",
       "2005-08-01    0.882167\n",
       "2005-09-01    0.973184\n",
       "2005-10-01    0.983678\n",
       "2005-11-01    0.849494\n",
       "Freq: MS, Name: pred, dtype: float64"
      ]
     },
     "execution_count": 14,
     "metadata": {},
     "output_type": "execute_result"
    }
   ],
   "source": [
    "# Predicciones\n",
    "# ==============================================================================\n",
    "steps = 36\n",
    "predicciones = forecaster.predict(steps=steps)\n",
    "predicciones.head(5)"
   ]
  },
  {
   "cell_type": "code",
   "execution_count": 15,
   "id": "c75c0f2b",
   "metadata": {},
   "outputs": [
    {
     "data": {
      "image/png": "[encoded data removed]",
      "text/plain": [
       "<Figure size 432x180 with 1 Axes>"
      ]
     },
     "metadata": {},
     "output_type": "display_data"
    }
   ],
   "source": [
    "# Gráfico\n",
    "# ==============================================================================\n",
    "fig, ax = plt.subplots(figsize=(6, 2.5))\n",
    "datos_train['y'].plot(ax=ax, label='train')\n",
    "datos_test['y'].plot(ax=ax, label='test')\n",
    "predicciones.plot(ax=ax, label='predicciones')\n",
    "ax.legend();"
   ]
  },
  {
   "cell_type": "markdown",
   "id": "cad30f3b",
   "metadata": {},
   "source": [
    "## Error de las predicciones en el conjunto de test\n",
    "\n",
    "Se cuantifica el error que comete el modelo en sus predicciones. En este caso, se emplea como métrica el mean squared error (mse)."
   ]
  },
  {
   "cell_type": "code",
   "execution_count": 16,
   "id": "b2ca47a3",
   "metadata": {},
   "outputs": [
    {
     "name": "stdout",
     "output_type": "stream",
     "text": [
      "Error de test (mse): 0.07326833976120374\n"
     ]
    }
   ],
   "source": [
    "# Error test\n",
    "# ==============================================================================\n",
    "error_mse = mean_squared_error(\n",
    "                y_true = datos_test['y'],\n",
    "                y_pred = predicciones\n",
    "            )\n",
    "\n",
    "print(f\"Error de test (mse): {error_mse}\")"
   ]
  },
  {
   "cell_type": "markdown",
   "id": "09c3b324",
   "metadata": {},
   "source": [
    "## Ajuste de hiperparámetros (tuning)\n",
    "\n",
    "El `ForecasterAutoreg` entrenado ha utilizado una ventana temporal de 6 lags y un modelo Random Forest con los hiperparámetros por defecto. Sin embargo, no hay ninguna razón por la que estos valores sean los más adecuados. La librería **Skforecast** dispone de la función `grid_search_forecaster` con la que comparar los resultados obtenidos con múltiples combinaciones de hiperparámetros y lags, e identificar la mejor."
   ]
  },
  {
   "cell_type": "markdown",
   "id": "d856a50d",
   "metadata": {},
   "source": [
    "🖉 Nota\n",
    "\n",
    "El coste computacional del ajuste de hiperparámetros depende en gran medida del enfoque de backtesting elegido para evaluar cada combinación de hiperparámetros. En general, la duración del proceso de ajuste aumenta a medida que crece el número de reentrenamientos implicados en el backtesting. Para acelerar la fase de prototipado, es muy recomendable adoptar una estrategia en dos pasos. En primer lugar, utilizar refit=False durante la búsqueda inicial para reducir el rango de valores. A continuación, focalizarse en la región de interés identificada y aplicar una estrategia de backtesting que cumpla los requisitos específicos del caso de uso. Para una documentación más detallada visitar: [Hyperparameter tuning and lags selection](https://skforecast.org/latest/user_guides/hyperparameter-tuning-and-lags-selection.html)"
   ]
  },
  {
   "cell_type": "code",
   "execution_count": 17,
   "id": "ed25b6e4",
   "metadata": {},
   "outputs": [
    {
     "name": "stdout",
     "output_type": "stream",
     "text": [
      "Number of models compared: 12.\n"
     ]
    },
    {
     "data": {
      "application/vnd.jupyter.widget-view+json": {
       "model_id": "dd7d3e3076484beb9228e6d8012ceef8",
       "version_major": 2,
       "version_minor": 0
      },
      "text/plain": [
       "lags grid:   0%|          | 0/2 [00:00<?, ?it/s]"
      ]
     },
     "metadata": {},
     "output_type": "display_data"
    },
    {
     "data": {
      "application/vnd.jupyter.widget-view+json": {
       "model_id": "",
       "version_major": 2,
       "version_minor": 0
      },
      "text/plain": [
       "params grid:   0%|          | 0/6 [00:00<?, ?it/s]"
      ]
     },
     "metadata": {},
     "output_type": "display_data"
    },
    {
     "name": "stdout",
     "output_type": "stream",
     "text": [
      "`Forecaster` refitted using the best-found lags and parameters, and the whole data set: \n",
      "  Lags: [ 1  2  3  4  5  6  7  8  9 10 11 12 13 14 15 16 17 18 19 20] \n",
      "  Parameters: {'max_depth': 3, 'n_estimators': 500}\n",
      "  Backtesting metric: 0.021992765856921042\n",
      "\n"
     ]
    }
   ],
   "source": [
    "# Grid search de hiperparámetros\n",
    "# ==============================================================================\n",
    "steps = 36\n",
    "forecaster = ForecasterAutoreg(\n",
    "                regressor = RandomForestRegressor(random_state=123),\n",
    "                lags      = 12 # Este valor será remplazado en el grid search\n",
    "             )\n",
    "\n",
    "# Lags utilizados como predictores\n",
    "lags_grid = [10, 20]\n",
    "\n",
    "# Hiperparámetros del regresor\n",
    "param_grid = {'n_estimators': [100, 500],\n",
    "              'max_depth': [3, 5, 10]}\n",
    "\n",
    "resultados_grid = grid_search_forecaster(\n",
    "                        forecaster         = forecaster,\n",
    "                        y                  = datos_train['y'],\n",
    "                        param_grid         = param_grid,\n",
    "                        lags_grid          = lags_grid,\n",
    "                        steps              = steps,\n",
    "                        refit              = False,\n",
    "                        metric             = 'mean_squared_error',\n",
    "                        initial_train_size = int(len(datos_train)*0.5),\n",
    "                        fixed_train_size   = False,\n",
    "                        return_best        = True,\n",
    "                        n_jobs             = 'auto',\n",
    "                        verbose            = False\n",
    "                  )"
   ]
  },
  {
   "cell_type": "code",
   "execution_count": 18,
   "id": "d92923d9",
   "metadata": {},
   "outputs": [
    {
     "data": {
      "text/html": [
       "<div>\n",
       "<style scoped>\n",
       "    .dataframe tbody tr th:only-of-type {\n",
       "        vertical-align: middle;\n",
       "    }\n",
       "\n",
       "    .dataframe tbody tr th {\n",
       "        vertical-align: top;\n",
       "    }\n",
       "\n",
       "    .dataframe thead th {\n",
       "        text-align: right;\n",
       "    }\n",
       "</style>\n",
       "<table border=\"1\" class=\"dataframe\">\n",
       "  <thead>\n",
       "    <tr style=\"text-align: right;\">\n",
       "      <th></th>\n",
       "      <th>lags</th>\n",
       "      <th>params</th>\n",
       "      <th>mean_squared_error</th>\n",
       "      <th>max_depth</th>\n",
       "      <th>n_estimators</th>\n",
       "    </tr>\n",
       "  </thead>\n",
       "  <tbody>\n",
       "    <tr>\n",
       "      <th>7</th>\n",
       "      <td>[1, 2, 3, 4, 5, 6, 7, 8, 9, 10, 11, 12, 13, 14...</td>\n",
       "      <td>{'max_depth': 3, 'n_estimators': 500}</td>\n",
       "      <td>0.021993</td>\n",
       "      <td>3</td>\n",
       "      <td>500</td>\n",
       "    </tr>\n",
       "    <tr>\n",
       "      <th>9</th>\n",
       "      <td>[1, 2, 3, 4, 5, 6, 7, 8, 9, 10, 11, 12, 13, 14...</td>\n",
       "      <td>{'max_depth': 5, 'n_estimators': 500}</td>\n",
       "      <td>0.022114</td>\n",
       "      <td>5</td>\n",
       "      <td>500</td>\n",
       "    </tr>\n",
       "    <tr>\n",
       "      <th>11</th>\n",
       "      <td>[1, 2, 3, 4, 5, 6, 7, 8, 9, 10, 11, 12, 13, 14...</td>\n",
       "      <td>{'max_depth': 10, 'n_estimators': 500}</td>\n",
       "      <td>0.022224</td>\n",
       "      <td>10</td>\n",
       "      <td>500</td>\n",
       "    </tr>\n",
       "    <tr>\n",
       "      <th>8</th>\n",
       "      <td>[1, 2, 3, 4, 5, 6, 7, 8, 9, 10, 11, 12, 13, 14...</td>\n",
       "      <td>{'max_depth': 5, 'n_estimators': 100}</td>\n",
       "      <td>0.022530</td>\n",
       "      <td>5</td>\n",
       "      <td>100</td>\n",
       "    </tr>\n",
       "    <tr>\n",
       "      <th>6</th>\n",
       "      <td>[1, 2, 3, 4, 5, 6, 7, 8, 9, 10, 11, 12, 13, 14...</td>\n",
       "      <td>{'max_depth': 3, 'n_estimators': 100}</td>\n",
       "      <td>0.022569</td>\n",
       "      <td>3</td>\n",
       "      <td>100</td>\n",
       "    </tr>\n",
       "    <tr>\n",
       "      <th>10</th>\n",
       "      <td>[1, 2, 3, 4, 5, 6, 7, 8, 9, 10, 11, 12, 13, 14...</td>\n",
       "      <td>{'max_depth': 10, 'n_estimators': 100}</td>\n",
       "      <td>0.023400</td>\n",
       "      <td>10</td>\n",
       "      <td>100</td>\n",
       "    </tr>\n",
       "    <tr>\n",
       "      <th>0</th>\n",
       "      <td>[1, 2, 3, 4, 5, 6, 7, 8, 9, 10]</td>\n",
       "      <td>{'max_depth': 3, 'n_estimators': 100}</td>\n",
       "      <td>0.063144</td>\n",
       "      <td>3</td>\n",
       "      <td>100</td>\n",
       "    </tr>\n",
       "    <tr>\n",
       "      <th>1</th>\n",
       "      <td>[1, 2, 3, 4, 5, 6, 7, 8, 9, 10]</td>\n",
       "      <td>{'max_depth': 3, 'n_estimators': 500}</td>\n",
       "      <td>0.064775</td>\n",
       "      <td>3</td>\n",
       "      <td>500</td>\n",
       "    </tr>\n",
       "    <tr>\n",
       "      <th>4</th>\n",
       "      <td>[1, 2, 3, 4, 5, 6, 7, 8, 9, 10]</td>\n",
       "      <td>{'max_depth': 10, 'n_estimators': 100}</td>\n",
       "      <td>0.066307</td>\n",
       "      <td>10</td>\n",
       "      <td>100</td>\n",
       "    </tr>\n",
       "    <tr>\n",
       "      <th>2</th>\n",
       "      <td>[1, 2, 3, 4, 5, 6, 7, 8, 9, 10]</td>\n",
       "      <td>{'max_depth': 5, 'n_estimators': 100}</td>\n",
       "      <td>0.067151</td>\n",
       "      <td>5</td>\n",
       "      <td>100</td>\n",
       "    </tr>\n",
       "    <tr>\n",
       "      <th>3</th>\n",
       "      <td>[1, 2, 3, 4, 5, 6, 7, 8, 9, 10]</td>\n",
       "      <td>{'max_depth': 5, 'n_estimators': 500}</td>\n",
       "      <td>0.067227</td>\n",
       "      <td>5</td>\n",
       "      <td>500</td>\n",
       "    </tr>\n",
       "    <tr>\n",
       "      <th>5</th>\n",
       "      <td>[1, 2, 3, 4, 5, 6, 7, 8, 9, 10]</td>\n",
       "      <td>{'max_depth': 10, 'n_estimators': 500}</td>\n",
       "      <td>0.068109</td>\n",
       "      <td>10</td>\n",
       "      <td>500</td>\n",
       "    </tr>\n",
       "  </tbody>\n",
       "</table>\n",
       "</div>"
      ],
      "text/plain": [
       "                                                 lags  \\\n",
       "7   [1, 2, 3, 4, 5, 6, 7, 8, 9, 10, 11, 12, 13, 14...   \n",
       "9   [1, 2, 3, 4, 5, 6, 7, 8, 9, 10, 11, 12, 13, 14...   \n",
       "11  [1, 2, 3, 4, 5, 6, 7, 8, 9, 10, 11, 12, 13, 14...   \n",
       "8   [1, 2, 3, 4, 5, 6, 7, 8, 9, 10, 11, 12, 13, 14...   \n",
       "6   [1, 2, 3, 4, 5, 6, 7, 8, 9, 10, 11, 12, 13, 14...   \n",
       "10  [1, 2, 3, 4, 5, 6, 7, 8, 9, 10, 11, 12, 13, 14...   \n",
       "0                     [1, 2, 3, 4, 5, 6, 7, 8, 9, 10]   \n",
       "1                     [1, 2, 3, 4, 5, 6, 7, 8, 9, 10]   \n",
       "4                     [1, 2, 3, 4, 5, 6, 7, 8, 9, 10]   \n",
       "2                     [1, 2, 3, 4, 5, 6, 7, 8, 9, 10]   \n",
       "3                     [1, 2, 3, 4, 5, 6, 7, 8, 9, 10]   \n",
       "5                     [1, 2, 3, 4, 5, 6, 7, 8, 9, 10]   \n",
       "\n",
       "                                    params  mean_squared_error  max_depth  \\\n",
       "7    {'max_depth': 3, 'n_estimators': 500}            0.021993          3   \n",
       "9    {'max_depth': 5, 'n_estimators': 500}            0.022114          5   \n",
       "11  {'max_depth': 10, 'n_estimators': 500}            0.022224         10   \n",
       "8    {'max_depth': 5, 'n_estimators': 100}            0.022530          5   \n",
       "6    {'max_depth': 3, 'n_estimators': 100}            0.022569          3   \n",
       "10  {'max_depth': 10, 'n_estimators': 100}            0.023400         10   \n",
       "0    {'max_depth': 3, 'n_estimators': 100}            0.063144          3   \n",
       "1    {'max_depth': 3, 'n_estimators': 500}            0.064775          3   \n",
       "4   {'max_depth': 10, 'n_estimators': 100}            0.066307         10   \n",
       "2    {'max_depth': 5, 'n_estimators': 100}            0.067151          5   \n",
       "3    {'max_depth': 5, 'n_estimators': 500}            0.067227          5   \n",
       "5   {'max_depth': 10, 'n_estimators': 500}            0.068109         10   \n",
       "\n",
       "    n_estimators  \n",
       "7            500  \n",
       "9            500  \n",
       "11           500  \n",
       "8            100  \n",
       "6            100  \n",
       "10           100  \n",
       "0            100  \n",
       "1            500  \n",
       "4            100  \n",
       "2            100  \n",
       "3            500  \n",
       "5            500  "
      ]
     },
     "execution_count": 18,
     "metadata": {},
     "output_type": "execute_result"
    }
   ],
   "source": [
    "# Resultados Grid Search\n",
    "# ==============================================================================\n",
    "resultados_grid"
   ]
  },
  {
   "cell_type": "markdown",
   "id": "6eaf9be9",
   "metadata": {},
   "source": [
    "Los mejores resultados se obtienen si se utiliza una ventana temporal de 20 lags y una configuración de Random Forest {'max_depth': 3, 'n_estimators': 500}."
   ]
  },
  {
   "cell_type": "markdown",
   "id": "8ddea948",
   "metadata": {},
   "source": [
    "# Modelo final\n",
    "\n",
    "Finalmente, se entrena de nuevo un `ForecasterAutoreg` con la configuración óptima encontrada mediante validación. Este paso no es necesario si se indica `return_best = True` en la función `grid_search_forecaster`."
   ]
  },
  {
   "cell_type": "code",
   "execution_count": 19,
   "id": "8e50611f",
   "metadata": {},
   "outputs": [],
   "source": [
    "# Crear y entrenar forecaster con mejores hiperparámetros\n",
    "# ==============================================================================\n",
    "regressor = RandomForestRegressor(max_depth=3, n_estimators=500, random_state=123)\n",
    "forecaster = ForecasterAutoreg(\n",
    "                regressor = regressor,\n",
    "                lags      = 20\n",
    "             )\n",
    "\n",
    "forecaster.fit(y=datos_train['y'])"
   ]
  },
  {
   "cell_type": "code",
   "execution_count": 20,
   "id": "e5f997de",
   "metadata": {},
   "outputs": [],
   "source": [
    "# Predicciones\n",
    "# ==============================================================================\n",
    "predicciones = forecaster.predict(steps=steps)"
   ]
  },
  {
   "cell_type": "code",
   "execution_count": 21,
   "id": "3c7ec15c",
   "metadata": {},
   "outputs": [
    {
     "data": {
      "image/png": "[encoded data removed]",
      "text/plain": [
       "<Figure size 432x180 with 1 Axes>"
      ]
     },
     "metadata": {},
     "output_type": "display_data"
    }
   ],
   "source": [
    "# Gráfico\n",
    "# ==============================================================================\n",
    "fig, ax = plt.subplots(figsize=(6, 2.5))\n",
    "datos_train['y'].plot(ax=ax, label='train')\n",
    "datos_test['y'].plot(ax=ax, label='test')\n",
    "predicciones.plot(ax=ax, label='predicciones')\n",
    "ax.legend();"
   ]
  },
  {
   "cell_type": "code",
   "execution_count": 22,
   "id": "dbfac287",
   "metadata": {},
   "outputs": [
    {
     "name": "stdout",
     "output_type": "stream",
     "text": [
      "Error de test (mse) 0.004392699665157793\n"
     ]
    }
   ],
   "source": [
    "# Error de test\n",
    "# ==============================================================================\n",
    "error_mse = mean_squared_error(\n",
    "                y_true = datos_test['y'],\n",
    "                y_pred = predicciones\n",
    "            )\n",
    "\n",
    "print(f\"Error de test (mse) {error_mse}\")"
   ]
  },
  {
   "cell_type": "markdown",
   "id": "705366ad",
   "metadata": {},
   "source": [
    "Con la combinación óptima de hiperparámetros se consigue reducir notablemente el error de test."
   ]
  },
  {
   "cell_type": "markdown",
   "id": "134dd2dc",
   "metadata": {},
   "source": [
    "# Backtesting\n",
    "\n",
    "El proceso de backtesting consiste en evaluar el comportamiento de un modelo predictivo al aplicarlo de forma retrospectiva sobre datos históricos. Por lo tanto, es una estrategia de validación que permite cuantificar la capacidad predictiva de un modelo"
   ]
  },
  {
   "cell_type": "markdown",
   "id": "b2228e2b",
   "metadata": {},
   "source": [
    "🖉 Nota\n",
    "\n",
    "Para garantizar una evaluación precisa de su modelo y ganar confianza en su rendimiento predictivo con nuevos datos, es fundamental emplear una estrategia de backtesting adecuada. Factores como las características del caso de uso, los recursos informáticos disponibles y los intervalos de tiempo entre predicciones deben tenerse en cuenta para determinar qué estrategia utilizar. En términos generales, cuanto más se parezca el proceso de backtesting al escenario real en el que se utilizará el modelo, más fiable será la métrica estimada. Para obtener más consejos sobre estrategias de backtesting."
   ]
  },
  {
   "cell_type": "markdown",
   "id": "ec4f1444",
   "metadata": {},
   "source": [
    "## Backtesting con reentrenamiento\n",
    "\n",
    "El modelo se entrena cada vez antes de realizar las predicciones, de esta forma, se incorpora toda la información disponible hasta el momento. Se trata de una adaptación del proceso de cross-validation en el que, en lugar de hacer un reparto aleatorio de las observaciones, el conjunto de entrenamiento se incrementa de manera secuencial, manteniendo el orden temporal de los datos."
   ]
  },
  {
   "cell_type": "markdown",
   "id": "6277dec1",
   "metadata": {},
   "source": [
    "## Backtesting con reentrenamiento y tamaño de entrenamiento constante\n",
    "\n",
    "Similar a la estrategia anterior, pero, en este caso, el tamaño del conjunto de entrenamiento no se incrementa sino que la ventana de tiempo que abarca se desplaza. Esta estrategia se conoce también como time series cross-validation o walk-forward validation."
   ]
  },
  {
   "cell_type": "markdown",
   "id": "72d0fdca",
   "metadata": {},
   "source": [
    "## Backtesting con reentrenamiento cada n periodos (intermitente)\n",
    "\n",
    "El modelo se reentrena de forma intermitente cada  n\n",
    "  periodos de predicción"
   ]
  },
  {
   "cell_type": "markdown",
   "id": "4582c2f6",
   "metadata": {},
   "source": [
    "## Backtesting sin reentrenamiento\n",
    "\n",
    "Con esta estrategia, el modelo se entrena una única vez con un conjunto inicial y se realizan las predicciones de forma secuencial sin actualizar el modelo y siguiendo el orden temporal de los datos. Esta estrategia tiene la ventaja de ser mucho más rápida puesto que el modelo solo se entrena una vez. La desventaja es que el modelo no incorpora la última información disponible por lo que puede perder capacidad predictiva con el tiempo."
   ]
  },
  {
   "cell_type": "markdown",
   "id": "88abc989",
   "metadata": {},
   "source": [
    "La librería skforecast dispone de múltiples estrategias de backtesting mencionadas. Independientemente de cuál se utilice, es importante no incluir los datos de test en el proceso de búsqueda para no caer en problemas de overfitting.\n",
    "\n",
    "Para este ejemplo, se sigue una estrategia de backtesting con reentrenamiento. Internamente, el proceso seguido por la función es el siguiente:\n",
    "\n",
    "En la primera iteración, el modelo se entrena con las observaciones seleccionadas para el entrenamiento inicial (en este caso, 87). Después, las siguientes 36 observaciones se utilizan para validar las predicciones de este primer modelo (también 36).\n",
    "\n",
    "En la segunda iteración, se reentrena el modelo añadiendo, al conjunto de entrenamiento inicial, las 36 observaciones de validación anteriores (87 + 36). De la misma manera, se establece como nuevo conjunto de validación las 36 observaciones siguientes.\n",
    "\n",
    "Este proceso se repite hasta que se utilizan todas las observaciones disponibles. Siguiendo esta estrategia, el conjunto de entrenamiento aumenta en cada iteración con tantas observaciones como steps se estén prediciendo."
   ]
  },
  {
   "cell_type": "code",
   "execution_count": 23,
   "id": "f05f25ef",
   "metadata": {},
   "outputs": [
    {
     "name": "stdout",
     "output_type": "stream",
     "text": [
      "Information of backtesting process\n",
      "----------------------------------\n",
      "Number of observations used for initial training: 87\n",
      "Number of observations used for backtesting: 108\n",
      "    Number of folds: 3\n",
      "    Number of steps per fold: 36\n",
      "    Number of steps to exclude from the end of each train set before test (gap): 0\n",
      "\n",
      "Fold: 0\n",
      "    Training:   1992-04-01 00:00:00 -- 1999-06-01 00:00:00  (n=87)\n",
      "    Validation: 1999-07-01 00:00:00 -- 2002-06-01 00:00:00  (n=36)\n",
      "Fold: 1\n",
      "    Training:   1992-04-01 00:00:00 -- 2002-06-01 00:00:00  (n=123)\n",
      "    Validation: 2002-07-01 00:00:00 -- 2005-06-01 00:00:00  (n=36)\n",
      "Fold: 2\n",
      "    Training:   1992-04-01 00:00:00 -- 2005-06-01 00:00:00  (n=159)\n",
      "    Validation: 2005-07-01 00:00:00 -- 2008-06-01 00:00:00  (n=36)\n",
      "\n"
     ]
    },
    {
     "data": {
      "application/vnd.jupyter.widget-view+json": {
       "model_id": "3e3304b36ec64c49a23585bf1bca3ca2",
       "version_major": 2,
       "version_minor": 0
      },
      "text/plain": [
       "  0%|          | 0/3 [00:00<?, ?it/s]"
      ]
     },
     "metadata": {},
     "output_type": "display_data"
    },
    {
     "name": "stdout",
     "output_type": "stream",
     "text": [
      "Error de backtest: 0.010578977232387663\n"
     ]
    }
   ],
   "source": [
    "# Backtesting\n",
    "# ==============================================================================\n",
    "steps = 36\n",
    "n_backtesting = 36*3 # Se separan para el backtest los últimos 9 años\n",
    "\n",
    "metrica, predicciones_backtest = backtesting_forecaster(\n",
    "                                    forecaster         = forecaster,\n",
    "                                    y                  = datos['y'],\n",
    "                                    initial_train_size = len(datos) - n_backtesting,\n",
    "                                    fixed_train_size   = False,\n",
    "                                    steps              = steps,\n",
    "                                    refit              = True,\n",
    "                                    metric             = 'mean_squared_error',\n",
    "                                    verbose            = True\n",
    "                                 )\n",
    "\n",
    "print(f\"Error de backtest: {metrica}\")"
   ]
  },
  {
   "cell_type": "code",
   "execution_count": 24,
   "id": "2d2f8a4a",
   "metadata": {},
   "outputs": [
    {
     "data": {
      "image/png": "[encoded data removed]",
      "text/plain": [
       "<Figure size 432x180 with 1 Axes>"
      ]
     },
     "metadata": {},
     "output_type": "display_data"
    }
   ],
   "source": [
    "fig, ax = plt.subplots(figsize=(6, 2.5))\n",
    "datos.loc[predicciones_backtest.index, 'y'].plot(ax=ax, label='test')\n",
    "predicciones_backtest.plot(ax=ax, label='predicciones')\n",
    "ax.legend();"
   ]
  },
  {
   "cell_type": "code",
   "execution_count": null,
   "id": "18804ca0",
   "metadata": {},
   "outputs": [],
   "source": []
  }
 ],
 "metadata": {
  "kernelspec": {
   "display_name": "Python 3 (ipykernel)",
   "language": "python",
   "name": "python3"
  },
  "language_info": {
   "codemirror_mode": {
    "name": "ipython",
    "version": 3
   },
   "file_extension": ".py",
   "mimetype": "text/x-python",
   "name": "python",
   "nbconvert_exporter": "python",
   "pygments_lexer": "ipython3",
   "version": "3.9.12"
  }
 },
 "nbformat": 4,
 "nbformat_minor": 5
}
